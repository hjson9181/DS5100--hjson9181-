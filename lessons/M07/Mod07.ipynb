{
 "cells": [
  {
   "cell_type": "raw",
   "id": "42edd27f-95c9-415d-915f-ae371339a771",
   "metadata": {},
   "source": [
    "Exercise 7.1"
   ]
  },
  {
   "cell_type": "code",
   "execution_count": 8,
   "id": "c77ab9c1-de26-47d5-bf94-929023d83cf7",
   "metadata": {
    "tags": []
   },
   "outputs": [
    {
     "data": {
      "text/plain": [
       "('foo', 'Today is Tuesday')"
      ]
     },
     "execution_count": 8,
     "metadata": {},
     "output_type": "execute_result"
    }
   ],
   "source": [
    "class MyClass():\n",
    "    \"\"\"Example class for Exercise 7.1\"\"\"\n",
    "    \n",
    "    att1 = \"foo\"\n",
    "    \n",
    "    def __init__(self, att2):\n",
    "        self.att2 = att2\n",
    "    \n",
    "    def add(self): \n",
    "        self.msg=self.att1+ ' ' +self.att2 \n",
    "        print(self.msg)\n",
    "        \n",
    "sentence=MyClass(\"Today is Tuesday\")\n",
    "sentence.att1, sentence.att2"
   ]
  },
  {
   "cell_type": "code",
   "execution_count": 6,
   "id": "a582f049-31b1-47fc-9a94-a3f3e99448d6",
   "metadata": {
    "tags": []
   },
   "outputs": [
    {
     "name": "stdout",
     "output_type": "stream",
     "text": [
      "foo Today is Tuesday\n"
     ]
    }
   ],
   "source": [
    "sentence.add()"
   ]
  },
  {
   "cell_type": "code",
   "execution_count": 11,
   "id": "d5feac06-81dc-4846-8fe8-751524100aba",
   "metadata": {
    "tags": []
   },
   "outputs": [],
   "source": [
    "import pandas as pd \n",
    "\n",
    "class Student:\n",
    "    \"\"\"Contains a student's grades for a given class\"\"\"\n",
    "   \n",
    "    def __init__(self, student_name, student_id): \n",
    "        self.name=student_name\n",
    "        self.id=student_id\n",
    "        self.grades=pd.Series(dtype=float)\n",
    "        \n",
    "    def add_grade(self, assignment, grade): \n",
    "        self.grades.loc[assignment]=grade \n",
    "\n",
    "    def show_grades(self): \n",
    "        self.grades.plot.bar(title=f\"Grades for {self.name} ({self.id})\")   \n",
    "    "
   ]
  },
  {
   "cell_type": "code",
   "execution_count": 12,
   "id": "97e304de-4219-452a-83bd-be638df18763",
   "metadata": {
    "tags": []
   },
   "outputs": [
    {
     "ename": "NameError",
     "evalue": "name 'student' is not defined",
     "output_type": "error",
     "traceback": [
      "\u001b[0;31m---------------------------------------------------------------------------\u001b[0m",
      "\u001b[0;31mNameError\u001b[0m                                 Traceback (most recent call last)",
      "Cell \u001b[0;32mIn[12], line 2\u001b[0m\n\u001b[1;32m      1\u001b[0m student1\u001b[38;5;241m=\u001b[39mStudent(\u001b[38;5;124m\"\u001b[39m\u001b[38;5;124mHaejin Son\u001b[39m\u001b[38;5;124m\"\u001b[39m,\u001b[38;5;124m'\u001b[39m\u001b[38;5;124mumw7eg\u001b[39m\u001b[38;5;124m'\u001b[39m)\n\u001b[0;32m----> 2\u001b[0m \u001b[43mstudent\u001b[49m\u001b[38;5;241m.\u001b[39mshow_grades()\n",
      "\u001b[0;31mNameError\u001b[0m: name 'student' is not defined"
     ]
    }
   ],
   "source": [
    "student1=Student(\"Haejin Son\",'umw7eg')\n",
    "student.show_grades()"
   ]
  },
  {
   "cell_type": "code",
   "execution_count": 15,
   "id": "a20620c3-795e-4b03-b1ca-d5e9531f918e",
   "metadata": {
    "tags": []
   },
   "outputs": [],
   "source": [
    "from math import pi\n",
    "\n",
    "class Circle: \n",
    "    \n",
    "    def __init__(self,radius):\n",
    "        self.radius=radius\n",
    "\n",
    "    def get_area(self):\n",
    "        self.area=round(self.radius**2*pi, 2) \n",
    "\n",
    "    def get_circumference(self): \n",
    "        self.circumference=round(2*self.radius*pi,2)"
   ]
  },
  {
   "cell_type": "code",
   "execution_count": 17,
   "id": "3a90309b-0c4f-4298-8218-efbf2f87c446",
   "metadata": {
    "tags": []
   },
   "outputs": [],
   "source": [
    "my_circle=Circle(8)\n",
    "my_circle.get_area()\n",
    "my_circle.get_circumference()"
   ]
  },
  {
   "cell_type": "code",
   "execution_count": 18,
   "id": "2ed80b0d-3a58-44bd-8152-e52eac9741c1",
   "metadata": {
    "tags": []
   },
   "outputs": [
    {
     "name": "stdout",
     "output_type": "stream",
     "text": [
      "A: 201.06\n"
     ]
    }
   ],
   "source": [
    "print('A:', my_circle.area)"
   ]
  }
 ],
 "metadata": {
  "kernelspec": {
   "display_name": "Python 3",
   "language": "python",
   "name": "python3"
  },
  "language_info": {
   "codemirror_mode": {
    "name": "ipython",
    "version": 3
   },
   "file_extension": ".py",
   "mimetype": "text/x-python",
   "name": "python",
   "nbconvert_exporter": "python",
   "pygments_lexer": "ipython3",
   "version": "3.11.4"
  }
 },
 "nbformat": 4,
 "nbformat_minor": 5
}
