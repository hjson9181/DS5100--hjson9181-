{
 "cells": [
  {
   "cell_type": "markdown",
   "id": "9c25e772-69f5-489c-9f99-b955f9645752",
   "metadata": {},
   "source": [
    "in-class exercise"
   ]
  },
  {
   "cell_type": "code",
   "execution_count": 8,
   "id": "460ba744-77a2-4ee0-8771-b6e732e52ed7",
   "metadata": {
    "tags": []
   },
   "outputs": [
    {
     "ename": "SyntaxError",
     "evalue": "'(' was never closed (408975.py, line 2)",
     "output_type": "error",
     "traceback": [
      "\u001b[0;36m  Cell \u001b[0;32mIn[8], line 2\u001b[0;36m\u001b[0m\n\u001b[0;31m    print(mystr[:3]\u001b[0m\n\u001b[0m         ^\u001b[0m\n\u001b[0;31mSyntaxError\u001b[0m\u001b[0;31m:\u001b[0m '(' was never closed\n"
     ]
    }
   ],
   "source": [
    "mystring=[python]\n",
    "print(mystr[:3]\n",
    "print(mystr[-3:])"
   ]
  },
  {
   "cell_type": "code",
   "execution_count": 4,
   "id": "83dfb771-7dda-43bd-83ec-09fe9e6f3f29",
   "metadata": {
    "tags": []
   },
   "outputs": [
    {
     "name": "stdout",
     "output_type": "stream",
     "text": [
      "sec\n"
     ]
    }
   ],
   "source": [
    "mylist=[]\n",
    "mylist.append('first')\n",
    "mylist.append('sec')\n",
    "mylist.append('third')\n",
    "print(mylist[1])"
   ]
  },
  {
   "cell_type": "code",
   "execution_count": 9,
   "id": "9cd7a8e3-4838-408d-8281-9fb97db53965",
   "metadata": {
    "tags": []
   },
   "outputs": [
    {
     "name": "stdout",
     "output_type": "stream",
     "text": [
      "second\n"
     ]
    }
   ],
   "source": [
    "mylist=['first','second','third']\n",
    "print(mylist[1])"
   ]
  },
  {
   "cell_type": "code",
   "execution_count": 11,
   "id": "447d47bc-d892-4278-8059-5b08773fd2ae",
   "metadata": {
    "tags": []
   },
   "outputs": [],
   "source": [
    "mytuple=1,2,3"
   ]
  },
  {
   "cell_type": "code",
   "execution_count": 12,
   "id": "ab0fb11a-1c8c-4b9a-90d5-e1c29d8c9117",
   "metadata": {
    "tags": []
   },
   "outputs": [],
   "source": [
    "mytuple=(1,2,3)"
   ]
  },
  {
   "cell_type": "code",
   "execution_count": 13,
   "id": "1fc489f5-1a24-4ac6-8694-b00880f54fa1",
   "metadata": {
    "tags": []
   },
   "outputs": [],
   "source": [
    "mytuple=tuple([1,2,3])"
   ]
  },
  {
   "cell_type": "code",
   "execution_count": 14,
   "id": "0909f6a5-1835-4a2d-8c60-e4be4c5cda39",
   "metadata": {
    "tags": []
   },
   "outputs": [
    {
     "ename": "AttributeError",
     "evalue": "'tuple' object has no attribute 'append'",
     "output_type": "error",
     "traceback": [
      "\u001b[0;31m---------------------------------------------------------------------------\u001b[0m",
      "\u001b[0;31mAttributeError\u001b[0m                            Traceback (most recent call last)",
      "Cell \u001b[0;32mIn[14], line 1\u001b[0m\n\u001b[0;32m----> 1\u001b[0m \u001b[43mmytuple\u001b[49m\u001b[38;5;241;43m.\u001b[39;49m\u001b[43mappend\u001b[49m[\u001b[38;5;241m4\u001b[39m]\n",
      "\u001b[0;31mAttributeError\u001b[0m: 'tuple' object has no attribute 'append'"
     ]
    }
   ],
   "source": [
    "mytuple.append[4]"
   ]
  },
  {
   "cell_type": "code",
   "execution_count": 18,
   "id": "0ed9989f-9b8f-41cf-be0b-6700535e2ef8",
   "metadata": {
    "tags": []
   },
   "outputs": [],
   "source": [
    "myset=[]\n",
    "mystring=[]"
   ]
  },
  {
   "cell_type": "code",
   "execution_count": 19,
   "id": "931866c1-be4b-40d6-a1a1-40c3475c2df9",
   "metadata": {
    "tags": []
   },
   "outputs": [],
   "source": [
    "val='error'\n",
    "levels={'warn','error','critical'}"
   ]
  },
  {
   "cell_type": "code",
   "execution_count": 20,
   "id": "aeccbc2e-0e3a-49ff-9243-f184d593eccb",
   "metadata": {
    "tags": []
   },
   "outputs": [
    {
     "data": {
      "text/plain": [
       "True"
      ]
     },
     "execution_count": 20,
     "metadata": {},
     "output_type": "execute_result"
    }
   ],
   "source": [
    "val in levels"
   ]
  },
  {
   "cell_type": "code",
   "execution_count": 21,
   "id": "e64ea3c5-1c15-4325-9b6a-fbaf776c44c9",
   "metadata": {
    "tags": []
   },
   "outputs": [
    {
     "data": {
      "text/plain": [
       "{'critical', 'error', 'warn'}"
      ]
     },
     "execution_count": 21,
     "metadata": {},
     "output_type": "execute_result"
    }
   ],
   "source": [
    "levels={'warn','error','critical','warn','error','critical'}\n",
    "levels"
   ]
  },
  {
   "cell_type": "code",
   "execution_count": 22,
   "id": "d539e6e1-fc77-4735-a272-1c56636daf9f",
   "metadata": {
    "tags": []
   },
   "outputs": [],
   "source": [
    "name_age={\n",
    "    'amy':10,\n",
    "    'susan':9,\n",
    "    'matt':3\n",
    "}"
   ]
  },
  {
   "cell_type": "code",
   "execution_count": 25,
   "id": "d37a6c94-7a1b-4c7b-b6d1-3bb26d26df73",
   "metadata": {
    "tags": []
   },
   "outputs": [
    {
     "ename": "SyntaxError",
     "evalue": "invalid syntax. Perhaps you forgot a comma? (1979464689.py, line 1)",
     "output_type": "error",
     "traceback": [
      "\u001b[0;36m  Cell \u001b[0;32mIn[25], line 1\u001b[0;36m\u001b[0m\n\u001b[0;31m    print('name_age('amy') =', name_age.get('amy'))\u001b[0m\n\u001b[0m          ^\u001b[0m\n\u001b[0;31mSyntaxError\u001b[0m\u001b[0;31m:\u001b[0m invalid syntax. Perhaps you forgot a comma?\n"
     ]
    }
   ],
   "source": [
    "print('name_age('amy') =', name_age.get('amy'))"
   ]
  },
  {
   "cell_type": "code",
   "execution_count": 28,
   "id": "2d2d5a20-bc76-4eca-829b-6cecd7a5f210",
   "metadata": {
    "tags": []
   },
   "outputs": [],
   "source": [
    "names=list(name_age.keys())"
   ]
  },
  {
   "cell_type": "code",
   "execution_count": 31,
   "id": "643d121a-fac9-44c6-977f-bf01484d7fc4",
   "metadata": {
    "tags": []
   },
   "outputs": [
    {
     "name": "stdout",
     "output_type": "stream",
     "text": [
      "names: ['amy', 'susan', 'matt']\n"
     ]
    }
   ],
   "source": [
    "print('names:',names)"
   ]
  },
  {
   "cell_type": "code",
   "execution_count": 34,
   "id": "9437b52b-a0e2-4f57-bc1c-c790207818c5",
   "metadata": {
    "tags": []
   },
   "outputs": [],
   "source": [
    "mystring = \"The quick brown fox jumped over the lazy dogs\"\n",
    "mystring1 = mystring.replace('.','')\n",
    "mystring2 = mystring1.lower()\n",
    "mystring3 = mystring2.split()\n",
    "myset1 = set(mystring3)"
   ]
  },
  {
   "cell_type": "code",
   "execution_count": 36,
   "id": "757cf693-e8e2-41d7-a4ce-5f9da3090b1a",
   "metadata": {
    "tags": []
   },
   "outputs": [
    {
     "data": {
      "text/plain": [
       "{'brown', 'dogs', 'fox', 'jumped', 'lazy', 'over', 'quick', 'the'}"
      ]
     },
     "execution_count": 36,
     "metadata": {},
     "output_type": "execute_result"
    }
   ],
   "source": [
    "myset1"
   ]
  },
  {
   "cell_type": "code",
   "execution_count": 38,
   "id": "43760629-52d2-445f-8201-09f130ef1ccc",
   "metadata": {
    "tags": []
   },
   "outputs": [
    {
     "data": {
      "text/plain": [
       "['brown', 'dogs', 'fox', 'jumped', 'lazy', 'over', 'quick', 'the', 'the']"
      ]
     },
     "execution_count": 38,
     "metadata": {},
     "output_type": "execute_result"
    }
   ],
   "source": [
    "sorted(mystring3)"
   ]
  },
  {
   "cell_type": "code",
   "execution_count": null,
   "id": "54c652ed-3a49-43e4-abdb-47c0a750ee3d",
   "metadata": {},
   "outputs": [],
   "source": []
  },
  {
   "cell_type": "code",
   "execution_count": null,
   "id": "a27a645e-7195-48dd-a715-59175426eeff",
   "metadata": {},
   "outputs": [],
   "source": []
  },
  {
   "cell_type": "code",
   "execution_count": null,
   "id": "6d298afc-f069-4858-878f-79c9b6d1906f",
   "metadata": {},
   "outputs": [],
   "source": []
  },
  {
   "cell_type": "code",
   "execution_count": null,
   "id": "a90af1c1-152f-4626-bb00-c2aa9311de57",
   "metadata": {},
   "outputs": [],
   "source": []
  },
  {
   "cell_type": "code",
   "execution_count": null,
   "id": "d38853a2-fd86-48c8-b75b-e72a65f893a0",
   "metadata": {},
   "outputs": [],
   "source": []
  },
  {
   "cell_type": "code",
   "execution_count": null,
   "id": "26091c25-2b89-4555-92f1-c9ac3275176a",
   "metadata": {},
   "outputs": [],
   "source": []
  },
  {
   "cell_type": "code",
   "execution_count": null,
   "id": "35e5fa42-ab15-47b5-97de-a258ba4c7e28",
   "metadata": {},
   "outputs": [],
   "source": []
  },
  {
   "cell_type": "code",
   "execution_count": null,
   "id": "b10d2204-812c-4956-b470-df711c870753",
   "metadata": {},
   "outputs": [],
   "source": []
  },
  {
   "cell_type": "code",
   "execution_count": null,
   "id": "f8ce09b0-725f-48c6-8d21-08e6b3cd7436",
   "metadata": {},
   "outputs": [],
   "source": []
  },
  {
   "cell_type": "code",
   "execution_count": null,
   "id": "b1164731-67c2-44cb-9726-53fa3511ea3e",
   "metadata": {},
   "outputs": [],
   "source": []
  },
  {
   "cell_type": "code",
   "execution_count": null,
   "id": "496f8206-3e78-4e02-ba37-edb66856e5c6",
   "metadata": {},
   "outputs": [],
   "source": []
  },
  {
   "cell_type": "code",
   "execution_count": null,
   "id": "535f2967-b701-44d8-8bea-79c2b76c3906",
   "metadata": {},
   "outputs": [],
   "source": []
  },
  {
   "cell_type": "code",
   "execution_count": null,
   "id": "606de12e-abd8-488b-9d07-db50b597f8db",
   "metadata": {},
   "outputs": [],
   "source": []
  },
  {
   "cell_type": "code",
   "execution_count": null,
   "id": "2c3db655-9bb0-4d81-a6a0-af699dd09418",
   "metadata": {},
   "outputs": [],
   "source": []
  }
 ],
 "metadata": {
  "kernelspec": {
   "display_name": "Python 3 (ipykernel)",
   "language": "python",
   "name": "python3"
  },
  "language_info": {
   "codemirror_mode": {
    "name": "ipython",
    "version": 3
   },
   "file_extension": ".py",
   "mimetype": "text/x-python",
   "name": "python",
   "nbconvert_exporter": "python",
   "pygments_lexer": "ipython3",
   "version": "3.11.4"
  }
 },
 "nbformat": 4,
 "nbformat_minor": 5
}
