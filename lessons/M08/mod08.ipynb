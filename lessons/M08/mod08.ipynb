{
 "cells": [
  {
   "cell_type": "markdown",
   "id": "202deb80-4034-4f0d-a19a-6a021934881a",
   "metadata": {},
   "source": [
    "Module 7 class exercise "
   ]
  },
  {
   "cell_type": "code",
   "execution_count": 3,
   "id": "38055947-d766-425e-b441-77e25c6ded7f",
   "metadata": {
    "tags": []
   },
   "outputs": [
    {
     "name": "stdout",
     "output_type": "stream",
     "text": [
      "z: 0.625\n"
     ]
    }
   ],
   "source": [
    "#Exercise 8.1   \n",
    "\n",
    "x=5\n",
    "y=8\n",
    "\n",
    "try:\n",
    "    z=x/y\n",
    "    print('z:', z)\n",
    "except ZeroDivisionError as e: \n",
    "    print('ZeroDivisionError:', e)"
   ]
  },
  {
   "cell_type": "code",
   "execution_count": 4,
   "id": "6a6a73f3-8fc3-4779-8ca9-1d54fb44457b",
   "metadata": {
    "tags": []
   },
   "outputs": [],
   "source": [
    "#8.2\n",
    "x2=2+2==4\n",
    "assert x2, \"This is not 1984!\""
   ]
  },
  {
   "cell_type": "code",
   "execution_count": 10,
   "id": "87182906-c108-48be-901f-7b644e61df3b",
   "metadata": {
    "tags": []
   },
   "outputs": [
    {
     "ename": "AssertionError",
     "evalue": "This is not 1984!",
     "output_type": "error",
     "traceback": [
      "\u001b[0;31m---------------------------------------------------------------------------\u001b[0m",
      "\u001b[0;31mAssertionError\u001b[0m                            Traceback (most recent call last)",
      "Cell \u001b[0;32mIn[10], line 2\u001b[0m\n\u001b[1;32m      1\u001b[0m x3\u001b[38;5;241m=\u001b[39m\u001b[38;5;241m2\u001b[39m\u001b[38;5;241m+\u001b[39m\u001b[38;5;241m2\u001b[39m\u001b[38;5;241m==\u001b[39m\u001b[38;5;241m5\u001b[39m\n\u001b[0;32m----> 2\u001b[0m \u001b[38;5;28;01massert\u001b[39;00m x3, \u001b[38;5;124m\"\u001b[39m\u001b[38;5;124mThis is not 1984!\u001b[39m\u001b[38;5;124m\"\u001b[39m\n",
      "\u001b[0;31mAssertionError\u001b[0m: This is not 1984!"
     ]
    }
   ],
   "source": [
    "x3=2+2==5\n",
    "assert x3, \"This is not 1984!\""
   ]
  },
  {
   "cell_type": "code",
   "execution_count": 7,
   "id": "336d59b9-cab4-4da9-bb6f-8ba65f946f97",
   "metadata": {
    "tags": []
   },
   "outputs": [],
   "source": [
    "x4= True \n",
    "assert x4, \"x should be True!\""
   ]
  },
  {
   "cell_type": "code",
   "execution_count": 8,
   "id": "8dc6148b-cb3d-489f-b081-1220d7f7a6d4",
   "metadata": {
    "tags": []
   },
   "outputs": [
    {
     "ename": "AssertionError",
     "evalue": "x should be True!",
     "output_type": "error",
     "traceback": [
      "\u001b[0;31m---------------------------------------------------------------------------\u001b[0m",
      "\u001b[0;31mAssertionError\u001b[0m                            Traceback (most recent call last)",
      "Cell \u001b[0;32mIn[8], line 2\u001b[0m\n\u001b[1;32m      1\u001b[0m x5\u001b[38;5;241m=\u001b[39m \u001b[38;5;28;01mFalse\u001b[39;00m \n\u001b[0;32m----> 2\u001b[0m \u001b[38;5;28;01massert\u001b[39;00m x5, \u001b[38;5;124m\"\u001b[39m\u001b[38;5;124mx should be True!\u001b[39m\u001b[38;5;124m\"\u001b[39m\n",
      "\u001b[0;31mAssertionError\u001b[0m: x should be True!"
     ]
    }
   ],
   "source": [
    "x5= False \n",
    "assert x5, \"x should be True!\""
   ]
  },
  {
   "cell_type": "code",
   "execution_count": 12,
   "id": "725f4fd4-55ea-4f04-948b-f921fb5e96cf",
   "metadata": {
    "tags": []
   },
   "outputs": [],
   "source": [
    "#8.3\n",
    "import math\n",
    "from math import pi as pi\n",
    "\n",
    "def area(radius): \n",
    "    return pi*radius**2"
   ]
  },
  {
   "cell_type": "code",
   "execution_count": 13,
   "id": "013922ff-a92b-4f8a-be4c-48e5602eb3e9",
   "metadata": {
    "tags": []
   },
   "outputs": [],
   "source": [
    "assert isinstance(area(1),float),'Test 1 failed!'\n",
    "assert area(0)==0,'Test 2 failed!'\n",
    "assert math.isclose(area(5),78.5,abs_tol=0.1), 'Test 3 failed!'"
   ]
  },
  {
   "cell_type": "code",
   "execution_count": 23,
   "id": "9b8dfa15-2be9-466f-a674-6527c43e0b1e",
   "metadata": {
    "tags": []
   },
   "outputs": [],
   "source": [
    "#Exercise 8.4\n",
    "class Student: #copied from student.py\n",
    "    \n",
    "    # constructor\n",
    "    def __init__(self, name, courses=None):\n",
    "        self.name = name # string type\n",
    "        self.courses = [] if courses is None else courses # list of strings\n",
    "        self.num_courses = len(self.courses)\n",
    "        \n",
    "    # enroll in a course\n",
    "    def enroll_in_course(self, course_name): \n",
    "        \"Enrolls the student in a course.\"\n",
    "        self.courses.append(course_name)\n",
    "        self.num_courses += 1 # increment the number of courses\n",
    "        \n",
    "    def unenroll_in_course(self, course_name):\n",
    "        \"Unenrolls the student from a course.\"\n",
    "        if course_name in self.courses: \n",
    "            self.courses.append(course_name)\n",
    "            self.num_courses-= 1 # decrement the count \n",
    "        else: \n",
    "            print(\"student was not enrolled in that course.\")"
   ]
  },
  {
   "cell_type": "code",
   "execution_count": null,
   "id": "417437ce-1a05-4254-9d9c-95650a38bbdf",
   "metadata": {},
   "outputs": [],
   "source": [
    "#Exercise 8.5\n",
    "\n",
    "from student2 import Student \n",
    "import unittest\n",
    "\n",
    "python student2_test.py #write this in the console and it will run\n"
   ]
  }
 ],
 "metadata": {
  "kernelspec": {
   "display_name": "Python 3",
   "language": "python",
   "name": "python3"
  },
  "language_info": {
   "codemirror_mode": {
    "name": "ipython",
    "version": 3
   },
   "file_extension": ".py",
   "mimetype": "text/x-python",
   "name": "python",
   "nbconvert_exporter": "python",
   "pygments_lexer": "ipython3",
   "version": "3.11.4"
  }
 },
 "nbformat": 4,
 "nbformat_minor": 5
}
