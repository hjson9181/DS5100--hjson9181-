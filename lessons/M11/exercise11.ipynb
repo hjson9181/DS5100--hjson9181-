{
 "cells": [
  {
   "cell_type": "code",
   "execution_count": 1,
   "id": "e5eff98f-9d68-4593-82e0-7c5652f77cb1",
   "metadata": {
    "tags": []
   },
   "outputs": [
    {
     "name": "stderr",
     "output_type": "stream",
     "text": [
      "── \u001b[1mAttaching core tidyverse packages\u001b[22m ──────────────────────── tidyverse 2.0.0 ──\n",
      "\u001b[32m✔\u001b[39m \u001b[34mdplyr    \u001b[39m 1.1.3     \u001b[32m✔\u001b[39m \u001b[34mreadr    \u001b[39m 2.1.4\n",
      "\u001b[32m✔\u001b[39m \u001b[34mforcats  \u001b[39m 1.0.0     \u001b[32m✔\u001b[39m \u001b[34mstringr  \u001b[39m 1.5.0\n",
      "\u001b[32m✔\u001b[39m \u001b[34mggplot2  \u001b[39m 3.4.4     \u001b[32m✔\u001b[39m \u001b[34mtibble   \u001b[39m 3.2.1\n",
      "\u001b[32m✔\u001b[39m \u001b[34mlubridate\u001b[39m 1.9.3     \u001b[32m✔\u001b[39m \u001b[34mtidyr    \u001b[39m 1.3.0\n",
      "\u001b[32m✔\u001b[39m \u001b[34mpurrr    \u001b[39m 1.0.2     \n",
      "── \u001b[1mConflicts\u001b[22m ────────────────────────────────────────── tidyverse_conflicts() ──\n",
      "\u001b[31m✖\u001b[39m \u001b[34mdplyr\u001b[39m::\u001b[32mfilter()\u001b[39m masks \u001b[34mstats\u001b[39m::filter()\n",
      "\u001b[31m✖\u001b[39m \u001b[34mdplyr\u001b[39m::\u001b[32mlag()\u001b[39m    masks \u001b[34mstats\u001b[39m::lag()\n",
      "\u001b[36mℹ\u001b[39m Use the conflicted package (\u001b[3m\u001b[34m<http://conflicted.r-lib.org/>\u001b[39m\u001b[23m) to force all conflicts to become errors\n"
     ]
    }
   ],
   "source": [
    "library(tidyverse)"
   ]
  },
  {
   "cell_type": "code",
   "execution_count": 2,
   "id": "984b24d3-ddf5-4dd9-9ee0-8adac6114457",
   "metadata": {
    "tags": []
   },
   "outputs": [],
   "source": [
    "score <- \n",
    "    tibble(\n",
    "    name = c(\"mike\", \"carol\", \"greg\", \"marcia\", \"peter\", \"jan\", \"bobby\", \"cindy\", \"alice\"),\n",
    "    school = c(\"south\", \"south\", \"south\", \"south\", \"north\", \"north\", \"north\", \"south\", \"south\"),\n",
    "    teacher = c(\"johnson\", \"johnson\", \"johnson\", \"johnson\",  \"smith\", \"smith\", \"smith\", \"perry\", \"perry\"),\n",
    "    sex = c(\"male\", \"female\", \"male\", \"female\", \"male\", \"female\", \"male\", \"female\", \"female\"),\n",
    "    math_score = c(4, 3, 2, 4, 3, 4, 5, 4, 5),\n",
    "    reading_score = c(1, 5, 2, 4, 5, 4, 1, 5, 4)\n",
    "    )"
   ]
  },
  {
   "cell_type": "code",
   "execution_count": 5,
   "id": "640f5faa-7691-41de-920f-aa7c848cf64b",
   "metadata": {
    "tags": []
   },
   "outputs": [
    {
     "data": {
      "text/html": [
       "<table class=\"dataframe\">\n",
       "<caption>A tibble: 9 × 6</caption>\n",
       "<thead>\n",
       "\t<tr><th scope=col>name</th><th scope=col>school</th><th scope=col>teacher</th><th scope=col>sex</th><th scope=col>math_score</th><th scope=col>reading_score</th></tr>\n",
       "\t<tr><th scope=col>&lt;chr&gt;</th><th scope=col>&lt;chr&gt;</th><th scope=col>&lt;chr&gt;</th><th scope=col>&lt;chr&gt;</th><th scope=col>&lt;dbl&gt;</th><th scope=col>&lt;dbl&gt;</th></tr>\n",
       "</thead>\n",
       "<tbody>\n",
       "\t<tr><td>mike  </td><td>south</td><td>johnson</td><td>male  </td><td>4</td><td>1</td></tr>\n",
       "\t<tr><td>carol </td><td>south</td><td>johnson</td><td>female</td><td>3</td><td>5</td></tr>\n",
       "\t<tr><td>greg  </td><td>south</td><td>johnson</td><td>male  </td><td>2</td><td>2</td></tr>\n",
       "\t<tr><td>marcia</td><td>south</td><td>johnson</td><td>female</td><td>4</td><td>4</td></tr>\n",
       "\t<tr><td>peter </td><td>north</td><td>smith  </td><td>male  </td><td>3</td><td>5</td></tr>\n",
       "\t<tr><td>jan   </td><td>north</td><td>smith  </td><td>female</td><td>4</td><td>4</td></tr>\n",
       "\t<tr><td>bobby </td><td>north</td><td>smith  </td><td>male  </td><td>5</td><td>1</td></tr>\n",
       "\t<tr><td>cindy </td><td>south</td><td>perry  </td><td>female</td><td>4</td><td>5</td></tr>\n",
       "\t<tr><td>alice </td><td>south</td><td>perry  </td><td>female</td><td>5</td><td>4</td></tr>\n",
       "</tbody>\n",
       "</table>\n"
      ],
      "text/latex": [
       "A tibble: 9 × 6\n",
       "\\begin{tabular}{llllll}\n",
       " name & school & teacher & sex & math\\_score & reading\\_score\\\\\n",
       " <chr> & <chr> & <chr> & <chr> & <dbl> & <dbl>\\\\\n",
       "\\hline\n",
       "\t mike   & south & johnson & male   & 4 & 1\\\\\n",
       "\t carol  & south & johnson & female & 3 & 5\\\\\n",
       "\t greg   & south & johnson & male   & 2 & 2\\\\\n",
       "\t marcia & south & johnson & female & 4 & 4\\\\\n",
       "\t peter  & north & smith   & male   & 3 & 5\\\\\n",
       "\t jan    & north & smith   & female & 4 & 4\\\\\n",
       "\t bobby  & north & smith   & male   & 5 & 1\\\\\n",
       "\t cindy  & south & perry   & female & 4 & 5\\\\\n",
       "\t alice  & south & perry   & female & 5 & 4\\\\\n",
       "\\end{tabular}\n"
      ],
      "text/markdown": [
       "\n",
       "A tibble: 9 × 6\n",
       "\n",
       "| name &lt;chr&gt; | school &lt;chr&gt; | teacher &lt;chr&gt; | sex &lt;chr&gt; | math_score &lt;dbl&gt; | reading_score &lt;dbl&gt; |\n",
       "|---|---|---|---|---|---|\n",
       "| mike   | south | johnson | male   | 4 | 1 |\n",
       "| carol  | south | johnson | female | 3 | 5 |\n",
       "| greg   | south | johnson | male   | 2 | 2 |\n",
       "| marcia | south | johnson | female | 4 | 4 |\n",
       "| peter  | north | smith   | male   | 3 | 5 |\n",
       "| jan    | north | smith   | female | 4 | 4 |\n",
       "| bobby  | north | smith   | male   | 5 | 1 |\n",
       "| cindy  | south | perry   | female | 4 | 5 |\n",
       "| alice  | south | perry   | female | 5 | 4 |\n",
       "\n"
      ],
      "text/plain": [
       "  name   school teacher sex    math_score reading_score\n",
       "1 mike   south  johnson male   4          1            \n",
       "2 carol  south  johnson female 3          5            \n",
       "3 greg   south  johnson male   2          2            \n",
       "4 marcia south  johnson female 4          4            \n",
       "5 peter  north  smith   male   3          5            \n",
       "6 jan    north  smith   female 4          4            \n",
       "7 bobby  north  smith   male   5          1            \n",
       "8 cindy  south  perry   female 4          5            \n",
       "9 alice  south  perry   female 5          4            "
      ]
     },
     "metadata": {},
     "output_type": "display_data"
    }
   ],
   "source": [
    "score"
   ]
  },
  {
   "cell_type": "code",
   "execution_count": 4,
   "id": "57970eaf-e00b-40e1-a6da-9ae2803ce1b8",
   "metadata": {
    "tags": []
   },
   "outputs": [
    {
     "name": "stdout",
     "output_type": "stream",
     "text": [
      "\u001b[90m# A tibble: 9 × 6\u001b[39m\n",
      "  name   school teacher sex    math_score reading_score\n",
      "  \u001b[3m\u001b[90m<chr>\u001b[39m\u001b[23m  \u001b[3m\u001b[90m<chr>\u001b[39m\u001b[23m  \u001b[3m\u001b[90m<chr>\u001b[39m\u001b[23m   \u001b[3m\u001b[90m<chr>\u001b[39m\u001b[23m       \u001b[3m\u001b[90m<dbl>\u001b[39m\u001b[23m         \u001b[3m\u001b[90m<dbl>\u001b[39m\u001b[23m\n",
      "\u001b[90m1\u001b[39m mike   south  johnson male            4             1\n",
      "\u001b[90m2\u001b[39m carol  south  johnson female          3             5\n",
      "\u001b[90m3\u001b[39m greg   south  johnson male            2             2\n",
      "\u001b[90m4\u001b[39m marcia south  johnson female          4             4\n",
      "\u001b[90m5\u001b[39m peter  north  smith   male            3             5\n",
      "\u001b[90m6\u001b[39m jan    north  smith   female          4             4\n",
      "\u001b[90m7\u001b[39m bobby  north  smith   male            5             1\n",
      "\u001b[90m8\u001b[39m cindy  south  perry   female          4             5\n",
      "\u001b[90m9\u001b[39m alice  south  perry   female          5             4\n"
     ]
    }
   ],
   "source": [
    "print(score)"
   ]
  },
  {
   "cell_type": "code",
   "execution_count": 17,
   "id": "cb4862aa-a143-472c-b852-0adbaa7caec1",
   "metadata": {
    "tags": []
   },
   "outputs": [
    {
     "data": {
      "text/html": [
       "<table class=\"dataframe\">\n",
       "<caption>A tibble: 3 × 6</caption>\n",
       "<thead>\n",
       "\t<tr><th scope=col>name</th><th scope=col>school</th><th scope=col>teacher</th><th scope=col>sex</th><th scope=col>math_score</th><th scope=col>reading_score</th></tr>\n",
       "\t<tr><th scope=col>&lt;chr&gt;</th><th scope=col>&lt;chr&gt;</th><th scope=col>&lt;chr&gt;</th><th scope=col>&lt;chr&gt;</th><th scope=col>&lt;dbl&gt;</th><th scope=col>&lt;dbl&gt;</th></tr>\n",
       "</thead>\n",
       "<tbody>\n",
       "\t<tr><td>mike </td><td>south</td><td>johnson</td><td>male  </td><td>4</td><td>1</td></tr>\n",
       "\t<tr><td>carol</td><td>south</td><td>johnson</td><td>female</td><td>3</td><td>5</td></tr>\n",
       "\t<tr><td>greg </td><td>south</td><td>johnson</td><td>male  </td><td>2</td><td>2</td></tr>\n",
       "</tbody>\n",
       "</table>\n"
      ],
      "text/latex": [
       "A tibble: 3 × 6\n",
       "\\begin{tabular}{llllll}\n",
       " name & school & teacher & sex & math\\_score & reading\\_score\\\\\n",
       " <chr> & <chr> & <chr> & <chr> & <dbl> & <dbl>\\\\\n",
       "\\hline\n",
       "\t mike  & south & johnson & male   & 4 & 1\\\\\n",
       "\t carol & south & johnson & female & 3 & 5\\\\\n",
       "\t greg  & south & johnson & male   & 2 & 2\\\\\n",
       "\\end{tabular}\n"
      ],
      "text/markdown": [
       "\n",
       "A tibble: 3 × 6\n",
       "\n",
       "| name &lt;chr&gt; | school &lt;chr&gt; | teacher &lt;chr&gt; | sex &lt;chr&gt; | math_score &lt;dbl&gt; | reading_score &lt;dbl&gt; |\n",
       "|---|---|---|---|---|---|\n",
       "| mike  | south | johnson | male   | 4 | 1 |\n",
       "| carol | south | johnson | female | 3 | 5 |\n",
       "| greg  | south | johnson | male   | 2 | 2 |\n",
       "\n"
      ],
      "text/plain": [
       "  name  school teacher sex    math_score reading_score\n",
       "1 mike  south  johnson male   4          1            \n",
       "2 carol south  johnson female 3          5            \n",
       "3 greg  south  johnson male   2          2            "
      ]
     },
     "metadata": {},
     "output_type": "display_data"
    }
   ],
   "source": [
    "score %>%\n",
    "    slice(1:3)"
   ]
  },
  {
   "cell_type": "code",
   "execution_count": 19,
   "id": "fc1caba0-9952-4b9e-9f41-d1cb11868986",
   "metadata": {
    "tags": []
   },
   "outputs": [
    {
     "name": "stdout",
     "output_type": "stream",
     "text": [
      "\u001b[90m# A tibble: 3 × 6\u001b[39m\n",
      "  name  school teacher sex    math_score reading_score\n",
      "  \u001b[3m\u001b[90m<chr>\u001b[39m\u001b[23m \u001b[3m\u001b[90m<chr>\u001b[39m\u001b[23m  \u001b[3m\u001b[90m<chr>\u001b[39m\u001b[23m   \u001b[3m\u001b[90m<chr>\u001b[39m\u001b[23m       \u001b[3m\u001b[90m<dbl>\u001b[39m\u001b[23m         \u001b[3m\u001b[90m<dbl>\u001b[39m\u001b[23m\n",
      "\u001b[90m1\u001b[39m mike  south  johnson male            4             1\n",
      "\u001b[90m2\u001b[39m carol south  johnson female          3             5\n",
      "\u001b[90m3\u001b[39m greg  south  johnson male            2             2\n"
     ]
    }
   ],
   "source": [
    "score_small <- score %>%\n",
    "    slice(1:3)\n",
    "print(score_small)"
   ]
  },
  {
   "cell_type": "code",
   "execution_count": 20,
   "id": "7fc841a0-7cb1-4d3c-9b46-8f39d8b97fea",
   "metadata": {
    "tags": []
   },
   "outputs": [
    {
     "data": {
      "text/html": [
       "<table class=\"dataframe\">\n",
       "<caption>A tibble: 3 × 6</caption>\n",
       "<thead>\n",
       "\t<tr><th scope=col>name</th><th scope=col>school</th><th scope=col>teacher</th><th scope=col>sex</th><th scope=col>math_score</th><th scope=col>reading_score</th></tr>\n",
       "\t<tr><th scope=col>&lt;chr&gt;</th><th scope=col>&lt;chr&gt;</th><th scope=col>&lt;chr&gt;</th><th scope=col>&lt;chr&gt;</th><th scope=col>&lt;dbl&gt;</th><th scope=col>&lt;dbl&gt;</th></tr>\n",
       "</thead>\n",
       "<tbody>\n",
       "\t<tr><td>mike </td><td>south</td><td>johnson</td><td>male  </td><td>4</td><td>1</td></tr>\n",
       "\t<tr><td>carol</td><td>south</td><td>johnson</td><td>female</td><td>3</td><td>5</td></tr>\n",
       "\t<tr><td>greg </td><td>south</td><td>johnson</td><td>male  </td><td>2</td><td>2</td></tr>\n",
       "</tbody>\n",
       "</table>\n"
      ],
      "text/latex": [
       "A tibble: 3 × 6\n",
       "\\begin{tabular}{llllll}\n",
       " name & school & teacher & sex & math\\_score & reading\\_score\\\\\n",
       " <chr> & <chr> & <chr> & <chr> & <dbl> & <dbl>\\\\\n",
       "\\hline\n",
       "\t mike  & south & johnson & male   & 4 & 1\\\\\n",
       "\t carol & south & johnson & female & 3 & 5\\\\\n",
       "\t greg  & south & johnson & male   & 2 & 2\\\\\n",
       "\\end{tabular}\n"
      ],
      "text/markdown": [
       "\n",
       "A tibble: 3 × 6\n",
       "\n",
       "| name &lt;chr&gt; | school &lt;chr&gt; | teacher &lt;chr&gt; | sex &lt;chr&gt; | math_score &lt;dbl&gt; | reading_score &lt;dbl&gt; |\n",
       "|---|---|---|---|---|---|\n",
       "| mike  | south | johnson | male   | 4 | 1 |\n",
       "| carol | south | johnson | female | 3 | 5 |\n",
       "| greg  | south | johnson | male   | 2 | 2 |\n",
       "\n"
      ],
      "text/plain": [
       "  name  school teacher sex    math_score reading_score\n",
       "1 mike  south  johnson male   4          1            \n",
       "2 carol south  johnson female 3          5            \n",
       "3 greg  south  johnson male   2          2            "
      ]
     },
     "metadata": {},
     "output_type": "display_data"
    }
   ],
   "source": [
    "score %>% head(3)"
   ]
  },
  {
   "cell_type": "code",
   "execution_count": 21,
   "id": "fe7795b4-a32a-433d-a2e3-474ef137e579",
   "metadata": {
    "tags": []
   },
   "outputs": [
    {
     "data": {
      "text/html": [
       "<table class=\"dataframe\">\n",
       "<caption>A tibble: 3 × 6</caption>\n",
       "<thead>\n",
       "\t<tr><th scope=col>name</th><th scope=col>school</th><th scope=col>teacher</th><th scope=col>sex</th><th scope=col>math_score</th><th scope=col>reading_score</th></tr>\n",
       "\t<tr><th scope=col>&lt;chr&gt;</th><th scope=col>&lt;chr&gt;</th><th scope=col>&lt;chr&gt;</th><th scope=col>&lt;chr&gt;</th><th scope=col>&lt;dbl&gt;</th><th scope=col>&lt;dbl&gt;</th></tr>\n",
       "</thead>\n",
       "<tbody>\n",
       "\t<tr><td>mike </td><td>south</td><td>johnson</td><td>male  </td><td>4</td><td>1</td></tr>\n",
       "\t<tr><td>carol</td><td>south</td><td>johnson</td><td>female</td><td>3</td><td>5</td></tr>\n",
       "\t<tr><td>greg </td><td>south</td><td>johnson</td><td>male  </td><td>2</td><td>2</td></tr>\n",
       "</tbody>\n",
       "</table>\n"
      ],
      "text/latex": [
       "A tibble: 3 × 6\n",
       "\\begin{tabular}{llllll}\n",
       " name & school & teacher & sex & math\\_score & reading\\_score\\\\\n",
       " <chr> & <chr> & <chr> & <chr> & <dbl> & <dbl>\\\\\n",
       "\\hline\n",
       "\t mike  & south & johnson & male   & 4 & 1\\\\\n",
       "\t carol & south & johnson & female & 3 & 5\\\\\n",
       "\t greg  & south & johnson & male   & 2 & 2\\\\\n",
       "\\end{tabular}\n"
      ],
      "text/markdown": [
       "\n",
       "A tibble: 3 × 6\n",
       "\n",
       "| name &lt;chr&gt; | school &lt;chr&gt; | teacher &lt;chr&gt; | sex &lt;chr&gt; | math_score &lt;dbl&gt; | reading_score &lt;dbl&gt; |\n",
       "|---|---|---|---|---|---|\n",
       "| mike  | south | johnson | male   | 4 | 1 |\n",
       "| carol | south | johnson | female | 3 | 5 |\n",
       "| greg  | south | johnson | male   | 2 | 2 |\n",
       "\n"
      ],
      "text/plain": [
       "  name  school teacher sex    math_score reading_score\n",
       "1 mike  south  johnson male   4          1            \n",
       "2 carol south  johnson female 3          5            \n",
       "3 greg  south  johnson male   2          2            "
      ]
     },
     "metadata": {},
     "output_type": "display_data"
    }
   ],
   "source": [
    "score[1:3,]"
   ]
  },
  {
   "cell_type": "code",
   "execution_count": 24,
   "id": "491c472e-826e-4016-b404-e44a804d7b60",
   "metadata": {
    "tags": []
   },
   "outputs": [
    {
     "data": {
      "text/html": [
       "<table class=\"dataframe\">\n",
       "<caption>A tibble: 9 × 6</caption>\n",
       "<thead>\n",
       "\t<tr><th scope=col>name</th><th scope=col>school</th><th scope=col>teacher</th><th scope=col>sex</th><th scope=col>math_score</th><th scope=col>reading_score</th></tr>\n",
       "\t<tr><th scope=col>&lt;chr&gt;</th><th scope=col>&lt;chr&gt;</th><th scope=col>&lt;chr&gt;</th><th scope=col>&lt;chr&gt;</th><th scope=col>&lt;dbl&gt;</th><th scope=col>&lt;dbl&gt;</th></tr>\n",
       "</thead>\n",
       "<tbody>\n",
       "\t<tr><td>bobby </td><td>north</td><td>smith  </td><td>male  </td><td>5</td><td>1</td></tr>\n",
       "\t<tr><td>alice </td><td>south</td><td>perry  </td><td>female</td><td>5</td><td>4</td></tr>\n",
       "\t<tr><td>mike  </td><td>south</td><td>johnson</td><td>male  </td><td>4</td><td>1</td></tr>\n",
       "\t<tr><td>marcia</td><td>south</td><td>johnson</td><td>female</td><td>4</td><td>4</td></tr>\n",
       "\t<tr><td>jan   </td><td>north</td><td>smith  </td><td>female</td><td>4</td><td>4</td></tr>\n",
       "\t<tr><td>cindy </td><td>south</td><td>perry  </td><td>female</td><td>4</td><td>5</td></tr>\n",
       "\t<tr><td>carol </td><td>south</td><td>johnson</td><td>female</td><td>3</td><td>5</td></tr>\n",
       "\t<tr><td>peter </td><td>north</td><td>smith  </td><td>male  </td><td>3</td><td>5</td></tr>\n",
       "\t<tr><td>greg  </td><td>south</td><td>johnson</td><td>male  </td><td>2</td><td>2</td></tr>\n",
       "</tbody>\n",
       "</table>\n"
      ],
      "text/latex": [
       "A tibble: 9 × 6\n",
       "\\begin{tabular}{llllll}\n",
       " name & school & teacher & sex & math\\_score & reading\\_score\\\\\n",
       " <chr> & <chr> & <chr> & <chr> & <dbl> & <dbl>\\\\\n",
       "\\hline\n",
       "\t bobby  & north & smith   & male   & 5 & 1\\\\\n",
       "\t alice  & south & perry   & female & 5 & 4\\\\\n",
       "\t mike   & south & johnson & male   & 4 & 1\\\\\n",
       "\t marcia & south & johnson & female & 4 & 4\\\\\n",
       "\t jan    & north & smith   & female & 4 & 4\\\\\n",
       "\t cindy  & south & perry   & female & 4 & 5\\\\\n",
       "\t carol  & south & johnson & female & 3 & 5\\\\\n",
       "\t peter  & north & smith   & male   & 3 & 5\\\\\n",
       "\t greg   & south & johnson & male   & 2 & 2\\\\\n",
       "\\end{tabular}\n"
      ],
      "text/markdown": [
       "\n",
       "A tibble: 9 × 6\n",
       "\n",
       "| name &lt;chr&gt; | school &lt;chr&gt; | teacher &lt;chr&gt; | sex &lt;chr&gt; | math_score &lt;dbl&gt; | reading_score &lt;dbl&gt; |\n",
       "|---|---|---|---|---|---|\n",
       "| bobby  | north | smith   | male   | 5 | 1 |\n",
       "| alice  | south | perry   | female | 5 | 4 |\n",
       "| mike   | south | johnson | male   | 4 | 1 |\n",
       "| marcia | south | johnson | female | 4 | 4 |\n",
       "| jan    | north | smith   | female | 4 | 4 |\n",
       "| cindy  | south | perry   | female | 4 | 5 |\n",
       "| carol  | south | johnson | female | 3 | 5 |\n",
       "| peter  | north | smith   | male   | 3 | 5 |\n",
       "| greg   | south | johnson | male   | 2 | 2 |\n",
       "\n"
      ],
      "text/plain": [
       "  name   school teacher sex    math_score reading_score\n",
       "1 bobby  north  smith   male   5          1            \n",
       "2 alice  south  perry   female 5          4            \n",
       "3 mike   south  johnson male   4          1            \n",
       "4 marcia south  johnson female 4          4            \n",
       "5 jan    north  smith   female 4          4            \n",
       "6 cindy  south  perry   female 4          5            \n",
       "7 carol  south  johnson female 3          5            \n",
       "8 peter  north  smith   male   3          5            \n",
       "9 greg   south  johnson male   2          2            "
      ]
     },
     "metadata": {},
     "output_type": "display_data"
    }
   ],
   "source": [
    "score %>%\n",
    "    arrange(desc(math_score))"
   ]
  },
  {
   "cell_type": "code",
   "execution_count": 25,
   "id": "9c4b2ca3-fa75-48b8-9733-293e9f3cce75",
   "metadata": {
    "tags": []
   },
   "outputs": [
    {
     "data": {
      "text/html": [
       "<table class=\"dataframe\">\n",
       "<caption>A tibble: 9 × 6</caption>\n",
       "<thead>\n",
       "\t<tr><th scope=col>name</th><th scope=col>school</th><th scope=col>teacher</th><th scope=col>sex</th><th scope=col>math_score</th><th scope=col>reading_score</th></tr>\n",
       "\t<tr><th scope=col>&lt;chr&gt;</th><th scope=col>&lt;chr&gt;</th><th scope=col>&lt;chr&gt;</th><th scope=col>&lt;chr&gt;</th><th scope=col>&lt;dbl&gt;</th><th scope=col>&lt;dbl&gt;</th></tr>\n",
       "</thead>\n",
       "<tbody>\n",
       "\t<tr><td>bobby </td><td>north</td><td>smith  </td><td>male  </td><td>5</td><td>1</td></tr>\n",
       "\t<tr><td>alice </td><td>south</td><td>perry  </td><td>female</td><td>5</td><td>4</td></tr>\n",
       "\t<tr><td>mike  </td><td>south</td><td>johnson</td><td>male  </td><td>4</td><td>1</td></tr>\n",
       "\t<tr><td>marcia</td><td>south</td><td>johnson</td><td>female</td><td>4</td><td>4</td></tr>\n",
       "\t<tr><td>jan   </td><td>north</td><td>smith  </td><td>female</td><td>4</td><td>4</td></tr>\n",
       "\t<tr><td>cindy </td><td>south</td><td>perry  </td><td>female</td><td>4</td><td>5</td></tr>\n",
       "\t<tr><td>carol </td><td>south</td><td>johnson</td><td>female</td><td>3</td><td>5</td></tr>\n",
       "\t<tr><td>peter </td><td>north</td><td>smith  </td><td>male  </td><td>3</td><td>5</td></tr>\n",
       "\t<tr><td>greg  </td><td>south</td><td>johnson</td><td>male  </td><td>2</td><td>2</td></tr>\n",
       "</tbody>\n",
       "</table>\n"
      ],
      "text/latex": [
       "A tibble: 9 × 6\n",
       "\\begin{tabular}{llllll}\n",
       " name & school & teacher & sex & math\\_score & reading\\_score\\\\\n",
       " <chr> & <chr> & <chr> & <chr> & <dbl> & <dbl>\\\\\n",
       "\\hline\n",
       "\t bobby  & north & smith   & male   & 5 & 1\\\\\n",
       "\t alice  & south & perry   & female & 5 & 4\\\\\n",
       "\t mike   & south & johnson & male   & 4 & 1\\\\\n",
       "\t marcia & south & johnson & female & 4 & 4\\\\\n",
       "\t jan    & north & smith   & female & 4 & 4\\\\\n",
       "\t cindy  & south & perry   & female & 4 & 5\\\\\n",
       "\t carol  & south & johnson & female & 3 & 5\\\\\n",
       "\t peter  & north & smith   & male   & 3 & 5\\\\\n",
       "\t greg   & south & johnson & male   & 2 & 2\\\\\n",
       "\\end{tabular}\n"
      ],
      "text/markdown": [
       "\n",
       "A tibble: 9 × 6\n",
       "\n",
       "| name &lt;chr&gt; | school &lt;chr&gt; | teacher &lt;chr&gt; | sex &lt;chr&gt; | math_score &lt;dbl&gt; | reading_score &lt;dbl&gt; |\n",
       "|---|---|---|---|---|---|\n",
       "| bobby  | north | smith   | male   | 5 | 1 |\n",
       "| alice  | south | perry   | female | 5 | 4 |\n",
       "| mike   | south | johnson | male   | 4 | 1 |\n",
       "| marcia | south | johnson | female | 4 | 4 |\n",
       "| jan    | north | smith   | female | 4 | 4 |\n",
       "| cindy  | south | perry   | female | 4 | 5 |\n",
       "| carol  | south | johnson | female | 3 | 5 |\n",
       "| peter  | north | smith   | male   | 3 | 5 |\n",
       "| greg   | south | johnson | male   | 2 | 2 |\n",
       "\n"
      ],
      "text/plain": [
       "  name   school teacher sex    math_score reading_score\n",
       "1 bobby  north  smith   male   5          1            \n",
       "2 alice  south  perry   female 5          4            \n",
       "3 mike   south  johnson male   4          1            \n",
       "4 marcia south  johnson female 4          4            \n",
       "5 jan    north  smith   female 4          4            \n",
       "6 cindy  south  perry   female 4          5            \n",
       "7 carol  south  johnson female 3          5            \n",
       "8 peter  north  smith   male   3          5            \n",
       "9 greg   south  johnson male   2          2            "
      ]
     },
     "metadata": {},
     "output_type": "display_data"
    }
   ],
   "source": [
    "score %>%\n",
    "    arrange(-math_score)"
   ]
  },
  {
   "cell_type": "code",
   "execution_count": 29,
   "id": "4b97fffb-0d50-4957-9b56-514a34b39abd",
   "metadata": {
    "tags": []
   },
   "outputs": [
    {
     "data": {
      "text/html": [
       "<table class=\"dataframe\">\n",
       "<caption>A tibble: 9 × 6</caption>\n",
       "<thead>\n",
       "\t<tr><th scope=col>name</th><th scope=col>school</th><th scope=col>teacher</th><th scope=col>sex</th><th scope=col>math_score</th><th scope=col>reading_score</th></tr>\n",
       "\t<tr><th scope=col>&lt;chr&gt;</th><th scope=col>&lt;chr&gt;</th><th scope=col>&lt;chr&gt;</th><th scope=col>&lt;chr&gt;</th><th scope=col>&lt;dbl&gt;</th><th scope=col>&lt;dbl&gt;</th></tr>\n",
       "</thead>\n",
       "<tbody>\n",
       "\t<tr><td>alice </td><td>south</td><td>perry  </td><td>female</td><td>5</td><td>4</td></tr>\n",
       "\t<tr><td>bobby </td><td>north</td><td>smith  </td><td>male  </td><td>5</td><td>1</td></tr>\n",
       "\t<tr><td>carol </td><td>south</td><td>johnson</td><td>female</td><td>3</td><td>5</td></tr>\n",
       "\t<tr><td>cindy </td><td>south</td><td>perry  </td><td>female</td><td>4</td><td>5</td></tr>\n",
       "\t<tr><td>greg  </td><td>south</td><td>johnson</td><td>male  </td><td>2</td><td>2</td></tr>\n",
       "\t<tr><td>jan   </td><td>north</td><td>smith  </td><td>female</td><td>4</td><td>4</td></tr>\n",
       "\t<tr><td>marcia</td><td>south</td><td>johnson</td><td>female</td><td>4</td><td>4</td></tr>\n",
       "\t<tr><td>mike  </td><td>south</td><td>johnson</td><td>male  </td><td>4</td><td>1</td></tr>\n",
       "\t<tr><td>peter </td><td>north</td><td>smith  </td><td>male  </td><td>3</td><td>5</td></tr>\n",
       "</tbody>\n",
       "</table>\n"
      ],
      "text/latex": [
       "A tibble: 9 × 6\n",
       "\\begin{tabular}{llllll}\n",
       " name & school & teacher & sex & math\\_score & reading\\_score\\\\\n",
       " <chr> & <chr> & <chr> & <chr> & <dbl> & <dbl>\\\\\n",
       "\\hline\n",
       "\t alice  & south & perry   & female & 5 & 4\\\\\n",
       "\t bobby  & north & smith   & male   & 5 & 1\\\\\n",
       "\t carol  & south & johnson & female & 3 & 5\\\\\n",
       "\t cindy  & south & perry   & female & 4 & 5\\\\\n",
       "\t greg   & south & johnson & male   & 2 & 2\\\\\n",
       "\t jan    & north & smith   & female & 4 & 4\\\\\n",
       "\t marcia & south & johnson & female & 4 & 4\\\\\n",
       "\t mike   & south & johnson & male   & 4 & 1\\\\\n",
       "\t peter  & north & smith   & male   & 3 & 5\\\\\n",
       "\\end{tabular}\n"
      ],
      "text/markdown": [
       "\n",
       "A tibble: 9 × 6\n",
       "\n",
       "| name &lt;chr&gt; | school &lt;chr&gt; | teacher &lt;chr&gt; | sex &lt;chr&gt; | math_score &lt;dbl&gt; | reading_score &lt;dbl&gt; |\n",
       "|---|---|---|---|---|---|\n",
       "| alice  | south | perry   | female | 5 | 4 |\n",
       "| bobby  | north | smith   | male   | 5 | 1 |\n",
       "| carol  | south | johnson | female | 3 | 5 |\n",
       "| cindy  | south | perry   | female | 4 | 5 |\n",
       "| greg   | south | johnson | male   | 2 | 2 |\n",
       "| jan    | north | smith   | female | 4 | 4 |\n",
       "| marcia | south | johnson | female | 4 | 4 |\n",
       "| mike   | south | johnson | male   | 4 | 1 |\n",
       "| peter  | north | smith   | male   | 3 | 5 |\n",
       "\n"
      ],
      "text/plain": [
       "  name   school teacher sex    math_score reading_score\n",
       "1 alice  south  perry   female 5          4            \n",
       "2 bobby  north  smith   male   5          1            \n",
       "3 carol  south  johnson female 3          5            \n",
       "4 cindy  south  perry   female 4          5            \n",
       "5 greg   south  johnson male   2          2            \n",
       "6 jan    north  smith   female 4          4            \n",
       "7 marcia south  johnson female 4          4            \n",
       "8 mike   south  johnson male   4          1            \n",
       "9 peter  north  smith   male   3          5            "
      ]
     },
     "metadata": {},
     "output_type": "display_data"
    }
   ],
   "source": [
    "score %>%\n",
    "    arrange(name)"
   ]
  },
  {
   "cell_type": "code",
   "execution_count": 30,
   "id": "f9a42abd-aadd-4a34-ae7c-ab53864e548e",
   "metadata": {
    "tags": []
   },
   "outputs": [
    {
     "data": {
      "text/html": [
       "<table class=\"dataframe\">\n",
       "<caption>A tibble: 9 × 6</caption>\n",
       "<thead>\n",
       "\t<tr><th scope=col>name</th><th scope=col>school</th><th scope=col>teacher</th><th scope=col>sex</th><th scope=col>math_score</th><th scope=col>reading_score</th></tr>\n",
       "\t<tr><th scope=col>&lt;chr&gt;</th><th scope=col>&lt;chr&gt;</th><th scope=col>&lt;chr&gt;</th><th scope=col>&lt;chr&gt;</th><th scope=col>&lt;dbl&gt;</th><th scope=col>&lt;dbl&gt;</th></tr>\n",
       "</thead>\n",
       "<tbody>\n",
       "\t<tr><td>carol </td><td>south</td><td>johnson</td><td>female</td><td>3</td><td>5</td></tr>\n",
       "\t<tr><td>marcia</td><td>south</td><td>johnson</td><td>female</td><td>4</td><td>4</td></tr>\n",
       "\t<tr><td>jan   </td><td>north</td><td>smith  </td><td>female</td><td>4</td><td>4</td></tr>\n",
       "\t<tr><td>cindy </td><td>south</td><td>perry  </td><td>female</td><td>4</td><td>5</td></tr>\n",
       "\t<tr><td>alice </td><td>south</td><td>perry  </td><td>female</td><td>5</td><td>4</td></tr>\n",
       "\t<tr><td>mike  </td><td>south</td><td>johnson</td><td>male  </td><td>4</td><td>1</td></tr>\n",
       "\t<tr><td>greg  </td><td>south</td><td>johnson</td><td>male  </td><td>2</td><td>2</td></tr>\n",
       "\t<tr><td>peter </td><td>north</td><td>smith  </td><td>male  </td><td>3</td><td>5</td></tr>\n",
       "\t<tr><td>bobby </td><td>north</td><td>smith  </td><td>male  </td><td>5</td><td>1</td></tr>\n",
       "</tbody>\n",
       "</table>\n"
      ],
      "text/latex": [
       "A tibble: 9 × 6\n",
       "\\begin{tabular}{llllll}\n",
       " name & school & teacher & sex & math\\_score & reading\\_score\\\\\n",
       " <chr> & <chr> & <chr> & <chr> & <dbl> & <dbl>\\\\\n",
       "\\hline\n",
       "\t carol  & south & johnson & female & 3 & 5\\\\\n",
       "\t marcia & south & johnson & female & 4 & 4\\\\\n",
       "\t jan    & north & smith   & female & 4 & 4\\\\\n",
       "\t cindy  & south & perry   & female & 4 & 5\\\\\n",
       "\t alice  & south & perry   & female & 5 & 4\\\\\n",
       "\t mike   & south & johnson & male   & 4 & 1\\\\\n",
       "\t greg   & south & johnson & male   & 2 & 2\\\\\n",
       "\t peter  & north & smith   & male   & 3 & 5\\\\\n",
       "\t bobby  & north & smith   & male   & 5 & 1\\\\\n",
       "\\end{tabular}\n"
      ],
      "text/markdown": [
       "\n",
       "A tibble: 9 × 6\n",
       "\n",
       "| name &lt;chr&gt; | school &lt;chr&gt; | teacher &lt;chr&gt; | sex &lt;chr&gt; | math_score &lt;dbl&gt; | reading_score &lt;dbl&gt; |\n",
       "|---|---|---|---|---|---|\n",
       "| carol  | south | johnson | female | 3 | 5 |\n",
       "| marcia | south | johnson | female | 4 | 4 |\n",
       "| jan    | north | smith   | female | 4 | 4 |\n",
       "| cindy  | south | perry   | female | 4 | 5 |\n",
       "| alice  | south | perry   | female | 5 | 4 |\n",
       "| mike   | south | johnson | male   | 4 | 1 |\n",
       "| greg   | south | johnson | male   | 2 | 2 |\n",
       "| peter  | north | smith   | male   | 3 | 5 |\n",
       "| bobby  | north | smith   | male   | 5 | 1 |\n",
       "\n"
      ],
      "text/plain": [
       "  name   school teacher sex    math_score reading_score\n",
       "1 carol  south  johnson female 3          5            \n",
       "2 marcia south  johnson female 4          4            \n",
       "3 jan    north  smith   female 4          4            \n",
       "4 cindy  south  perry   female 4          5            \n",
       "5 alice  south  perry   female 5          4            \n",
       "6 mike   south  johnson male   4          1            \n",
       "7 greg   south  johnson male   2          2            \n",
       "8 peter  north  smith   male   3          5            \n",
       "9 bobby  north  smith   male   5          1            "
      ]
     },
     "metadata": {},
     "output_type": "display_data"
    }
   ],
   "source": [
    "score %>%\n",
    "    arrange(sex)"
   ]
  },
  {
   "cell_type": "code",
   "execution_count": 31,
   "id": "b0715886-64a5-4d6b-acd7-b3aada5bf036",
   "metadata": {
    "tags": []
   },
   "outputs": [
    {
     "data": {
      "text/html": [
       "<table class=\"dataframe\">\n",
       "<caption>A tibble: 9 × 6</caption>\n",
       "<thead>\n",
       "\t<tr><th scope=col>name</th><th scope=col>school</th><th scope=col>teacher</th><th scope=col>sex</th><th scope=col>math_score</th><th scope=col>reading_score</th></tr>\n",
       "\t<tr><th scope=col>&lt;chr&gt;</th><th scope=col>&lt;chr&gt;</th><th scope=col>&lt;chr&gt;</th><th scope=col>&lt;chr&gt;</th><th scope=col>&lt;dbl&gt;</th><th scope=col>&lt;dbl&gt;</th></tr>\n",
       "</thead>\n",
       "<tbody>\n",
       "\t<tr><td>jan   </td><td>north</td><td>smith  </td><td>female</td><td>4</td><td>4</td></tr>\n",
       "\t<tr><td>peter </td><td>north</td><td>smith  </td><td>male  </td><td>3</td><td>5</td></tr>\n",
       "\t<tr><td>bobby </td><td>north</td><td>smith  </td><td>male  </td><td>5</td><td>1</td></tr>\n",
       "\t<tr><td>carol </td><td>south</td><td>johnson</td><td>female</td><td>3</td><td>5</td></tr>\n",
       "\t<tr><td>marcia</td><td>south</td><td>johnson</td><td>female</td><td>4</td><td>4</td></tr>\n",
       "\t<tr><td>greg  </td><td>south</td><td>johnson</td><td>male  </td><td>2</td><td>2</td></tr>\n",
       "\t<tr><td>mike  </td><td>south</td><td>johnson</td><td>male  </td><td>4</td><td>1</td></tr>\n",
       "\t<tr><td>cindy </td><td>south</td><td>perry  </td><td>female</td><td>4</td><td>5</td></tr>\n",
       "\t<tr><td>alice </td><td>south</td><td>perry  </td><td>female</td><td>5</td><td>4</td></tr>\n",
       "</tbody>\n",
       "</table>\n"
      ],
      "text/latex": [
       "A tibble: 9 × 6\n",
       "\\begin{tabular}{llllll}\n",
       " name & school & teacher & sex & math\\_score & reading\\_score\\\\\n",
       " <chr> & <chr> & <chr> & <chr> & <dbl> & <dbl>\\\\\n",
       "\\hline\n",
       "\t jan    & north & smith   & female & 4 & 4\\\\\n",
       "\t peter  & north & smith   & male   & 3 & 5\\\\\n",
       "\t bobby  & north & smith   & male   & 5 & 1\\\\\n",
       "\t carol  & south & johnson & female & 3 & 5\\\\\n",
       "\t marcia & south & johnson & female & 4 & 4\\\\\n",
       "\t greg   & south & johnson & male   & 2 & 2\\\\\n",
       "\t mike   & south & johnson & male   & 4 & 1\\\\\n",
       "\t cindy  & south & perry   & female & 4 & 5\\\\\n",
       "\t alice  & south & perry   & female & 5 & 4\\\\\n",
       "\\end{tabular}\n"
      ],
      "text/markdown": [
       "\n",
       "A tibble: 9 × 6\n",
       "\n",
       "| name &lt;chr&gt; | school &lt;chr&gt; | teacher &lt;chr&gt; | sex &lt;chr&gt; | math_score &lt;dbl&gt; | reading_score &lt;dbl&gt; |\n",
       "|---|---|---|---|---|---|\n",
       "| jan    | north | smith   | female | 4 | 4 |\n",
       "| peter  | north | smith   | male   | 3 | 5 |\n",
       "| bobby  | north | smith   | male   | 5 | 1 |\n",
       "| carol  | south | johnson | female | 3 | 5 |\n",
       "| marcia | south | johnson | female | 4 | 4 |\n",
       "| greg   | south | johnson | male   | 2 | 2 |\n",
       "| mike   | south | johnson | male   | 4 | 1 |\n",
       "| cindy  | south | perry   | female | 4 | 5 |\n",
       "| alice  | south | perry   | female | 5 | 4 |\n",
       "\n"
      ],
      "text/plain": [
       "  name   school teacher sex    math_score reading_score\n",
       "1 jan    north  smith   female 4          4            \n",
       "2 peter  north  smith   male   3          5            \n",
       "3 bobby  north  smith   male   5          1            \n",
       "4 carol  south  johnson female 3          5            \n",
       "5 marcia south  johnson female 4          4            \n",
       "6 greg   south  johnson male   2          2            \n",
       "7 mike   south  johnson male   4          1            \n",
       "8 cindy  south  perry   female 4          5            \n",
       "9 alice  south  perry   female 5          4            "
      ]
     },
     "metadata": {},
     "output_type": "display_data"
    }
   ],
   "source": [
    "score %>%\n",
    "    arrange(school, teacher, sex, math_score, reading_score)"
   ]
  },
  {
   "cell_type": "code",
   "execution_count": 33,
   "id": "ac8ecae5-40b4-4e33-8e5c-4d1031543e84",
   "metadata": {
    "tags": []
   },
   "outputs": [
    {
     "data": {
      "text/html": [
       "<table class=\"dataframe\">\n",
       "<caption>A tibble: 9 × 3</caption>\n",
       "<thead>\n",
       "\t<tr><th scope=col>name</th><th scope=col>math_score</th><th scope=col>reading_score</th></tr>\n",
       "\t<tr><th scope=col>&lt;chr&gt;</th><th scope=col>&lt;dbl&gt;</th><th scope=col>&lt;dbl&gt;</th></tr>\n",
       "</thead>\n",
       "<tbody>\n",
       "\t<tr><td>mike  </td><td>4</td><td>1</td></tr>\n",
       "\t<tr><td>carol </td><td>3</td><td>5</td></tr>\n",
       "\t<tr><td>greg  </td><td>2</td><td>2</td></tr>\n",
       "\t<tr><td>marcia</td><td>4</td><td>4</td></tr>\n",
       "\t<tr><td>peter </td><td>3</td><td>5</td></tr>\n",
       "\t<tr><td>jan   </td><td>4</td><td>4</td></tr>\n",
       "\t<tr><td>bobby </td><td>5</td><td>1</td></tr>\n",
       "\t<tr><td>cindy </td><td>4</td><td>5</td></tr>\n",
       "\t<tr><td>alice </td><td>5</td><td>4</td></tr>\n",
       "</tbody>\n",
       "</table>\n"
      ],
      "text/latex": [
       "A tibble: 9 × 3\n",
       "\\begin{tabular}{lll}\n",
       " name & math\\_score & reading\\_score\\\\\n",
       " <chr> & <dbl> & <dbl>\\\\\n",
       "\\hline\n",
       "\t mike   & 4 & 1\\\\\n",
       "\t carol  & 3 & 5\\\\\n",
       "\t greg   & 2 & 2\\\\\n",
       "\t marcia & 4 & 4\\\\\n",
       "\t peter  & 3 & 5\\\\\n",
       "\t jan    & 4 & 4\\\\\n",
       "\t bobby  & 5 & 1\\\\\n",
       "\t cindy  & 4 & 5\\\\\n",
       "\t alice  & 5 & 4\\\\\n",
       "\\end{tabular}\n"
      ],
      "text/markdown": [
       "\n",
       "A tibble: 9 × 3\n",
       "\n",
       "| name &lt;chr&gt; | math_score &lt;dbl&gt; | reading_score &lt;dbl&gt; |\n",
       "|---|---|---|\n",
       "| mike   | 4 | 1 |\n",
       "| carol  | 3 | 5 |\n",
       "| greg   | 2 | 2 |\n",
       "| marcia | 4 | 4 |\n",
       "| peter  | 3 | 5 |\n",
       "| jan    | 4 | 4 |\n",
       "| bobby  | 5 | 1 |\n",
       "| cindy  | 4 | 5 |\n",
       "| alice  | 5 | 4 |\n",
       "\n"
      ],
      "text/plain": [
       "  name   math_score reading_score\n",
       "1 mike   4          1            \n",
       "2 carol  3          5            \n",
       "3 greg   2          2            \n",
       "4 marcia 4          4            \n",
       "5 peter  3          5            \n",
       "6 jan    4          4            \n",
       "7 bobby  5          1            \n",
       "8 cindy  4          5            \n",
       "9 alice  5          4            "
      ]
     },
     "metadata": {},
     "output_type": "display_data"
    }
   ],
   "source": [
    "score %>%\n",
    "    select(name,math_score,reading_score)"
   ]
  },
  {
   "cell_type": "code",
   "execution_count": 34,
   "id": "fcf598f2-5cbf-486c-ac9f-5719e1537ad2",
   "metadata": {
    "tags": []
   },
   "outputs": [
    {
     "data": {
      "text/html": [
       "<table class=\"dataframe\">\n",
       "<caption>A tibble: 9 × 5</caption>\n",
       "<thead>\n",
       "\t<tr><th scope=col>name</th><th scope=col>school</th><th scope=col>teacher</th><th scope=col>math_score</th><th scope=col>reading_score</th></tr>\n",
       "\t<tr><th scope=col>&lt;chr&gt;</th><th scope=col>&lt;chr&gt;</th><th scope=col>&lt;chr&gt;</th><th scope=col>&lt;dbl&gt;</th><th scope=col>&lt;dbl&gt;</th></tr>\n",
       "</thead>\n",
       "<tbody>\n",
       "\t<tr><td>mike  </td><td>south</td><td>johnson</td><td>4</td><td>1</td></tr>\n",
       "\t<tr><td>carol </td><td>south</td><td>johnson</td><td>3</td><td>5</td></tr>\n",
       "\t<tr><td>greg  </td><td>south</td><td>johnson</td><td>2</td><td>2</td></tr>\n",
       "\t<tr><td>marcia</td><td>south</td><td>johnson</td><td>4</td><td>4</td></tr>\n",
       "\t<tr><td>peter </td><td>north</td><td>smith  </td><td>3</td><td>5</td></tr>\n",
       "\t<tr><td>jan   </td><td>north</td><td>smith  </td><td>4</td><td>4</td></tr>\n",
       "\t<tr><td>bobby </td><td>north</td><td>smith  </td><td>5</td><td>1</td></tr>\n",
       "\t<tr><td>cindy </td><td>south</td><td>perry  </td><td>4</td><td>5</td></tr>\n",
       "\t<tr><td>alice </td><td>south</td><td>perry  </td><td>5</td><td>4</td></tr>\n",
       "</tbody>\n",
       "</table>\n"
      ],
      "text/latex": [
       "A tibble: 9 × 5\n",
       "\\begin{tabular}{lllll}\n",
       " name & school & teacher & math\\_score & reading\\_score\\\\\n",
       " <chr> & <chr> & <chr> & <dbl> & <dbl>\\\\\n",
       "\\hline\n",
       "\t mike   & south & johnson & 4 & 1\\\\\n",
       "\t carol  & south & johnson & 3 & 5\\\\\n",
       "\t greg   & south & johnson & 2 & 2\\\\\n",
       "\t marcia & south & johnson & 4 & 4\\\\\n",
       "\t peter  & north & smith   & 3 & 5\\\\\n",
       "\t jan    & north & smith   & 4 & 4\\\\\n",
       "\t bobby  & north & smith   & 5 & 1\\\\\n",
       "\t cindy  & south & perry   & 4 & 5\\\\\n",
       "\t alice  & south & perry   & 5 & 4\\\\\n",
       "\\end{tabular}\n"
      ],
      "text/markdown": [
       "\n",
       "A tibble: 9 × 5\n",
       "\n",
       "| name &lt;chr&gt; | school &lt;chr&gt; | teacher &lt;chr&gt; | math_score &lt;dbl&gt; | reading_score &lt;dbl&gt; |\n",
       "|---|---|---|---|---|\n",
       "| mike   | south | johnson | 4 | 1 |\n",
       "| carol  | south | johnson | 3 | 5 |\n",
       "| greg   | south | johnson | 2 | 2 |\n",
       "| marcia | south | johnson | 4 | 4 |\n",
       "| peter  | north | smith   | 3 | 5 |\n",
       "| jan    | north | smith   | 4 | 4 |\n",
       "| bobby  | north | smith   | 5 | 1 |\n",
       "| cindy  | south | perry   | 4 | 5 |\n",
       "| alice  | south | perry   | 5 | 4 |\n",
       "\n"
      ],
      "text/plain": [
       "  name   school teacher math_score reading_score\n",
       "1 mike   south  johnson 4          1            \n",
       "2 carol  south  johnson 3          5            \n",
       "3 greg   south  johnson 2          2            \n",
       "4 marcia south  johnson 4          4            \n",
       "5 peter  north  smith   3          5            \n",
       "6 jan    north  smith   4          4            \n",
       "7 bobby  north  smith   5          1            \n",
       "8 cindy  south  perry   4          5            \n",
       "9 alice  south  perry   5          4            "
      ]
     },
     "metadata": {},
     "output_type": "display_data"
    }
   ],
   "source": [
    "score %>%\n",
    "    select(-sex)"
   ]
  },
  {
   "cell_type": "code",
   "execution_count": 35,
   "id": "d3781680-879b-4c11-a138-ebf639c48515",
   "metadata": {
    "tags": []
   },
   "outputs": [
    {
     "data": {
      "text/html": [
       "<table class=\"dataframe\">\n",
       "<caption>A tibble: 9 × 4</caption>\n",
       "<thead>\n",
       "\t<tr><th scope=col>name</th><th scope=col>school</th><th scope=col>teacher</th><th scope=col>math_score</th></tr>\n",
       "\t<tr><th scope=col>&lt;chr&gt;</th><th scope=col>&lt;chr&gt;</th><th scope=col>&lt;chr&gt;</th><th scope=col>&lt;dbl&gt;</th></tr>\n",
       "</thead>\n",
       "<tbody>\n",
       "\t<tr><td>mike  </td><td>south</td><td>johnson</td><td>4</td></tr>\n",
       "\t<tr><td>carol </td><td>south</td><td>johnson</td><td>3</td></tr>\n",
       "\t<tr><td>greg  </td><td>south</td><td>johnson</td><td>2</td></tr>\n",
       "\t<tr><td>marcia</td><td>south</td><td>johnson</td><td>4</td></tr>\n",
       "\t<tr><td>peter </td><td>north</td><td>smith  </td><td>3</td></tr>\n",
       "\t<tr><td>jan   </td><td>north</td><td>smith  </td><td>4</td></tr>\n",
       "\t<tr><td>bobby </td><td>north</td><td>smith  </td><td>5</td></tr>\n",
       "\t<tr><td>cindy </td><td>south</td><td>perry  </td><td>4</td></tr>\n",
       "\t<tr><td>alice </td><td>south</td><td>perry  </td><td>5</td></tr>\n",
       "</tbody>\n",
       "</table>\n"
      ],
      "text/latex": [
       "A tibble: 9 × 4\n",
       "\\begin{tabular}{llll}\n",
       " name & school & teacher & math\\_score\\\\\n",
       " <chr> & <chr> & <chr> & <dbl>\\\\\n",
       "\\hline\n",
       "\t mike   & south & johnson & 4\\\\\n",
       "\t carol  & south & johnson & 3\\\\\n",
       "\t greg   & south & johnson & 2\\\\\n",
       "\t marcia & south & johnson & 4\\\\\n",
       "\t peter  & north & smith   & 3\\\\\n",
       "\t jan    & north & smith   & 4\\\\\n",
       "\t bobby  & north & smith   & 5\\\\\n",
       "\t cindy  & south & perry   & 4\\\\\n",
       "\t alice  & south & perry   & 5\\\\\n",
       "\\end{tabular}\n"
      ],
      "text/markdown": [
       "\n",
       "A tibble: 9 × 4\n",
       "\n",
       "| name &lt;chr&gt; | school &lt;chr&gt; | teacher &lt;chr&gt; | math_score &lt;dbl&gt; |\n",
       "|---|---|---|---|\n",
       "| mike   | south | johnson | 4 |\n",
       "| carol  | south | johnson | 3 |\n",
       "| greg   | south | johnson | 2 |\n",
       "| marcia | south | johnson | 4 |\n",
       "| peter  | north | smith   | 3 |\n",
       "| jan    | north | smith   | 4 |\n",
       "| bobby  | north | smith   | 5 |\n",
       "| cindy  | south | perry   | 4 |\n",
       "| alice  | south | perry   | 5 |\n",
       "\n"
      ],
      "text/plain": [
       "  name   school teacher math_score\n",
       "1 mike   south  johnson 4         \n",
       "2 carol  south  johnson 3         \n",
       "3 greg   south  johnson 2         \n",
       "4 marcia south  johnson 4         \n",
       "5 peter  north  smith   3         \n",
       "6 jan    north  smith   4         \n",
       "7 bobby  north  smith   5         \n",
       "8 cindy  south  perry   4         \n",
       "9 alice  south  perry   5         "
      ]
     },
     "metadata": {},
     "output_type": "display_data"
    }
   ],
   "source": [
    "score %>%\n",
    "    select(-sex, -reading_score)"
   ]
  },
  {
   "cell_type": "code",
   "execution_count": 39,
   "id": "801635c2-a32d-4776-87c3-01d21b402710",
   "metadata": {
    "tags": []
   },
   "outputs": [
    {
     "data": {
      "text/html": [
       "<table class=\"dataframe\">\n",
       "<caption>A tibble: 9 × 6</caption>\n",
       "<thead>\n",
       "\t<tr><th scope=col>sex</th><th scope=col>name</th><th scope=col>school</th><th scope=col>teacher</th><th scope=col>math_score</th><th scope=col>reading_score</th></tr>\n",
       "\t<tr><th scope=col>&lt;chr&gt;</th><th scope=col>&lt;chr&gt;</th><th scope=col>&lt;chr&gt;</th><th scope=col>&lt;chr&gt;</th><th scope=col>&lt;dbl&gt;</th><th scope=col>&lt;dbl&gt;</th></tr>\n",
       "</thead>\n",
       "<tbody>\n",
       "\t<tr><td>male  </td><td>mike  </td><td>south</td><td>johnson</td><td>4</td><td>1</td></tr>\n",
       "\t<tr><td>female</td><td>carol </td><td>south</td><td>johnson</td><td>3</td><td>5</td></tr>\n",
       "\t<tr><td>male  </td><td>greg  </td><td>south</td><td>johnson</td><td>2</td><td>2</td></tr>\n",
       "\t<tr><td>female</td><td>marcia</td><td>south</td><td>johnson</td><td>4</td><td>4</td></tr>\n",
       "\t<tr><td>male  </td><td>peter </td><td>north</td><td>smith  </td><td>3</td><td>5</td></tr>\n",
       "\t<tr><td>female</td><td>jan   </td><td>north</td><td>smith  </td><td>4</td><td>4</td></tr>\n",
       "\t<tr><td>male  </td><td>bobby </td><td>north</td><td>smith  </td><td>5</td><td>1</td></tr>\n",
       "\t<tr><td>female</td><td>cindy </td><td>south</td><td>perry  </td><td>4</td><td>5</td></tr>\n",
       "\t<tr><td>female</td><td>alice </td><td>south</td><td>perry  </td><td>5</td><td>4</td></tr>\n",
       "</tbody>\n",
       "</table>\n"
      ],
      "text/latex": [
       "A tibble: 9 × 6\n",
       "\\begin{tabular}{llllll}\n",
       " sex & name & school & teacher & math\\_score & reading\\_score\\\\\n",
       " <chr> & <chr> & <chr> & <chr> & <dbl> & <dbl>\\\\\n",
       "\\hline\n",
       "\t male   & mike   & south & johnson & 4 & 1\\\\\n",
       "\t female & carol  & south & johnson & 3 & 5\\\\\n",
       "\t male   & greg   & south & johnson & 2 & 2\\\\\n",
       "\t female & marcia & south & johnson & 4 & 4\\\\\n",
       "\t male   & peter  & north & smith   & 3 & 5\\\\\n",
       "\t female & jan    & north & smith   & 4 & 4\\\\\n",
       "\t male   & bobby  & north & smith   & 5 & 1\\\\\n",
       "\t female & cindy  & south & perry   & 4 & 5\\\\\n",
       "\t female & alice  & south & perry   & 5 & 4\\\\\n",
       "\\end{tabular}\n"
      ],
      "text/markdown": [
       "\n",
       "A tibble: 9 × 6\n",
       "\n",
       "| sex &lt;chr&gt; | name &lt;chr&gt; | school &lt;chr&gt; | teacher &lt;chr&gt; | math_score &lt;dbl&gt; | reading_score &lt;dbl&gt; |\n",
       "|---|---|---|---|---|---|\n",
       "| male   | mike   | south | johnson | 4 | 1 |\n",
       "| female | carol  | south | johnson | 3 | 5 |\n",
       "| male   | greg   | south | johnson | 2 | 2 |\n",
       "| female | marcia | south | johnson | 4 | 4 |\n",
       "| male   | peter  | north | smith   | 3 | 5 |\n",
       "| female | jan    | north | smith   | 4 | 4 |\n",
       "| male   | bobby  | north | smith   | 5 | 1 |\n",
       "| female | cindy  | south | perry   | 4 | 5 |\n",
       "| female | alice  | south | perry   | 5 | 4 |\n",
       "\n"
      ],
      "text/plain": [
       "  sex    name   school teacher math_score reading_score\n",
       "1 male   mike   south  johnson 4          1            \n",
       "2 female carol  south  johnson 3          5            \n",
       "3 male   greg   south  johnson 2          2            \n",
       "4 female marcia south  johnson 4          4            \n",
       "5 male   peter  north  smith   3          5            \n",
       "6 female jan    north  smith   4          4            \n",
       "7 male   bobby  north  smith   5          1            \n",
       "8 female cindy  south  perry   4          5            \n",
       "9 female alice  south  perry   5          4            "
      ]
     },
     "metadata": {},
     "output_type": "display_data"
    }
   ],
   "source": [
    "score %>%\n",
    "    select(sex,everything())"
   ]
  },
  {
   "cell_type": "code",
   "execution_count": 40,
   "id": "2cb37d4d-2494-4eff-8aa7-c6972c66dde5",
   "metadata": {
    "tags": []
   },
   "outputs": [
    {
     "data": {
      "text/html": [
       "<table class=\"dataframe\">\n",
       "<caption>A tibble: 2 × 6</caption>\n",
       "<thead>\n",
       "\t<tr><th scope=col>name</th><th scope=col>school</th><th scope=col>teacher</th><th scope=col>sex</th><th scope=col>math_score</th><th scope=col>reading_score</th></tr>\n",
       "\t<tr><th scope=col>&lt;chr&gt;</th><th scope=col>&lt;chr&gt;</th><th scope=col>&lt;chr&gt;</th><th scope=col>&lt;chr&gt;</th><th scope=col>&lt;dbl&gt;</th><th scope=col>&lt;dbl&gt;</th></tr>\n",
       "</thead>\n",
       "<tbody>\n",
       "\t<tr><td>mike</td><td>south</td><td>johnson</td><td>male</td><td>4</td><td>1</td></tr>\n",
       "\t<tr><td>greg</td><td>south</td><td>johnson</td><td>male</td><td>2</td><td>2</td></tr>\n",
       "</tbody>\n",
       "</table>\n"
      ],
      "text/latex": [
       "A tibble: 2 × 6\n",
       "\\begin{tabular}{llllll}\n",
       " name & school & teacher & sex & math\\_score & reading\\_score\\\\\n",
       " <chr> & <chr> & <chr> & <chr> & <dbl> & <dbl>\\\\\n",
       "\\hline\n",
       "\t mike & south & johnson & male & 4 & 1\\\\\n",
       "\t greg & south & johnson & male & 2 & 2\\\\\n",
       "\\end{tabular}\n"
      ],
      "text/markdown": [
       "\n",
       "A tibble: 2 × 6\n",
       "\n",
       "| name &lt;chr&gt; | school &lt;chr&gt; | teacher &lt;chr&gt; | sex &lt;chr&gt; | math_score &lt;dbl&gt; | reading_score &lt;dbl&gt; |\n",
       "|---|---|---|---|---|---|\n",
       "| mike | south | johnson | male | 4 | 1 |\n",
       "| greg | south | johnson | male | 2 | 2 |\n",
       "\n"
      ],
      "text/plain": [
       "  name school teacher sex  math_score reading_score\n",
       "1 mike south  johnson male 4          1            \n",
       "2 greg south  johnson male 2          2            "
      ]
     },
     "metadata": {},
     "output_type": "display_data"
    }
   ],
   "source": [
    "score %>%\n",
    "    filter(sex==\"male\"&school==\"south\")"
   ]
  },
  {
   "cell_type": "code",
   "execution_count": 44,
   "id": "4b61148c-e35e-4b07-8c23-e110ea2f2a20",
   "metadata": {
    "tags": []
   },
   "outputs": [
    {
     "data": {
      "text/html": [
       "<table class=\"dataframe\">\n",
       "<caption>A tibble: 6 × 6</caption>\n",
       "<thead>\n",
       "\t<tr><th scope=col>name</th><th scope=col>school</th><th scope=col>teacher</th><th scope=col>sex</th><th scope=col>math_score</th><th scope=col>reading_score</th></tr>\n",
       "\t<tr><th scope=col>&lt;chr&gt;</th><th scope=col>&lt;chr&gt;</th><th scope=col>&lt;chr&gt;</th><th scope=col>&lt;chr&gt;</th><th scope=col>&lt;dbl&gt;</th><th scope=col>&lt;dbl&gt;</th></tr>\n",
       "</thead>\n",
       "<tbody>\n",
       "\t<tr><td>mike  </td><td>south</td><td>johnson</td><td>male  </td><td>4</td><td>1</td></tr>\n",
       "\t<tr><td>marcia</td><td>south</td><td>johnson</td><td>female</td><td>4</td><td>4</td></tr>\n",
       "\t<tr><td>jan   </td><td>north</td><td>smith  </td><td>female</td><td>4</td><td>4</td></tr>\n",
       "\t<tr><td>bobby </td><td>north</td><td>smith  </td><td>male  </td><td>5</td><td>1</td></tr>\n",
       "\t<tr><td>cindy </td><td>south</td><td>perry  </td><td>female</td><td>4</td><td>5</td></tr>\n",
       "\t<tr><td>alice </td><td>south</td><td>perry  </td><td>female</td><td>5</td><td>4</td></tr>\n",
       "</tbody>\n",
       "</table>\n"
      ],
      "text/latex": [
       "A tibble: 6 × 6\n",
       "\\begin{tabular}{llllll}\n",
       " name & school & teacher & sex & math\\_score & reading\\_score\\\\\n",
       " <chr> & <chr> & <chr> & <chr> & <dbl> & <dbl>\\\\\n",
       "\\hline\n",
       "\t mike   & south & johnson & male   & 4 & 1\\\\\n",
       "\t marcia & south & johnson & female & 4 & 4\\\\\n",
       "\t jan    & north & smith   & female & 4 & 4\\\\\n",
       "\t bobby  & north & smith   & male   & 5 & 1\\\\\n",
       "\t cindy  & south & perry   & female & 4 & 5\\\\\n",
       "\t alice  & south & perry   & female & 5 & 4\\\\\n",
       "\\end{tabular}\n"
      ],
      "text/markdown": [
       "\n",
       "A tibble: 6 × 6\n",
       "\n",
       "| name &lt;chr&gt; | school &lt;chr&gt; | teacher &lt;chr&gt; | sex &lt;chr&gt; | math_score &lt;dbl&gt; | reading_score &lt;dbl&gt; |\n",
       "|---|---|---|---|---|---|\n",
       "| mike   | south | johnson | male   | 4 | 1 |\n",
       "| marcia | south | johnson | female | 4 | 4 |\n",
       "| jan    | north | smith   | female | 4 | 4 |\n",
       "| bobby  | north | smith   | male   | 5 | 1 |\n",
       "| cindy  | south | perry   | female | 4 | 5 |\n",
       "| alice  | south | perry   | female | 5 | 4 |\n",
       "\n"
      ],
      "text/plain": [
       "  name   school teacher sex    math_score reading_score\n",
       "1 mike   south  johnson male   4          1            \n",
       "2 marcia south  johnson female 4          4            \n",
       "3 jan    north  smith   female 4          4            \n",
       "4 bobby  north  smith   male   5          1            \n",
       "5 cindy  south  perry   female 4          5            \n",
       "6 alice  south  perry   female 5          4            "
      ]
     },
     "metadata": {},
     "output_type": "display_data"
    }
   ],
   "source": [
    "score %>%\n",
    "    filter(math_score>mean(math_score))"
   ]
  },
  {
   "cell_type": "code",
   "execution_count": 45,
   "id": "36d922a6-a852-4a92-a0fc-b96b4afee3be",
   "metadata": {
    "tags": []
   },
   "outputs": [
    {
     "ename": "ERROR",
     "evalue": "\u001b[1m\u001b[33mError\u001b[39m in `filter()`:\u001b[22m\n\u001b[1m\u001b[22m\u001b[36mℹ\u001b[39m In argument: `count(math_score >= 4 & reading_score >= 3)`.\n\u001b[1mCaused by error in `UseMethod()`:\u001b[22m\n\u001b[33m!\u001b[39m no applicable method for 'count' applied to an object of class \"logical\"\n",
     "output_type": "error",
     "traceback": [
      "\u001b[1m\u001b[33mError\u001b[39m in `filter()`:\u001b[22m\n\u001b[1m\u001b[22m\u001b[36mℹ\u001b[39m In argument: `count(math_score >= 4 & reading_score >= 3)`.\n\u001b[1mCaused by error in `UseMethod()`:\u001b[22m\n\u001b[33m!\u001b[39m no applicable method for 'count' applied to an object of class \"logical\"\nTraceback:\n",
      "1. score %>% filter(count(math_score >= 4 & reading_score >= 3))",
      "2. filter(., count(math_score >= 4 & reading_score >= 3))",
      "3. filter.data.frame(., count(math_score >= 4 & reading_score >= \n .     3))",
      "4. filter_rows(.data, dots, by)",
      "5. filter_eval(dots, mask = mask, error_call = error_call, user_env = user_env)",
      "6. withCallingHandlers(mask$eval_all_filter(dots, env_filter), error = dplyr_error_handler(dots = dots, \n .     mask = mask, bullets = filter_bullets, error_call = error_call), \n .     warning = function(cnd) {\n .         local_error_context(dots, i, mask)\n .         warning_handler(cnd)\n .     }, `dplyr:::signal_filter_one_column_matrix` = function(e) {\n .         warn_filter_one_column_matrix(env = error_call, user_env = user_env)\n .     }, `dplyr:::signal_filter_across` = function(e) {\n .         warn_filter_across(env = error_call, user_env = user_env)\n .     }, `dplyr:::signal_filter_data_frame` = function(e) {\n .         warn_filter_data_frame(env = error_call, user_env = user_env)\n .     })",
      "7. mask$eval_all_filter(dots, env_filter)",
      "8. eval()",
      "9. count(math_score >= 4 & reading_score >= 3)",
      "10. .handleSimpleError(function (cnd) \n  . {\n  .     local_error_context(dots, i = frame[[i_sym]], mask = mask)\n  .     if (inherits(cnd, \"dplyr:::internal_error\")) {\n  .         parent <- error_cnd(message = bullets(cnd))\n  .     }\n  .     else {\n  .         parent <- cnd\n  .     }\n  .     message <- c(cnd_bullet_header(action), i = if (has_active_group_context(mask)) cnd_bullet_cur_group_label())\n  .     abort(message, class = error_class, parent = parent, call = error_call)\n  . }, \"no applicable method for 'count' applied to an object of class \\\"logical\\\"\", \n  .     base::quote(UseMethod(\"count\")))",
      "11. h(simpleError(msg, call))",
      "12. abort(message, class = error_class, parent = parent, call = error_call)",
      "13. signal_abort(cnd, .file)"
     ]
    }
   ],
   "source": [
    "score %>%\n",
    "    filter(count(math_score>=4&reading_score>=3))"
   ]
  },
  {
   "cell_type": "code",
   "execution_count": 50,
   "id": "7ae0a87a-0726-4459-9f1b-6e21e56b8cc5",
   "metadata": {
    "tags": []
   },
   "outputs": [
    {
     "data": {
      "text/html": [
       "<table class=\"dataframe\">\n",
       "<caption>A grouped_df: 5 × 6</caption>\n",
       "<thead>\n",
       "\t<tr><th scope=col>name</th><th scope=col>school</th><th scope=col>teacher</th><th scope=col>sex</th><th scope=col>math_score</th><th scope=col>reading_score</th></tr>\n",
       "\t<tr><th scope=col>&lt;chr&gt;</th><th scope=col>&lt;chr&gt;</th><th scope=col>&lt;chr&gt;</th><th scope=col>&lt;chr&gt;</th><th scope=col>&lt;dbl&gt;</th><th scope=col>&lt;dbl&gt;</th></tr>\n",
       "</thead>\n",
       "<tbody>\n",
       "\t<tr><td>peter</td><td>north</td><td>smith</td><td>male  </td><td>3</td><td>5</td></tr>\n",
       "\t<tr><td>jan  </td><td>north</td><td>smith</td><td>female</td><td>4</td><td>4</td></tr>\n",
       "\t<tr><td>bobby</td><td>north</td><td>smith</td><td>male  </td><td>5</td><td>1</td></tr>\n",
       "\t<tr><td>cindy</td><td>south</td><td>perry</td><td>female</td><td>4</td><td>5</td></tr>\n",
       "\t<tr><td>alice</td><td>south</td><td>perry</td><td>female</td><td>5</td><td>4</td></tr>\n",
       "</tbody>\n",
       "</table>\n"
      ],
      "text/latex": [
       "A grouped\\_df: 5 × 6\n",
       "\\begin{tabular}{llllll}\n",
       " name & school & teacher & sex & math\\_score & reading\\_score\\\\\n",
       " <chr> & <chr> & <chr> & <chr> & <dbl> & <dbl>\\\\\n",
       "\\hline\n",
       "\t peter & north & smith & male   & 3 & 5\\\\\n",
       "\t jan   & north & smith & female & 4 & 4\\\\\n",
       "\t bobby & north & smith & male   & 5 & 1\\\\\n",
       "\t cindy & south & perry & female & 4 & 5\\\\\n",
       "\t alice & south & perry & female & 5 & 4\\\\\n",
       "\\end{tabular}\n"
      ],
      "text/markdown": [
       "\n",
       "A grouped_df: 5 × 6\n",
       "\n",
       "| name &lt;chr&gt; | school &lt;chr&gt; | teacher &lt;chr&gt; | sex &lt;chr&gt; | math_score &lt;dbl&gt; | reading_score &lt;dbl&gt; |\n",
       "|---|---|---|---|---|---|\n",
       "| peter | north | smith | male   | 3 | 5 |\n",
       "| jan   | north | smith | female | 4 | 4 |\n",
       "| bobby | north | smith | male   | 5 | 1 |\n",
       "| cindy | south | perry | female | 4 | 5 |\n",
       "| alice | south | perry | female | 5 | 4 |\n",
       "\n"
      ],
      "text/plain": [
       "  name  school teacher sex    math_score reading_score\n",
       "1 peter north  smith   male   3          5            \n",
       "2 jan   north  smith   female 4          4            \n",
       "3 bobby north  smith   male   5          1            \n",
       "4 cindy south  perry   female 4          5            \n",
       "5 alice south  perry   female 5          4            "
      ]
     },
     "metadata": {},
     "output_type": "display_data"
    }
   ],
   "source": [
    "score %>% #double pipe\n",
    "    group_by(teacher) %>%\n",
    "    filter(max(math_score)==5)"
   ]
  },
  {
   "cell_type": "code",
   "execution_count": 51,
   "id": "2f94d383-f917-465c-b5bf-1e5da4bceb2e",
   "metadata": {
    "tags": []
   },
   "outputs": [
    {
     "data": {
      "text/html": [
       "<table class=\"dataframe\">\n",
       "<caption>A grouped_df: 5 × 6</caption>\n",
       "<thead>\n",
       "\t<tr><th scope=col>name</th><th scope=col>school</th><th scope=col>teacher</th><th scope=col>sex</th><th scope=col>math_score</th><th scope=col>reading_score</th></tr>\n",
       "\t<tr><th scope=col>&lt;chr&gt;</th><th scope=col>&lt;chr&gt;</th><th scope=col>&lt;chr&gt;</th><th scope=col>&lt;chr&gt;</th><th scope=col>&lt;dbl&gt;</th><th scope=col>&lt;dbl&gt;</th></tr>\n",
       "</thead>\n",
       "<tbody>\n",
       "\t<tr><td>carol </td><td>south</td><td>johnson</td><td>female</td><td>3</td><td>5</td></tr>\n",
       "\t<tr><td>marcia</td><td>south</td><td>johnson</td><td>female</td><td>4</td><td>4</td></tr>\n",
       "\t<tr><td>jan   </td><td>north</td><td>smith  </td><td>female</td><td>4</td><td>4</td></tr>\n",
       "\t<tr><td>cindy </td><td>south</td><td>perry  </td><td>female</td><td>4</td><td>5</td></tr>\n",
       "\t<tr><td>alice </td><td>south</td><td>perry  </td><td>female</td><td>5</td><td>4</td></tr>\n",
       "</tbody>\n",
       "</table>\n"
      ],
      "text/latex": [
       "A grouped\\_df: 5 × 6\n",
       "\\begin{tabular}{llllll}\n",
       " name & school & teacher & sex & math\\_score & reading\\_score\\\\\n",
       " <chr> & <chr> & <chr> & <chr> & <dbl> & <dbl>\\\\\n",
       "\\hline\n",
       "\t carol  & south & johnson & female & 3 & 5\\\\\n",
       "\t marcia & south & johnson & female & 4 & 4\\\\\n",
       "\t jan    & north & smith   & female & 4 & 4\\\\\n",
       "\t cindy  & south & perry   & female & 4 & 5\\\\\n",
       "\t alice  & south & perry   & female & 5 & 4\\\\\n",
       "\\end{tabular}\n"
      ],
      "text/markdown": [
       "\n",
       "A grouped_df: 5 × 6\n",
       "\n",
       "| name &lt;chr&gt; | school &lt;chr&gt; | teacher &lt;chr&gt; | sex &lt;chr&gt; | math_score &lt;dbl&gt; | reading_score &lt;dbl&gt; |\n",
       "|---|---|---|---|---|---|\n",
       "| carol  | south | johnson | female | 3 | 5 |\n",
       "| marcia | south | johnson | female | 4 | 4 |\n",
       "| jan    | north | smith   | female | 4 | 4 |\n",
       "| cindy  | south | perry   | female | 4 | 5 |\n",
       "| alice  | south | perry   | female | 5 | 4 |\n",
       "\n"
      ],
      "text/plain": [
       "  name   school teacher sex    math_score reading_score\n",
       "1 carol  south  johnson female 3          5            \n",
       "2 marcia south  johnson female 4          4            \n",
       "3 jan    north  smith   female 4          4            \n",
       "4 cindy  south  perry   female 4          5            \n",
       "5 alice  south  perry   female 5          4            "
      ]
     },
     "metadata": {},
     "output_type": "display_data"
    }
   ],
   "source": [
    "score %>%\n",
    "    group_by(sex) %>%\n",
    "    filter(mean(math_score)==4)"
   ]
  },
  {
   "cell_type": "code",
   "execution_count": 55,
   "id": "2d4afb76-5e64-41e7-8513-b896b6c81290",
   "metadata": {
    "tags": []
   },
   "outputs": [
    {
     "data": {
      "text/html": [
       "<table class=\"dataframe\">\n",
       "<caption>A tibble: 9 × 6</caption>\n",
       "<thead>\n",
       "\t<tr><th scope=col>name</th><th scope=col>school</th><th scope=col>teacher</th><th scope=col>sex</th><th scope=col>math_score</th><th scope=col>reading_score</th></tr>\n",
       "\t<tr><th scope=col>&lt;chr&gt;</th><th scope=col>&lt;chr&gt;</th><th scope=col>&lt;chr&gt;</th><th scope=col>&lt;chr&gt;</th><th scope=col>&lt;dbl&gt;</th><th scope=col>&lt;dbl&gt;</th></tr>\n",
       "</thead>\n",
       "<tbody>\n",
       "\t<tr><td>mike  </td><td>south</td><td>johnson</td><td>male  </td><td>40</td><td>10</td></tr>\n",
       "\t<tr><td>carol </td><td>south</td><td>johnson</td><td>female</td><td>30</td><td>50</td></tr>\n",
       "\t<tr><td>greg  </td><td>south</td><td>johnson</td><td>male  </td><td>20</td><td>20</td></tr>\n",
       "\t<tr><td>marcia</td><td>south</td><td>johnson</td><td>female</td><td>40</td><td>40</td></tr>\n",
       "\t<tr><td>peter </td><td>north</td><td>smith  </td><td>male  </td><td>30</td><td>50</td></tr>\n",
       "\t<tr><td>jan   </td><td>north</td><td>smith  </td><td>female</td><td>40</td><td>40</td></tr>\n",
       "\t<tr><td>bobby </td><td>north</td><td>smith  </td><td>male  </td><td>50</td><td>10</td></tr>\n",
       "\t<tr><td>cindy </td><td>south</td><td>perry  </td><td>female</td><td>40</td><td>50</td></tr>\n",
       "\t<tr><td>alice </td><td>south</td><td>perry  </td><td>female</td><td>50</td><td>40</td></tr>\n",
       "</tbody>\n",
       "</table>\n"
      ],
      "text/latex": [
       "A tibble: 9 × 6\n",
       "\\begin{tabular}{llllll}\n",
       " name & school & teacher & sex & math\\_score & reading\\_score\\\\\n",
       " <chr> & <chr> & <chr> & <chr> & <dbl> & <dbl>\\\\\n",
       "\\hline\n",
       "\t mike   & south & johnson & male   & 40 & 10\\\\\n",
       "\t carol  & south & johnson & female & 30 & 50\\\\\n",
       "\t greg   & south & johnson & male   & 20 & 20\\\\\n",
       "\t marcia & south & johnson & female & 40 & 40\\\\\n",
       "\t peter  & north & smith   & male   & 30 & 50\\\\\n",
       "\t jan    & north & smith   & female & 40 & 40\\\\\n",
       "\t bobby  & north & smith   & male   & 50 & 10\\\\\n",
       "\t cindy  & south & perry   & female & 40 & 50\\\\\n",
       "\t alice  & south & perry   & female & 50 & 40\\\\\n",
       "\\end{tabular}\n"
      ],
      "text/markdown": [
       "\n",
       "A tibble: 9 × 6\n",
       "\n",
       "| name &lt;chr&gt; | school &lt;chr&gt; | teacher &lt;chr&gt; | sex &lt;chr&gt; | math_score &lt;dbl&gt; | reading_score &lt;dbl&gt; |\n",
       "|---|---|---|---|---|---|\n",
       "| mike   | south | johnson | male   | 40 | 10 |\n",
       "| carol  | south | johnson | female | 30 | 50 |\n",
       "| greg   | south | johnson | male   | 20 | 20 |\n",
       "| marcia | south | johnson | female | 40 | 40 |\n",
       "| peter  | north | smith   | male   | 30 | 50 |\n",
       "| jan    | north | smith   | female | 40 | 40 |\n",
       "| bobby  | north | smith   | male   | 50 | 10 |\n",
       "| cindy  | south | perry   | female | 40 | 50 |\n",
       "| alice  | south | perry   | female | 50 | 40 |\n",
       "\n"
      ],
      "text/plain": [
       "  name   school teacher sex    math_score reading_score\n",
       "1 mike   south  johnson male   40         10           \n",
       "2 carol  south  johnson female 30         50           \n",
       "3 greg   south  johnson male   20         20           \n",
       "4 marcia south  johnson female 40         40           \n",
       "5 peter  north  smith   male   30         50           \n",
       "6 jan    north  smith   female 40         40           \n",
       "7 bobby  north  smith   male   50         10           \n",
       "8 cindy  south  perry   female 40         50           \n",
       "9 alice  south  perry   female 50         40           "
      ]
     },
     "metadata": {},
     "output_type": "display_data"
    }
   ],
   "source": [
    "score %>%\n",
    "    mutate(\n",
    "        math_score=math_score*10, \n",
    "        reading_score=reading_score*10\n",
    "    )"
   ]
  },
  {
   "cell_type": "code",
   "execution_count": 57,
   "id": "479b1a29-cbc6-4ddd-8be8-de43d934401f",
   "metadata": {
    "tags": []
   },
   "outputs": [
    {
     "data": {
      "text/html": [
       "<table class=\"dataframe\">\n",
       "<caption>A tibble: 9 × 7</caption>\n",
       "<thead>\n",
       "\t<tr><th scope=col>name</th><th scope=col>school</th><th scope=col>teacher</th><th scope=col>sex</th><th scope=col>math_score</th><th scope=col>reading_score</th><th scope=col>math_reading_avg</th></tr>\n",
       "\t<tr><th scope=col>&lt;chr&gt;</th><th scope=col>&lt;chr&gt;</th><th scope=col>&lt;chr&gt;</th><th scope=col>&lt;chr&gt;</th><th scope=col>&lt;dbl&gt;</th><th scope=col>&lt;dbl&gt;</th><th scope=col>&lt;dbl&gt;</th></tr>\n",
       "</thead>\n",
       "<tbody>\n",
       "\t<tr><td>mike  </td><td>south</td><td>johnson</td><td>male  </td><td>4</td><td>1</td><td>2.5</td></tr>\n",
       "\t<tr><td>carol </td><td>south</td><td>johnson</td><td>female</td><td>3</td><td>5</td><td>4.0</td></tr>\n",
       "\t<tr><td>greg  </td><td>south</td><td>johnson</td><td>male  </td><td>2</td><td>2</td><td>2.0</td></tr>\n",
       "\t<tr><td>marcia</td><td>south</td><td>johnson</td><td>female</td><td>4</td><td>4</td><td>4.0</td></tr>\n",
       "\t<tr><td>peter </td><td>north</td><td>smith  </td><td>male  </td><td>3</td><td>5</td><td>4.0</td></tr>\n",
       "\t<tr><td>jan   </td><td>north</td><td>smith  </td><td>female</td><td>4</td><td>4</td><td>4.0</td></tr>\n",
       "\t<tr><td>bobby </td><td>north</td><td>smith  </td><td>male  </td><td>5</td><td>1</td><td>3.0</td></tr>\n",
       "\t<tr><td>cindy </td><td>south</td><td>perry  </td><td>female</td><td>4</td><td>5</td><td>4.5</td></tr>\n",
       "\t<tr><td>alice </td><td>south</td><td>perry  </td><td>female</td><td>5</td><td>4</td><td>4.5</td></tr>\n",
       "</tbody>\n",
       "</table>\n"
      ],
      "text/latex": [
       "A tibble: 9 × 7\n",
       "\\begin{tabular}{lllllll}\n",
       " name & school & teacher & sex & math\\_score & reading\\_score & math\\_reading\\_avg\\\\\n",
       " <chr> & <chr> & <chr> & <chr> & <dbl> & <dbl> & <dbl>\\\\\n",
       "\\hline\n",
       "\t mike   & south & johnson & male   & 4 & 1 & 2.5\\\\\n",
       "\t carol  & south & johnson & female & 3 & 5 & 4.0\\\\\n",
       "\t greg   & south & johnson & male   & 2 & 2 & 2.0\\\\\n",
       "\t marcia & south & johnson & female & 4 & 4 & 4.0\\\\\n",
       "\t peter  & north & smith   & male   & 3 & 5 & 4.0\\\\\n",
       "\t jan    & north & smith   & female & 4 & 4 & 4.0\\\\\n",
       "\t bobby  & north & smith   & male   & 5 & 1 & 3.0\\\\\n",
       "\t cindy  & south & perry   & female & 4 & 5 & 4.5\\\\\n",
       "\t alice  & south & perry   & female & 5 & 4 & 4.5\\\\\n",
       "\\end{tabular}\n"
      ],
      "text/markdown": [
       "\n",
       "A tibble: 9 × 7\n",
       "\n",
       "| name &lt;chr&gt; | school &lt;chr&gt; | teacher &lt;chr&gt; | sex &lt;chr&gt; | math_score &lt;dbl&gt; | reading_score &lt;dbl&gt; | math_reading_avg &lt;dbl&gt; |\n",
       "|---|---|---|---|---|---|---|\n",
       "| mike   | south | johnson | male   | 4 | 1 | 2.5 |\n",
       "| carol  | south | johnson | female | 3 | 5 | 4.0 |\n",
       "| greg   | south | johnson | male   | 2 | 2 | 2.0 |\n",
       "| marcia | south | johnson | female | 4 | 4 | 4.0 |\n",
       "| peter  | north | smith   | male   | 3 | 5 | 4.0 |\n",
       "| jan    | north | smith   | female | 4 | 4 | 4.0 |\n",
       "| bobby  | north | smith   | male   | 5 | 1 | 3.0 |\n",
       "| cindy  | south | perry   | female | 4 | 5 | 4.5 |\n",
       "| alice  | south | perry   | female | 5 | 4 | 4.5 |\n",
       "\n"
      ],
      "text/plain": [
       "  name   school teacher sex    math_score reading_score math_reading_avg\n",
       "1 mike   south  johnson male   4          1             2.5             \n",
       "2 carol  south  johnson female 3          5             4.0             \n",
       "3 greg   south  johnson male   2          2             2.0             \n",
       "4 marcia south  johnson female 4          4             4.0             \n",
       "5 peter  north  smith   male   3          5             4.0             \n",
       "6 jan    north  smith   female 4          4             4.0             \n",
       "7 bobby  north  smith   male   5          1             3.0             \n",
       "8 cindy  south  perry   female 4          5             4.5             \n",
       "9 alice  south  perry   female 5          4             4.5             "
      ]
     },
     "metadata": {},
     "output_type": "display_data"
    }
   ],
   "source": [
    "score %>%\n",
    "    mutate(\n",
    "        math_reading_avg=(math_score+reading_score)/2)"
   ]
  }
 ],
 "metadata": {
  "kernelspec": {
   "display_name": "R Environment",
   "language": "R",
   "name": "r_env"
  },
  "language_info": {
   "codemirror_mode": "r",
   "file_extension": ".r",
   "mimetype": "text/x-r-source",
   "name": "R",
   "pygments_lexer": "r",
   "version": "4.3.1"
  }
 },
 "nbformat": 4,
 "nbformat_minor": 5
}
