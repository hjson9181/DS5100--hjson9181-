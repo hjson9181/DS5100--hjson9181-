{
 "cells": [
  {
   "cell_type": "markdown",
   "id": "d6706d8d-3e7a-4cc5-9555-484b94530d22",
   "metadata": {},
   "source": [
    "Metadata"
   ]
  },
  {
   "cell_type": "raw",
   "id": "642f5eb2-866c-4012-9354-9af696cd9485",
   "metadata": {
    "tags": []
   },
   "source": [
    "Course: DS 5100\n",
    "Term: Spring 2025 Online\n",
    "Module: M02 Homework\n",
    "Author: Haejin Son \n",
    "Date: 23 January 2025"
   ]
  },
  {
   "cell_type": "raw",
   "id": "b9c4c5e2-f21d-4f44-ad0e-f3614c302496",
   "metadata": {
    "tags": []
   },
   "source": [
    "Table 1: GRADES\n",
    "name grade \n",
    "Jon 95\n",
    "Mike 84\n",
    "Jaime 99"
   ]
  },
  {
   "cell_type": "code",
   "execution_count": 22,
   "id": "e900016a-af5a-47d7-ad7e-7b2edf46eaa9",
   "metadata": {
    "tags": []
   },
   "outputs": [
    {
     "name": "stdout",
     "output_type": "stream",
     "text": [
      "{'name': ['Jon', 'Mike', 'Jaime'], 'grade': ['95', '84', '99']}\n",
      "name\n",
      "grade\n",
      "['Jon', 'Mike', 'Jaime']\n",
      "['95', '84', '99']\n",
      "NAME:\tJon, Mike, Jaime\n",
      "GRADE:\t95, 84, 99\n"
     ]
    }
   ],
   "source": [
    "dictionary = {'name':['Jon','Mike','Jaime'], 'grade':['95','84','99']}\n",
    "print(dictionary) \n",
    "\n",
    "for k in dictionary.keys(): \n",
    "    print(k)\n",
    "for v in dictionary.values():\n",
    "    print(v)\n",
    "for k, v in dictionary.items():\n",
    "    print(f\"{k.upper()}:\\t{', '.join(v)}\") "
   ]
  },
  {
   "cell_type": "code",
   "execution_count": 26,
   "id": "90342adc-145c-4609-8231-f8ac6f426f20",
   "metadata": {
    "tags": []
   },
   "outputs": [
    {
     "name": "stdout",
     "output_type": "stream",
     "text": [
      "{'Jon': 95, 'Mike': 84, 'Jaime': 99}\n"
     ]
    },
    {
     "data": {
      "text/plain": [
       "84"
      ]
     },
     "execution_count": 26,
     "metadata": {},
     "output_type": "execute_result"
    }
   ],
   "source": [
    "dictionary = {\n",
    "    'Jon':95,\n",
    "    'Mike':84,\n",
    "    'Jaime':99\n",
    "}\n",
    "print(dictionary)\n",
    "dictionary['Mike'] "
   ]
  },
  {
   "cell_type": "code",
   "execution_count": 25,
   "id": "82d410cc-0294-48f4-b5cb-702e67985407",
   "metadata": {
    "tags": []
   },
   "outputs": [
    {
     "ename": "KeyError",
     "evalue": "'Jeff'",
     "output_type": "error",
     "traceback": [
      "\u001b[0;31m---------------------------------------------------------------------------\u001b[0m",
      "\u001b[0;31mKeyError\u001b[0m                                  Traceback (most recent call last)",
      "Cell \u001b[0;32mIn[25], line 6\u001b[0m\n\u001b[1;32m      1\u001b[0m dictionary \u001b[38;5;241m=\u001b[39m {\n\u001b[1;32m      2\u001b[0m     \u001b[38;5;124m'\u001b[39m\u001b[38;5;124mJon\u001b[39m\u001b[38;5;124m'\u001b[39m:\u001b[38;5;241m95\u001b[39m,\n\u001b[1;32m      3\u001b[0m     \u001b[38;5;124m'\u001b[39m\u001b[38;5;124mMike\u001b[39m\u001b[38;5;124m'\u001b[39m:\u001b[38;5;241m84\u001b[39m,\n\u001b[1;32m      4\u001b[0m     \u001b[38;5;124m'\u001b[39m\u001b[38;5;124mJaime\u001b[39m\u001b[38;5;124m'\u001b[39m:\u001b[38;5;241m99\u001b[39m\n\u001b[1;32m      5\u001b[0m }\n\u001b[0;32m----> 6\u001b[0m \u001b[43mdictionary\u001b[49m\u001b[43m[\u001b[49m\u001b[38;5;124;43m'\u001b[39;49m\u001b[38;5;124;43mJeff\u001b[39;49m\u001b[38;5;124;43m'\u001b[39;49m\u001b[43m]\u001b[49m\n",
      "\u001b[0;31mKeyError\u001b[0m: 'Jeff'"
     ]
    }
   ],
   "source": [
    "dictionary = {\n",
    "    'Jon':95,\n",
    "    'Mike':84,\n",
    "    'Jaime':99\n",
    "}\n",
    "dictionary['Jeff']"
   ]
  },
  {
   "cell_type": "code",
   "execution_count": 34,
   "id": "5088f4ce-1e58-4b55-a4fb-1d85480ac773",
   "metadata": {
    "tags": []
   },
   "outputs": [
    {
     "name": "stdout",
     "output_type": "stream",
     "text": [
      "['Alex', 'Patrick', 'Tom', 'Joe', 'Alex']\n",
      "['Alex', 'Alex', 'Joe', 'Patrick', 'Tom']\n"
     ]
    }
   ],
   "source": [
    "names = ['Alex','Patrick','Tom','Joe','Alex']\n",
    "print(names)\n",
    "names.sort()\n",
    "print(names)"
   ]
  },
  {
   "cell_type": "code",
   "execution_count": 35,
   "id": "b532ad5e-1a22-48f4-99ea-7b88944b2290",
   "metadata": {
    "tags": []
   },
   "outputs": [
    {
     "name": "stdout",
     "output_type": "stream",
     "text": [
      "{'Alex', 'Joe', 'Tom', 'Patrick'}\n"
     ]
    }
   ],
   "source": [
    "name = {'Alex','Patrick','Tom','Joe','Alex'}\n",
    "print(name)"
   ]
  },
  {
   "cell_type": "code",
   "execution_count": 72,
   "id": "6ceaa7c3-9ac4-4614-9ec0-1b14b7de4a2e",
   "metadata": {
    "tags": []
   },
   "outputs": [
    {
     "name": "stdout",
     "output_type": "stream",
     "text": [
      "{'name': ['Alex', 'Patrick', 'Tom', 'Joe', 'Alex'], 'touchdowns': ['2', '4', '1', '3', '1']}\n",
      "name\n",
      "touchdowns\n",
      "['Alex', 'Patrick', 'Tom', 'Joe', 'Alex']\n",
      "['2', '4', '1', '3', '1']\n",
      "NAME:\tAlex, Patrick, Tom, Joe, Alex\n",
      "TOUCHDOWNS:\t2, 4, 1, 3, 1\n",
      "3\n"
     ]
    }
   ],
   "source": [
    "td = {'name':['Alex','Patrick','Tom','Joe','Alex'], 'touchdowns':['2','4','1','3','1']}\n",
    "print(td) \n",
    "\n",
    "for k in td.keys(): \n",
    "    print(k)\n",
    "for v in td.values():\n",
    "    print(v)\n",
    "for k, v in td.items():\n",
    "    print(f\"{k.upper()}:\\t{', '.join(td[k])}\") "
   ]
  },
  {
   "cell_type": "code",
   "execution_count": 73,
   "id": "9bbe56da-877a-4968-b09c-3610978a4932",
   "metadata": {
    "tags": []
   },
   "outputs": [
    {
     "name": "stdout",
     "output_type": "stream",
     "text": [
      "3\n"
     ]
    }
   ],
   "source": [
    "td = {'name':['Alex','Patrick','Tom','Joe','Alex'], 'touchdowns':['2','4','1','3','1']}\n",
    "\n",
    "td['touchdowns']=[int(x) for (x) in td['touchdowns']]\n",
    "Alex_touchdowns=[td['touchdowns'][i] for i in range(len(td['name'])) if td['name'][i]=='Alex']\n",
    "Alex_total_touchdowns=sum(Alex_touchdowns)\n",
    "\n",
    "print(Alex_total_touchdowns)"
   ]
  },
  {
   "cell_type": "code",
   "execution_count": 96,
   "id": "e614fa3c-50cc-48c6-b5cb-c2d8b568bded",
   "metadata": {
    "tags": []
   },
   "outputs": [
    {
     "name": "stdout",
     "output_type": "stream",
     "text": [
      "['Alex', 'Patrick', 'Tom', 'Joe', 'Alex']\n",
      "['Alex', 'Patrick', 'Tom', 'Joe', 'Alex']\n",
      "True\n"
     ]
    }
   ],
   "source": [
    "td = {'name':['Alex','Patrick','Tom','Joe','Alex'], 'touchdowns':['2','4','1','3','1']}\n",
    "\n",
    "list1=td['name']\n",
    "print(td['name'])\n",
    "\n",
    "names = ['Alex','Patrick','Tom','Joe','Alex']\n",
    "\n",
    "list2=names\n",
    "print(names)\n",
    "\n",
    "are_equal = list1 == list2\n",
    "print(are_equal)"
   ]
  },
  {
   "cell_type": "code",
   "execution_count": null,
   "id": "101db214-a12b-44ef-9dec-e0e9287c2af8",
   "metadata": {},
   "outputs": [],
   "source": []
  },
  {
   "cell_type": "code",
   "execution_count": null,
   "id": "7e4dbd75-ec72-49cc-a2ac-30e1c814c477",
   "metadata": {},
   "outputs": [],
   "source": []
  },
  {
   "cell_type": "code",
   "execution_count": null,
   "id": "886f3a54-7045-4a91-8a2f-db24da61505b",
   "metadata": {},
   "outputs": [],
   "source": []
  },
  {
   "cell_type": "code",
   "execution_count": null,
   "id": "32c73216-a79e-430f-9d7a-4a9eb08f9524",
   "metadata": {},
   "outputs": [],
   "source": []
  },
  {
   "cell_type": "code",
   "execution_count": null,
   "id": "94340e3e-70b8-430f-b6ee-0fadaed2aaeb",
   "metadata": {},
   "outputs": [],
   "source": []
  },
  {
   "cell_type": "code",
   "execution_count": null,
   "id": "a405e0c8-6623-434d-80dc-a9d8bc539abc",
   "metadata": {},
   "outputs": [],
   "source": []
  },
  {
   "cell_type": "code",
   "execution_count": null,
   "id": "6098230c-f977-4b0c-ba94-fc75cf36af1f",
   "metadata": {},
   "outputs": [],
   "source": []
  },
  {
   "cell_type": "code",
   "execution_count": null,
   "id": "c7d41b54-54c9-45b0-81fa-c4754bb38591",
   "metadata": {},
   "outputs": [],
   "source": []
  },
  {
   "cell_type": "code",
   "execution_count": null,
   "id": "93c2cd42-b3b8-4a9d-82cc-a667a55f96bc",
   "metadata": {},
   "outputs": [],
   "source": []
  },
  {
   "cell_type": "code",
   "execution_count": null,
   "id": "60f89b1a-61ba-4e31-9c15-a72d9c0acb6d",
   "metadata": {},
   "outputs": [],
   "source": []
  },
  {
   "cell_type": "code",
   "execution_count": null,
   "id": "bc5156ad-4029-4631-a3ba-29da1c2c953e",
   "metadata": {},
   "outputs": [],
   "source": []
  },
  {
   "cell_type": "code",
   "execution_count": null,
   "id": "e892d911-5648-4b72-86bf-6f57482a365e",
   "metadata": {},
   "outputs": [],
   "source": []
  },
  {
   "cell_type": "code",
   "execution_count": null,
   "id": "1850f56c-73e6-494d-a180-d09fe8b51825",
   "metadata": {},
   "outputs": [],
   "source": []
  },
  {
   "cell_type": "code",
   "execution_count": null,
   "id": "4140c7a8-110d-4aa7-9801-60e9a1c19b87",
   "metadata": {},
   "outputs": [],
   "source": []
  },
  {
   "cell_type": "code",
   "execution_count": null,
   "id": "434fd92f-4520-46d5-8fd7-1e56e01bb552",
   "metadata": {},
   "outputs": [],
   "source": []
  },
  {
   "cell_type": "code",
   "execution_count": null,
   "id": "201023bf-e331-43c5-b18e-38832913f0f0",
   "metadata": {},
   "outputs": [],
   "source": []
  },
  {
   "cell_type": "code",
   "execution_count": null,
   "id": "8b5d6d32-e631-4d76-bdba-1bdcdc96c4c1",
   "metadata": {},
   "outputs": [],
   "source": []
  },
  {
   "cell_type": "code",
   "execution_count": null,
   "id": "434e3e30-3a40-46dc-a8f0-cc07624c70ee",
   "metadata": {},
   "outputs": [],
   "source": []
  },
  {
   "cell_type": "code",
   "execution_count": null,
   "id": "750df8ff-5c05-4dbc-abef-fa55cfb1ed47",
   "metadata": {},
   "outputs": [],
   "source": []
  },
  {
   "cell_type": "code",
   "execution_count": null,
   "id": "60386688-9817-47af-9658-e16b51fbfccf",
   "metadata": {},
   "outputs": [],
   "source": []
  },
  {
   "cell_type": "code",
   "execution_count": null,
   "id": "a91bbb4c-0a77-4e6c-928c-6e42b6217a2d",
   "metadata": {},
   "outputs": [],
   "source": []
  },
  {
   "cell_type": "code",
   "execution_count": null,
   "id": "5d3004d1-704d-4831-ac03-ad0fe12db65e",
   "metadata": {},
   "outputs": [],
   "source": []
  },
  {
   "cell_type": "code",
   "execution_count": null,
   "id": "64bb54b0-c7c2-49c3-91a6-20b19bdee1f9",
   "metadata": {},
   "outputs": [],
   "source": []
  },
  {
   "cell_type": "code",
   "execution_count": null,
   "id": "140f631b-3eb9-46d3-88d7-64911cfa3e6f",
   "metadata": {},
   "outputs": [],
   "source": []
  },
  {
   "cell_type": "code",
   "execution_count": null,
   "id": "cde1d434-408b-4b82-b213-dcbaa3362f18",
   "metadata": {},
   "outputs": [],
   "source": []
  },
  {
   "cell_type": "code",
   "execution_count": null,
   "id": "ee557002-a0e8-40d8-937b-50ab66ac326e",
   "metadata": {},
   "outputs": [],
   "source": []
  },
  {
   "cell_type": "code",
   "execution_count": null,
   "id": "8aec81cd-4a24-4329-b7bc-bf8764ae221b",
   "metadata": {},
   "outputs": [],
   "source": []
  },
  {
   "cell_type": "code",
   "execution_count": null,
   "id": "94acd92c-e321-470e-adea-60b8521ef10e",
   "metadata": {},
   "outputs": [],
   "source": []
  },
  {
   "cell_type": "code",
   "execution_count": null,
   "id": "f0a9cd06-2e56-4fef-a5d7-6c3b8ecc0c0d",
   "metadata": {},
   "outputs": [],
   "source": []
  },
  {
   "cell_type": "code",
   "execution_count": null,
   "id": "9d52a1f5-eeb7-49bb-8b4d-c496c75e21c6",
   "metadata": {},
   "outputs": [],
   "source": []
  },
  {
   "cell_type": "code",
   "execution_count": null,
   "id": "a765c17e-7bdc-46d0-9513-d60d0c4abb99",
   "metadata": {},
   "outputs": [],
   "source": []
  },
  {
   "cell_type": "code",
   "execution_count": 62,
   "id": "393be823-9b69-47ea-b02c-41d435f865aa",
   "metadata": {
    "tags": []
   },
   "outputs": [
    {
     "ename": "NameError",
     "evalue": "name 'test' is not defined",
     "output_type": "error",
     "traceback": [
      "\u001b[0;31m---------------------------------------------------------------------------\u001b[0m",
      "\u001b[0;31mNameError\u001b[0m                                 Traceback (most recent call last)",
      "Cell \u001b[0;32mIn[62], line 1\u001b[0m\n\u001b[0;32m----> 1\u001b[0m test \u001b[38;5;241m=\u001b[39m \u001b[43mtest\u001b[49m\u001b[38;5;241m.\u001b[39mDataFrame({\n\u001b[1;32m      2\u001b[0m     \u001b[38;5;124m'\u001b[39m\u001b[38;5;124mname\u001b[39m\u001b[38;5;124m'\u001b[39m:[\u001b[38;5;124m'\u001b[39m\u001b[38;5;124mAlex\u001b[39m\u001b[38;5;124m'\u001b[39m,\u001b[38;5;124m'\u001b[39m\u001b[38;5;124mPatrick\u001b[39m\u001b[38;5;124m'\u001b[39m,\u001b[38;5;124m'\u001b[39m\u001b[38;5;124mTom\u001b[39m\u001b[38;5;124m'\u001b[39m,\u001b[38;5;124m'\u001b[39m\u001b[38;5;124mJoe\u001b[39m\u001b[38;5;124m'\u001b[39m,\u001b[38;5;124m'\u001b[39m\u001b[38;5;124mAlex\u001b[39m\u001b[38;5;124m'\u001b[39m],\n\u001b[1;32m      3\u001b[0m     \u001b[38;5;124m'\u001b[39m\u001b[38;5;124mtouchdowns\u001b[39m\u001b[38;5;124m'\u001b[39m:[\u001b[38;5;124m'\u001b[39m\u001b[38;5;124m2\u001b[39m\u001b[38;5;124m'\u001b[39m,\u001b[38;5;124m'\u001b[39m\u001b[38;5;124m4\u001b[39m\u001b[38;5;124m'\u001b[39m,\u001b[38;5;124m'\u001b[39m\u001b[38;5;124m1\u001b[39m\u001b[38;5;124m'\u001b[39m,\u001b[38;5;124m'\u001b[39m\u001b[38;5;124m3\u001b[39m\u001b[38;5;124m'\u001b[39m,\u001b[38;5;124m'\u001b[39m\u001b[38;5;124m1\u001b[39m\u001b[38;5;124m'\u001b[39m]\n\u001b[1;32m      4\u001b[0m })\n\u001b[1;32m      5\u001b[0m \u001b[38;5;28mprint\u001b[39m(test)\n",
      "\u001b[0;31mNameError\u001b[0m: name 'test' is not defined"
     ]
    }
   ],
   "source": [
    "test = test.DataFrame({\n",
    "    'name':['Alex','Patrick','Tom','Joe','Alex'],\n",
    "    'touchdowns':['2','4','1','3','1']\n",
    "})\n",
    "print(test)"
   ]
  },
  {
   "cell_type": "code",
   "execution_count": null,
   "id": "076c14f2-6cf7-49de-a7b6-ac25f53f94ea",
   "metadata": {},
   "outputs": [],
   "source": []
  },
  {
   "cell_type": "code",
   "execution_count": null,
   "id": "bbbc65d7-fe7b-432f-a7ac-249ebef5085a",
   "metadata": {},
   "outputs": [],
   "source": []
  },
  {
   "cell_type": "code",
   "execution_count": null,
   "id": "7ad15502-b1b5-43de-8b72-08467639f84b",
   "metadata": {},
   "outputs": [],
   "source": []
  },
  {
   "cell_type": "code",
   "execution_count": null,
   "id": "b37e0733-2452-4fe5-8acb-6a75820bbf72",
   "metadata": {},
   "outputs": [],
   "source": []
  },
  {
   "cell_type": "code",
   "execution_count": null,
   "id": "e3071413-5a96-4386-936f-fce848e6887e",
   "metadata": {},
   "outputs": [],
   "source": []
  },
  {
   "cell_type": "code",
   "execution_count": null,
   "id": "82dbcabe-4297-42ad-b8a1-c75bb38d2f92",
   "metadata": {},
   "outputs": [],
   "source": []
  },
  {
   "cell_type": "code",
   "execution_count": null,
   "id": "05a6ced0-40ae-4b70-88dd-6e4c6562a9c9",
   "metadata": {},
   "outputs": [],
   "source": []
  },
  {
   "cell_type": "code",
   "execution_count": null,
   "id": "42f67742-a5f9-405d-8ab5-d09210128301",
   "metadata": {},
   "outputs": [],
   "source": []
  },
  {
   "cell_type": "code",
   "execution_count": null,
   "id": "b1f64e86-f796-43b0-a7cd-ff82c467524f",
   "metadata": {},
   "outputs": [],
   "source": []
  },
  {
   "cell_type": "code",
   "execution_count": null,
   "id": "f0fb5587-37bd-4d8b-8578-a610821913dd",
   "metadata": {},
   "outputs": [],
   "source": []
  },
  {
   "cell_type": "code",
   "execution_count": null,
   "id": "d3789461-17a7-431e-a4f2-ba23092db6bf",
   "metadata": {},
   "outputs": [],
   "source": []
  },
  {
   "cell_type": "code",
   "execution_count": null,
   "id": "4b5a7bf3-6a99-4dca-be79-2e9576cf70f5",
   "metadata": {},
   "outputs": [],
   "source": []
  },
  {
   "cell_type": "code",
   "execution_count": null,
   "id": "dfcd3943-2779-421f-a5b3-c4e0827680b5",
   "metadata": {},
   "outputs": [],
   "source": []
  },
  {
   "cell_type": "code",
   "execution_count": null,
   "id": "3e1c7361-f096-4747-926c-dbd463d96899",
   "metadata": {},
   "outputs": [],
   "source": []
  },
  {
   "cell_type": "code",
   "execution_count": null,
   "id": "52519890-ee1f-4f2c-abff-e0e4a6161392",
   "metadata": {},
   "outputs": [],
   "source": []
  },
  {
   "cell_type": "code",
   "execution_count": null,
   "id": "9c8f5e71-ae1f-48ef-8010-1f830476f984",
   "metadata": {},
   "outputs": [],
   "source": []
  },
  {
   "cell_type": "code",
   "execution_count": null,
   "id": "a200cbbe-9a12-44f3-aae6-f2392224b518",
   "metadata": {},
   "outputs": [],
   "source": []
  },
  {
   "cell_type": "code",
   "execution_count": null,
   "id": "67d05772-7eb9-4bdb-aef5-7b356cf7fd7d",
   "metadata": {},
   "outputs": [],
   "source": []
  },
  {
   "cell_type": "code",
   "execution_count": null,
   "id": "7cca3a4b-c19d-4db2-9149-7d84b216f7ba",
   "metadata": {},
   "outputs": [],
   "source": []
  },
  {
   "cell_type": "code",
   "execution_count": null,
   "id": "50d4b358-964e-4d1f-9262-568154ce1bc7",
   "metadata": {},
   "outputs": [],
   "source": []
  },
  {
   "cell_type": "code",
   "execution_count": null,
   "id": "90abca90-3179-48e2-8875-b3931982f681",
   "metadata": {},
   "outputs": [],
   "source": []
  },
  {
   "cell_type": "code",
   "execution_count": null,
   "id": "9a035672-84a4-4acc-846a-925d98db1134",
   "metadata": {},
   "outputs": [],
   "source": []
  },
  {
   "cell_type": "code",
   "execution_count": null,
   "id": "d2851e40-5f68-4a4c-9235-9af32a9b173a",
   "metadata": {},
   "outputs": [],
   "source": []
  },
  {
   "cell_type": "code",
   "execution_count": null,
   "id": "ece419fb-c5c2-4b2e-ab75-bfe20deae18d",
   "metadata": {},
   "outputs": [],
   "source": []
  },
  {
   "cell_type": "code",
   "execution_count": null,
   "id": "fdb6d6a8-0743-4752-b7f9-5b9725310de4",
   "metadata": {},
   "outputs": [],
   "source": []
  },
  {
   "cell_type": "code",
   "execution_count": null,
   "id": "44fe4077-b0a0-407e-86ad-1bb9efa65874",
   "metadata": {},
   "outputs": [],
   "source": []
  },
  {
   "cell_type": "code",
   "execution_count": null,
   "id": "05d1d47b-cb73-4faa-bee5-efbb117cd673",
   "metadata": {},
   "outputs": [],
   "source": []
  },
  {
   "cell_type": "code",
   "execution_count": null,
   "id": "93939e06-7fc4-4418-ae5c-e86d3db5849d",
   "metadata": {},
   "outputs": [],
   "source": []
  },
  {
   "cell_type": "code",
   "execution_count": null,
   "id": "14f67688-d96e-4b72-9d59-3867607e51ce",
   "metadata": {},
   "outputs": [],
   "source": []
  },
  {
   "cell_type": "code",
   "execution_count": null,
   "id": "7b94641d-6b77-4f9d-9283-b0a7eba057c2",
   "metadata": {},
   "outputs": [],
   "source": []
  },
  {
   "cell_type": "code",
   "execution_count": null,
   "id": "3c8258fd-0bf7-475c-994f-9029c2ed9ba3",
   "metadata": {},
   "outputs": [],
   "source": []
  },
  {
   "cell_type": "code",
   "execution_count": null,
   "id": "eb793aad-d134-496b-8d63-359de611a760",
   "metadata": {},
   "outputs": [],
   "source": []
  },
  {
   "cell_type": "code",
   "execution_count": null,
   "id": "858f8c80-1ffd-4e87-99bf-bd53479638a7",
   "metadata": {},
   "outputs": [],
   "source": []
  },
  {
   "cell_type": "code",
   "execution_count": null,
   "id": "ac87dd51-e2c6-42e2-8866-d20a9c7e2b31",
   "metadata": {},
   "outputs": [],
   "source": []
  },
  {
   "cell_type": "code",
   "execution_count": null,
   "id": "2cf308a5-e1e4-4d7b-9ca6-868cc3ccf591",
   "metadata": {},
   "outputs": [],
   "source": []
  },
  {
   "cell_type": "code",
   "execution_count": null,
   "id": "fd33ed13-fd01-4165-9b38-9f36056e219a",
   "metadata": {},
   "outputs": [],
   "source": []
  },
  {
   "cell_type": "code",
   "execution_count": null,
   "id": "d61aabd7-765b-4475-9f37-48d837687f8a",
   "metadata": {},
   "outputs": [],
   "source": []
  },
  {
   "cell_type": "code",
   "execution_count": null,
   "id": "34923a4a-bc91-4a6f-9a4e-5d9946bee512",
   "metadata": {},
   "outputs": [],
   "source": []
  },
  {
   "cell_type": "code",
   "execution_count": null,
   "id": "54ef0e15-f4fb-4320-a7fa-feb08a62dce5",
   "metadata": {},
   "outputs": [],
   "source": []
  },
  {
   "cell_type": "code",
   "execution_count": null,
   "id": "3ed1e747-2f64-4e6a-97f6-95c7659e1f67",
   "metadata": {},
   "outputs": [],
   "source": []
  },
  {
   "cell_type": "code",
   "execution_count": null,
   "id": "d1ee66a4-4879-4379-bbb8-d524efec07fb",
   "metadata": {},
   "outputs": [],
   "source": []
  },
  {
   "cell_type": "code",
   "execution_count": null,
   "id": "f527ba0b-bb50-40b5-9340-3ed03ac8b43d",
   "metadata": {},
   "outputs": [],
   "source": []
  },
  {
   "cell_type": "code",
   "execution_count": null,
   "id": "25b43c0c-9dba-4e57-a80a-1b630dee25d4",
   "metadata": {},
   "outputs": [],
   "source": []
  },
  {
   "cell_type": "code",
   "execution_count": null,
   "id": "e6ce106c-8586-4772-9a31-e13e7b1d2c7c",
   "metadata": {},
   "outputs": [],
   "source": []
  },
  {
   "cell_type": "code",
   "execution_count": null,
   "id": "64343658-5137-4b86-96d3-4583eb0a3f7e",
   "metadata": {},
   "outputs": [],
   "source": []
  },
  {
   "cell_type": "code",
   "execution_count": null,
   "id": "01bc8f3d-12de-4c71-b5bd-c2d75e338580",
   "metadata": {},
   "outputs": [],
   "source": []
  },
  {
   "cell_type": "code",
   "execution_count": null,
   "id": "c8381121-910a-4439-9561-2c5f894f2757",
   "metadata": {},
   "outputs": [],
   "source": []
  },
  {
   "cell_type": "code",
   "execution_count": null,
   "id": "514eda7e-3742-40c0-9aa1-89032ee091ea",
   "metadata": {},
   "outputs": [],
   "source": []
  },
  {
   "cell_type": "code",
   "execution_count": null,
   "id": "5651d1c2-ee17-4404-ac14-32d9393d87f8",
   "metadata": {},
   "outputs": [],
   "source": []
  }
 ],
 "metadata": {
  "kernelspec": {
   "display_name": "Python 3 (ipykernel)",
   "language": "python",
   "name": "python3"
  },
  "language_info": {
   "codemirror_mode": {
    "name": "ipython",
    "version": 3
   },
   "file_extension": ".py",
   "mimetype": "text/x-python",
   "name": "python",
   "nbconvert_exporter": "python",
   "pygments_lexer": "ipython3",
   "version": "3.11.4"
  }
 },
 "nbformat": 4,
 "nbformat_minor": 5
}
