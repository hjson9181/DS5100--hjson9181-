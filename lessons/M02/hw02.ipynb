{
 "cells": [
  {
   "cell_type": "markdown",
   "id": "83122895-ebae-4c54-9cc5-5a9fc0a53b32",
   "metadata": {},
   "source": [
    "Course: DS 5100,\n",
    "Term: Spring 2025 Online,\n",
    "Module: M02 Homework,\n",
    "Author: Haejin Son, \n",
    "Date: 23 January 2025"
   ]
  },
  {
   "cell_type": "markdown",
   "id": "7823bb35-25ee-4146-9466-d77e65e5a916",
   "metadata": {
    "tags": []
   },
   "source": [
    "Net ID: umw7eg,\n",
    "URL of this file in GitHub: https://github.com/hjson9181/DS5100--hjson9181-/blob/main/lessons/M02/hw02.ipynb"
   ]
  },
  {
   "cell_type": "code",
   "execution_count": 4,
   "id": "f66b36b8-a3c3-4102-b22d-5dc6cbd72635",
   "metadata": {
    "tags": []
   },
   "outputs": [
    {
     "name": "stdout",
     "output_type": "stream",
     "text": [
      "{'Jon': 95, 'Mike': 84, 'Jaime': 99}\n"
     ]
    }
   ],
   "source": [
    "gradebook = {'Jon':95,'Mike':84,'Jaime':99}\n",
    "print(gradebook) "
   ]
  },
  {
   "cell_type": "code",
   "execution_count": 5,
   "id": "e5016300-c993-43e9-a7d4-c602cf6f02eb",
   "metadata": {
    "tags": []
   },
   "outputs": [
    {
     "data": {
      "text/plain": [
       "84"
      ]
     },
     "execution_count": 5,
     "metadata": {},
     "output_type": "execute_result"
    }
   ],
   "source": [
    "gradebook['Mike']"
   ]
  },
  {
   "cell_type": "code",
   "execution_count": 6,
   "id": "8fde6a37-bcfb-4bc0-b0f3-cdf67c464de4",
   "metadata": {
    "tags": []
   },
   "outputs": [
    {
     "ename": "KeyError",
     "evalue": "'Jeff'",
     "output_type": "error",
     "traceback": [
      "\u001b[0;31m---------------------------------------------------------------------------\u001b[0m",
      "\u001b[0;31mKeyError\u001b[0m                                  Traceback (most recent call last)",
      "Cell \u001b[0;32mIn[6], line 1\u001b[0m\n\u001b[0;32m----> 1\u001b[0m \u001b[43mgradebook\u001b[49m\u001b[43m[\u001b[49m\u001b[38;5;124;43m'\u001b[39;49m\u001b[38;5;124;43mJeff\u001b[39;49m\u001b[38;5;124;43m'\u001b[39;49m\u001b[43m]\u001b[49m\n",
      "\u001b[0;31mKeyError\u001b[0m: 'Jeff'"
     ]
    }
   ],
   "source": [
    "gradebook['Jeff']"
   ]
  },
  {
   "cell_type": "code",
   "execution_count": 16,
   "id": "e9ec5c63-8cc7-469f-9934-8e919a2f038a",
   "metadata": {
    "tags": []
   },
   "outputs": [
    {
     "name": "stdout",
     "output_type": "stream",
     "text": [
      "['Alex', 'Patrick', 'Tom', 'Joe', 'Alex']\n",
      "['Alex', 'Alex', 'Joe', 'Patrick', 'Tom']\n"
     ]
    }
   ],
   "source": [
    "names = ['Alex','Patrick','Tom','Joe','Alex']\n",
    "print(names)\n",
    "names.sort()\n",
    "print(names)"
   ]
  },
  {
   "cell_type": "code",
   "execution_count": 17,
   "id": "40e24df6-6d5f-439a-bf2f-09f98344a5f9",
   "metadata": {
    "tags": []
   },
   "outputs": [
    {
     "name": "stdout",
     "output_type": "stream",
     "text": [
      "{'Tom', 'Alex', 'Patrick', 'Joe'}\n"
     ]
    }
   ],
   "source": [
    "name = {'Alex','Patrick','Tom','Joe','Alex'}\n",
    "print(name)"
   ]
  },
  {
   "cell_type": "code",
   "execution_count": 16,
   "id": "b52d552b-ed3a-4f98-99b8-7ee2eccf605f",
   "metadata": {
    "tags": []
   },
   "outputs": [
    {
     "name": "stdout",
     "output_type": "stream",
     "text": [
      "['Alex', 'Patrick', 'Tom', 'Joe', 'Alex']\n",
      "['Alex', 'Alex', 'Joe', 'Patrick', 'Tom']\n"
     ]
    }
   ],
   "source": [
    "names = ['Alex','Patrick','Tom','Joe','Alex']\n",
    "print(names)\n",
    "names.sort()\n",
    "print(names)"
   ]
  },
  {
   "cell_type": "code",
   "execution_count": 20,
   "id": "d0badc96-f664-434e-b5fb-2e92d4f1beae",
   "metadata": {
    "tags": []
   },
   "outputs": [
    {
     "name": "stdout",
     "output_type": "stream",
     "text": [
      "{'Alex': [2, 1], 'Patrick': [4], 'Tom': [1], 'Joe': [3]}\n"
     ]
    }
   ],
   "source": [
    "td = {'Alex':[2,1],'Patrick':[4],'Tom':[1],'Joe':[3]}\n",
    "print(td)"
   ]
  },
  {
   "cell_type": "code",
   "execution_count": 19,
   "id": "f5067501-4b8e-4d76-a153-4f39cf1a423b",
   "metadata": {
    "tags": []
   },
   "outputs": [
    {
     "data": {
      "text/plain": [
       "3"
      ]
     },
     "execution_count": 19,
     "metadata": {},
     "output_type": "execute_result"
    }
   ],
   "source": [
    "td['Alex']\n",
    "sum(td['Alex'])"
   ]
  },
  {
   "cell_type": "code",
   "execution_count": 21,
   "id": "5d83896f-f0dd-45ca-9896-3b4ff07899ae",
   "metadata": {
    "tags": []
   },
   "outputs": [],
   "source": [
    "list1=list(td.keys())\n",
    "list2=list(name)\n",
    "list1.sort()\n",
    "list2.sort()"
   ]
  },
  {
   "cell_type": "code",
   "execution_count": 22,
   "id": "b37525cd-7543-4af0-bddf-c224bd9dc68d",
   "metadata": {
    "tags": []
   },
   "outputs": [
    {
     "name": "stdout",
     "output_type": "stream",
     "text": [
      "True\n"
     ]
    }
   ],
   "source": [
    "are_equal = list1 == list2\n",
    "print(are_equal)"
   ]
  }
 ],
 "metadata": {
  "kernelspec": {
   "display_name": "Python 3 (ipykernel)",
   "language": "python",
   "name": "python3"
  },
  "language_info": {
   "codemirror_mode": {
    "name": "ipython",
    "version": 3
   },
   "file_extension": ".py",
   "mimetype": "text/x-python",
   "name": "python",
   "nbconvert_exporter": "python",
   "pygments_lexer": "ipython3",
   "version": "3.11.4"
  }
 },
 "nbformat": 4,
 "nbformat_minor": 5
}
