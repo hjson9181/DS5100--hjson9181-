{
 "cells": [
  {
   "cell_type": "code",
   "execution_count": null,
   "id": "dbd7f5f1-2011-438d-bdd5-287e381d2822",
   "metadata": {},
   "outputs": [],
   "source": [
    "Module 4"
   ]
  },
  {
   "cell_type": "code",
   "execution_count": 1,
   "id": "13a6a532-8e6a-4753-b657-bcfc43042a02",
   "metadata": {
    "tags": []
   },
   "outputs": [],
   "source": [
    "def verify_string_length(text, val): ##Exercise 4.1\n",
    "    \"\"\"\n",
    "    PURPOSE: check if the length of text is equal to a value \n",
    "    INPUTS: \n",
    "    text str\n",
    "    val integer\n",
    "    OUTPUTS:\n",
    "    check bool\n",
    "    \"\"\"\n",
    "    return len(text)==val"
   ]
  },
  {
   "cell_type": "code",
   "execution_count": 4,
   "id": "67925580-7036-4ef7-9137-c9ac708b07e9",
   "metadata": {
    "tags": []
   },
   "outputs": [
    {
     "data": {
      "text/plain": [
       "True"
      ]
     },
     "execution_count": 4,
     "metadata": {},
     "output_type": "execute_result"
    }
   ],
   "source": [
    "txt = 'is this text the right length?'\n",
    "val = 30 \n",
    "out = verify_string_length (txt, val)\n",
    "out"
   ]
  },
  {
   "cell_type": "code",
   "execution_count": 10,
   "id": "beef1acf-c9d6-4e7b-8970-7d4a8963ece0",
   "metadata": {
    "tags": []
   },
   "outputs": [],
   "source": [
    "def square_args(*vars): ##Exercise4.2\n",
    "    for var in vars:\n",
    "        print(var**2)\n",
    "    return None"
   ]
  },
  {
   "cell_type": "code",
   "execution_count": 11,
   "id": "35500b3b-ed91-453c-a907-7b150c033c63",
   "metadata": {},
   "outputs": [
    {
     "name": "stdout",
     "output_type": "stream",
     "text": [
      "4\n",
      "9\n",
      "64\n"
     ]
    }
   ],
   "source": [
    "square_args(2,3,8)"
   ]
  },
  {
   "cell_type": "code",
   "execution_count": 13,
   "id": "64de7480-6378-4342-9e2c-b4fd37deb000",
   "metadata": {
    "tags": []
   },
   "outputs": [
    {
     "data": {
      "text/plain": [
       "'W14W'"
      ]
     },
     "execution_count": 13,
     "metadata": {},
     "output_type": "execute_result"
    }
   ],
   "source": [
    "def make_numeronym(long_word): ##Exercise4.3\n",
    "    if not isinstance(long_word, str) or len(long_word)<4: \n",
    "        print(f\"{long_word} is either not a string or is too short.\")\n",
    "        return False \n",
    "    return f\"{long_word[0]}{len(long_word[1:-1])}{long_word[-1]}\".upper()\n",
    "make_numeronym(\"whatifIdonotknow\")"
   ]
  },
  {
   "cell_type": "code",
   "execution_count": 17,
   "id": "0cb09e27-9f7f-41ba-b5b0-b253f890f518",
   "metadata": {
    "tags": []
   },
   "outputs": [
    {
     "data": {
      "text/plain": [
       "1"
      ]
     },
     "execution_count": 17,
     "metadata": {},
     "output_type": "execute_result"
    }
   ],
   "source": [
    "def thunk(x): ##Exercise4.4\n",
    "    diff = x-5\n",
    "    if diff>=0:\n",
    "        return 1\n",
    "    return 0 \n",
    "samples=[5,10,4,30]\n",
    "results=[thunk(s) for s in samples] \n",
    "\n",
    "thunk(5.5)"
   ]
  },
  {
   "cell_type": "code",
   "execution_count": 19,
   "id": "322cca74-ac49-43fd-bc67-69b8a0be0807",
   "metadata": {
    "tags": []
   },
   "outputs": [
    {
     "data": {
      "text/plain": [
       "1"
      ]
     },
     "execution_count": 19,
     "metadata": {},
     "output_type": "execute_result"
    }
   ],
   "source": [
    "def thunk2(x):\n",
    "    return 1 if x-5>=0 else 0\n",
    "thunk2(5.5)"
   ]
  },
  {
   "cell_type": "code",
   "execution_count": 20,
   "id": "3c2ebdc1-a000-4a75-bc24-f4cb17428aee",
   "metadata": {
    "tags": []
   },
   "outputs": [],
   "source": [
    "def my_fun(): ##Exercise4.5\n",
    "    secret_x=5\n",
    "    print(secret_x)"
   ]
  },
  {
   "cell_type": "code",
   "execution_count": 21,
   "id": "55257f71-4830-4c83-9acd-8e55d0f3d78e",
   "metadata": {
    "tags": []
   },
   "outputs": [
    {
     "name": "stdout",
     "output_type": "stream",
     "text": [
      "5\n"
     ]
    }
   ],
   "source": [
    "my_fun()"
   ]
  },
  {
   "cell_type": "code",
   "execution_count": 22,
   "id": "9f816eb4-dc93-453b-840c-406e5df3e4c7",
   "metadata": {
    "tags": []
   },
   "outputs": [
    {
     "ename": "NameError",
     "evalue": "name 'secret_x' is not defined",
     "output_type": "error",
     "traceback": [
      "\u001b[0;31m---------------------------------------------------------------------------\u001b[0m",
      "\u001b[0;31mNameError\u001b[0m                                 Traceback (most recent call last)",
      "Cell \u001b[0;32mIn[22], line 1\u001b[0m\n\u001b[0;32m----> 1\u001b[0m \u001b[38;5;28mprint\u001b[39m(\u001b[43msecret_x\u001b[49m)\n",
      "\u001b[0;31mNameError\u001b[0m: name 'secret_x' is not defined"
     ]
    }
   ],
   "source": [
    "print(secret_x)"
   ]
  },
  {
   "cell_type": "code",
   "execution_count": 23,
   "id": "5e962ef4-d479-4f71-90e4-caa2f90ab667",
   "metadata": {
    "tags": []
   },
   "outputs": [
    {
     "ename": "NameError",
     "evalue": "name 'x1' is not defined",
     "output_type": "error",
     "traceback": [
      "\u001b[0;31m---------------------------------------------------------------------------\u001b[0m",
      "\u001b[0;31mNameError\u001b[0m                                 Traceback (most recent call last)",
      "Cell \u001b[0;32mIn[23], line 3\u001b[0m\n\u001b[1;32m      1\u001b[0m \u001b[38;5;28;01mdef\u001b[39;00m \u001b[38;5;21mprint_me\u001b[39m():\n\u001b[1;32m      2\u001b[0m     \u001b[38;5;28mprint\u001b[39m(x1)\n\u001b[0;32m----> 3\u001b[0m \u001b[43mprint_me\u001b[49m\u001b[43m(\u001b[49m\u001b[43m)\u001b[49m\n",
      "Cell \u001b[0;32mIn[23], line 2\u001b[0m, in \u001b[0;36mprint_me\u001b[0;34m()\u001b[0m\n\u001b[1;32m      1\u001b[0m \u001b[38;5;28;01mdef\u001b[39;00m \u001b[38;5;21mprint_me\u001b[39m():\n\u001b[0;32m----> 2\u001b[0m     \u001b[38;5;28mprint\u001b[39m(\u001b[43mx1\u001b[49m)\n",
      "\u001b[0;31mNameError\u001b[0m: name 'x1' is not defined"
     ]
    }
   ],
   "source": [
    "def print_me():\n",
    "    print(x1)\n",
    "print_me()"
   ]
  },
  {
   "cell_type": "code",
   "execution_count": 27,
   "id": "2a1a84b1-ca3c-49df-8250-f6b7a18c9849",
   "metadata": {
    "tags": []
   },
   "outputs": [
    {
     "name": "stdout",
     "output_type": "stream",
     "text": [
      "5\n"
     ]
    }
   ],
   "source": [
    "def print_me2():\n",
    "    x2=5\n",
    "    print(x2)\n",
    "print_me2()"
   ]
  },
  {
   "cell_type": "code",
   "execution_count": 34,
   "id": "4e4c496a-5414-4eb4-8c68-7c9e83d06b70",
   "metadata": {
    "tags": []
   },
   "outputs": [
    {
     "data": {
      "text/plain": [
       "True"
      ]
     },
     "execution_count": 34,
     "metadata": {},
     "output_type": "execute_result"
    }
   ],
   "source": [
    "check = lambda x: x>=10 and x<=25 ##Exercise4.6\n",
    "check(15)"
   ]
  },
  {
   "cell_type": "code",
   "execution_count": 31,
   "id": "b4ee205c-751e-435a-a2e2-3e000fcba56f",
   "metadata": {
    "tags": []
   },
   "outputs": [
    {
     "data": {
      "text/plain": [
       "False"
      ]
     },
     "execution_count": 31,
     "metadata": {},
     "output_type": "execute_result"
    }
   ],
   "source": [
    "in_range_general=lambda x,a,b,: x>=a and x <=b\n",
    "in_range_general(0,1,10)"
   ]
  },
  {
   "cell_type": "code",
   "execution_count": 32,
   "id": "641faae8-a888-408e-a587-e5a9e52f4381",
   "metadata": {
    "tags": []
   },
   "outputs": [
    {
     "data": {
      "text/plain": [
       "True"
      ]
     },
     "execution_count": 32,
     "metadata": {},
     "output_type": "execute_result"
    }
   ],
   "source": [
    "in_range_general(0,-1,100)"
   ]
  },
  {
   "cell_type": "code",
   "execution_count": 36,
   "id": "d20ccf6a-19cd-43e3-9ae5-e8eb6c8c8593",
   "metadata": {
    "tags": []
   },
   "outputs": [
    {
     "ename": "NameError",
     "evalue": "name 'c2f' is not defined",
     "output_type": "error",
     "traceback": [
      "\u001b[0;31m---------------------------------------------------------------------------\u001b[0m",
      "\u001b[0;31mNameError\u001b[0m                                 Traceback (most recent call last)",
      "Cell \u001b[0;32mIn[36], line 2\u001b[0m\n\u001b[1;32m      1\u001b[0m targets \u001b[38;5;241m=\u001b[39m {\n\u001b[0;32m----> 2\u001b[0m     \u001b[38;5;124m'\u001b[39m\u001b[38;5;124mf\u001b[39m\u001b[38;5;124m'\u001b[39m:\u001b[43mc2f\u001b[49m,\n\u001b[1;32m      3\u001b[0m     \u001b[38;5;124m'\u001b[39m\u001b[38;5;124mc\u001b[39m\u001b[38;5;124m'\u001b[39m:f2c\n\u001b[1;32m      4\u001b[0m }\n\u001b[1;32m      5\u001b[0m t2t\u001b[38;5;241m=\u001b[39m\u001b[38;5;28;01mlambda\u001b[39;00m tval, target: \u001b[38;5;28mint\u001b[39m(targets[target](tval))\n\u001b[1;32m      6\u001b[0m t2t(\u001b[38;5;241m45\u001b[39m,\u001b[38;5;124m'\u001b[39m\u001b[38;5;124mf\u001b[39m\u001b[38;5;124m'\u001b[39m)\n",
      "\u001b[0;31mNameError\u001b[0m: name 'c2f' is not defined"
     ]
    }
   ],
   "source": [
    "targets = {\n",
    "    'f':c2f,\n",
    "    'c':f2c\n",
    "}\n",
    "t2t=lambda tval, target: int(targets[target](tval))\n",
    "t2t(45,'f')"
   ]
  },
  {
   "cell_type": "code",
   "execution_count": null,
   "id": "febec375-70b2-4dcd-a3ae-166577430bd5",
   "metadata": {},
   "outputs": [],
   "source": []
  },
  {
   "cell_type": "code",
   "execution_count": null,
   "id": "f50c93a0-783b-41de-90be-7eb60d2324a6",
   "metadata": {},
   "outputs": [],
   "source": []
  },
  {
   "cell_type": "code",
   "execution_count": null,
   "id": "88157f02-287a-4f6a-b1cb-569b2ed1d942",
   "metadata": {},
   "outputs": [],
   "source": []
  },
  {
   "cell_type": "code",
   "execution_count": null,
   "id": "d5126f20-7304-40fd-9796-9052a61304e4",
   "metadata": {},
   "outputs": [],
   "source": []
  },
  {
   "cell_type": "code",
   "execution_count": null,
   "id": "4610c2df-d72c-4182-8e20-7ae55fc44cf7",
   "metadata": {},
   "outputs": [],
   "source": []
  },
  {
   "cell_type": "code",
   "execution_count": null,
   "id": "5bd55162-80ae-4b33-96fc-5f9559d120b6",
   "metadata": {},
   "outputs": [],
   "source": []
  },
  {
   "cell_type": "code",
   "execution_count": null,
   "id": "8838aac2-7932-4af5-a76c-7e1f813df761",
   "metadata": {},
   "outputs": [],
   "source": []
  },
  {
   "cell_type": "code",
   "execution_count": null,
   "id": "8a10d612-aab0-481b-9193-e9023a973ce0",
   "metadata": {},
   "outputs": [],
   "source": []
  },
  {
   "cell_type": "code",
   "execution_count": null,
   "id": "a67c5a36-3b3d-4354-88e6-33e17f40e61b",
   "metadata": {},
   "outputs": [],
   "source": []
  },
  {
   "cell_type": "code",
   "execution_count": null,
   "id": "1cd80ed8-2b61-42f7-bae3-e4723bf930de",
   "metadata": {},
   "outputs": [],
   "source": []
  },
  {
   "cell_type": "code",
   "execution_count": null,
   "id": "88e1063a-3c00-4e3a-90cb-e909a946c627",
   "metadata": {},
   "outputs": [],
   "source": []
  },
  {
   "cell_type": "code",
   "execution_count": null,
   "id": "8164d0fe-3ef1-4508-bce8-f56689a9ea6f",
   "metadata": {},
   "outputs": [],
   "source": [
    "##Exercise 4.4"
   ]
  },
  {
   "cell_type": "code",
   "execution_count": null,
   "id": "e614fcf9-b4fa-401a-9fe8-d00ba9b6e95e",
   "metadata": {},
   "outputs": [],
   "source": []
  }
 ],
 "metadata": {
  "kernelspec": {
   "display_name": "Python 3 (ipykernel)",
   "language": "python",
   "name": "python3"
  },
  "language_info": {
   "codemirror_mode": {
    "name": "ipython",
    "version": 3
   },
   "file_extension": ".py",
   "mimetype": "text/x-python",
   "name": "python",
   "nbconvert_exporter": "python",
   "pygments_lexer": "ipython3",
   "version": "3.11.4"
  }
 },
 "nbformat": 4,
 "nbformat_minor": 5
}
