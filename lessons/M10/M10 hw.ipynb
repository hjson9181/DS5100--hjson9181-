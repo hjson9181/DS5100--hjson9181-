{
 "cells": [
  {
   "cell_type": "code",
   "execution_count": 9,
   "id": "6b66e312-d7fb-46e9-8a29-a5976d8fbf55",
   "metadata": {
    "tags": []
   },
   "outputs": [
    {
     "name": "stdout",
     "output_type": "stream",
     "text": [
      "  cut payout_pct\n",
      "1 0.4       0.07\n",
      "2 0.3       0.10\n",
      "3 0.2       0.13\n",
      "4 0.1       0.16\n"
     ]
    }
   ],
   "source": [
    "##Task1##\n",
    "\n",
    "quota<-225000\n",
    "df<-data.frame(\n",
    "  cut=c(0.40, 0.30, 0.20, 0.10), \n",
    "  payout_pct=c(0.07, 0.10, 0.13, 0.16)\n",
    ")\n",
    "\n",
    "print(df)"
   ]
  },
  {
   "cell_type": "code",
   "execution_count": 12,
   "id": "705d2a81-9afc-4ba9-8499-d5a56b1c1bf5",
   "metadata": {
    "tags": []
   },
   "outputs": [
    {
     "name": "stdout",
     "output_type": "stream",
     "text": [
      "  cut payout_pct cut_sum   amt payout payout_sum amt_sum\n",
      "1 0.4       0.07     0.4 90000   6300       6300   90000\n",
      "2 0.3       0.10     0.7 67500   6750      13050  157500\n",
      "3 0.2       0.13     0.9 45000   5850      18900  202500\n",
      "4 0.1       0.16     1.0 22500   3600      22500  225000\n"
     ]
    }
   ],
   "source": [
    "##Task2##\n",
    "\n",
    "df$cut_sum<-cumsum(df$cut)\n",
    "\n",
    "df$amt<-df$cut * quota\n",
    "\n",
    "df$payout<-df$amt * df$payout_pct\n",
    "\n",
    "df$payout_sum<-cumsum(df$payout)\n",
    "\n",
    "df$amt_sum<-cumsum(df$amt)\n",
    "\n",
    "print(df)"
   ]
  },
  {
   "cell_type": "code",
   "execution_count": 7,
   "id": "633e682c-c752-481c-ad52-b0e2d256db2f",
   "metadata": {
    "tags": []
   },
   "outputs": [],
   "source": [
    "##Task3##\n",
    "\n",
    "get_bracket <- function(S){\n",
    "  S_round<-round(S,1)\n",
    "  bracket_index<-which(round(df$cut_sum,1) >= S_round)\n",
    "  return(min(bracket_index))\n",
    "}"
   ]
  },
  {
   "cell_type": "code",
   "execution_count": 13,
   "id": "0df722b0-da11-4e60-a9de-e0d7183dcb03",
   "metadata": {
    "tags": []
   },
   "outputs": [
    {
     "name": "stdout",
     "output_type": "stream",
     "text": [
      "[1] 8550\n"
     ]
    }
   ],
   "source": [
    "##Task4##\n",
    "\n",
    "commission_amount<-function(S){\n",
    "  bracket_num<-get_bracket(S)\n",
    "  bracket<-df[bracket_num, ]\n",
    "  sales_amount<-S*quota\n",
    "  \n",
    "  a<- df$payout_sum[bracket_num] - bracket$payout\n",
    "  b<- (sales_amount-df$amt_sum[bracket_num-1])*(bracket$payout_pct)\n",
    "  commission<-a+b\n",
    "  \n",
    "  return(commission)\n",
    "}\n",
    "\n",
    "print(commission_amount(0.50))"
   ]
  },
  {
   "cell_type": "code",
   "execution_count": 14,
   "id": "03f80117-8f00-4875-a35f-ed50ccabc8ac",
   "metadata": {
    "tags": []
   },
   "outputs": [],
   "source": [
    "##Task4-5## debugging process\n",
    "\n",
    "commission_amount <- function(S) {\n",
    "  Q <- 112500 \n",
    "  earned_sales <- S*Q\n",
    "  commission <- 0\n",
    "  \n",
    "  if (S <= 0.4) {\n",
    "    commission <- earned_sales * 0.07\n",
    "  } \n",
    "  else if (S <= 0.7) {\n",
    "    commission <- (0.4*Q*0.07) + ((earned_sales - 0.4 * Q) * 0.10)\n",
    "  } \n",
    "  else if (S <= 0.9) {\n",
    "    commission <- (0.4 * Q * 0.07) + (0.3 * Q * 0.10) + ((earned_sales - 0.7 * Q) * 0.13)\n",
    "  }\n",
    "  else {\n",
    "    commission <- (0.4 * Q * 0.07) + (0.3 * Q * 0.10) + (0.2 * Q * 0.13) + ((earned_sales - 0.9 * Q) * 0.16)\n",
    "  }\n",
    "  return(commission)\n",
    "}"
   ]
  },
  {
   "cell_type": "code",
   "execution_count": 15,
   "id": "ae85ca95-791b-4d49-b1f1-e72304dd0d12",
   "metadata": {
    "tags": []
   },
   "outputs": [
    {
     "name": "stdout",
     "output_type": "stream",
     "text": [
      "     S       C\n",
      "1  0.1   787.5\n",
      "2  0.2  1575.0\n",
      "3  0.3  2362.5\n",
      "4  0.4  3150.0\n",
      "5  0.5  4275.0\n",
      "6  0.6  5400.0\n",
      "7  0.7  6525.0\n",
      "8  0.8  7987.5\n",
      "9  0.9  9450.0\n",
      "10 1.0 11250.0\n"
     ]
    }
   ],
   "source": [
    "##Task 5$$\n",
    "\n",
    "S_values<- seq(0.1, 1, by=0.1)\n",
    "commissions<- sapply(S_values, commission_amount)\n",
    "\n",
    "df2<- data.frame(\n",
    "  S= S_values, \n",
    "  C= commissions\n",
    ")\n",
    "\n",
    "print(df2)"
   ]
  }
 ],
 "metadata": {
  "kernelspec": {
   "display_name": "R Environment",
   "language": "R",
   "name": "r_env"
  },
  "language_info": {
   "codemirror_mode": "r",
   "file_extension": ".r",
   "mimetype": "text/x-r-source",
   "name": "R",
   "pygments_lexer": "r",
   "version": "4.3.1"
  }
 },
 "nbformat": 4,
 "nbformat_minor": 5
}
