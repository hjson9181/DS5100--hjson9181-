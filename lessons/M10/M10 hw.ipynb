{
 "cells": [
  {
   "cell_type": "code",
   "execution_count": 17,
   "id": "f794336e-1338-4be3-a0b2-3951c845d595",
   "metadata": {
    "tags": []
   },
   "outputs": [
    {
     "ename": "ERROR",
     "evalue": "Error in parse(text = x, srcfile = src): attempt to use zero-length variable name\n",
     "output_type": "error",
     "traceback": [
      "Error in parse(text = x, srcfile = src): attempt to use zero-length variable name\nTraceback:\n"
     ]
    }
   ],
   "source": [
    "# Metadata\n",
    "\n",
    "``` yaml\n",
    "Course:  DS 5100\n",
    "Module:  10 R Programming 1\n",
    "Topic:   HW Computing Payoff for a Quota Structure\n",
    "Author:  R.C. Alvarado (adapted)\n",
    "Date:    14 March 2025 (revised)\n",
    "```"
   ]
  },
  {
   "cell_type": "code",
   "execution_count": 18,
   "id": "a14d2f28-0399-4fce-8181-4df59883e035",
   "metadata": {
    "tags": []
   },
   "outputs": [
    {
     "ename": "ERROR",
     "evalue": "Error in parse(text = x, srcfile = src): attempt to use zero-length variable name\n",
     "output_type": "error",
     "traceback": [
      "Error in parse(text = x, srcfile = src): attempt to use zero-length variable name\nTraceback:\n"
     ]
    }
   ],
   "source": [
    "# Student Info\n",
    "\n",
    "``` yaml\n",
    "Course:  DS 5100\n",
    "Name: Haejin Son\n",
    "Student ID: umw7eg\n",
    "github link: https://github.com/hjson9181/DS5100--hjson9181-/blob/main/lessons/M10/M10%20hw.ipynb\n",
    "'''"
   ]
  },
  {
   "cell_type": "code",
   "execution_count": 24,
   "id": "73730855-6040-4ac5-b80e-97b0f4a8f132",
   "metadata": {
    "tags": []
   },
   "outputs": [
    {
     "name": "stdout",
     "output_type": "stream",
     "text": [
      "  cut payout_pct\n",
      "1 0.4       0.07\n",
      "2 0.3       0.10\n",
      "3 0.2       0.13\n",
      "4 0.1       0.16\n"
     ]
    }
   ],
   "source": [
    "##Task1##\n",
    "\n",
    "quota<-225000\n",
    "df<-data.frame(\n",
    "  cut=c(0.40, 0.30, 0.20, 0.10), \n",
    "  payout_pct=c(0.07, 0.10, 0.13, 0.16)\n",
    ")\n",
    "\n",
    "print(df)"
   ]
  },
  {
   "cell_type": "code",
   "execution_count": 25,
   "id": "705d2a81-9afc-4ba9-8499-d5a56b1c1bf5",
   "metadata": {
    "tags": []
   },
   "outputs": [
    {
     "name": "stdout",
     "output_type": "stream",
     "text": [
      "  cut payout_pct cut_sum   amt payout payout_sum amt_sum\n",
      "1 0.4       0.07     0.4 90000   6300       6300   90000\n",
      "2 0.3       0.10     0.7 67500   6750      13050  157500\n",
      "3 0.2       0.13     0.9 45000   5850      18900  202500\n",
      "4 0.1       0.16     1.0 22500   3600      22500  225000\n"
     ]
    }
   ],
   "source": [
    "##Task2##\n",
    "\n",
    "df$cut_sum<-cumsum(df$cut)\n",
    "\n",
    "df$amt<-df$cut * quota\n",
    "\n",
    "df$payout<-df$amt * df$payout_pct\n",
    "\n",
    "df$payout_sum<-cumsum(df$payout)\n",
    "\n",
    "df$amt_sum<-cumsum(df$amt)\n",
    "\n",
    "print(df)"
   ]
  },
  {
   "cell_type": "code",
   "execution_count": 26,
   "id": "633e682c-c752-481c-ad52-b0e2d256db2f",
   "metadata": {
    "tags": []
   },
   "outputs": [],
   "source": [
    "##Task3##\n",
    "\n",
    "get_bracket <- function(S){\n",
    "  S_round<-round(S,1)\n",
    "  bracket_index<-which(round(df$cut_sum,1) >= S_round)\n",
    "  return(min(bracket_index))\n",
    "}"
   ]
  },
  {
   "cell_type": "code",
   "execution_count": 27,
   "id": "0df722b0-da11-4e60-a9de-e0d7183dcb03",
   "metadata": {
    "tags": []
   },
   "outputs": [],
   "source": [
    "##Task4##\n",
    "\n",
    "commission_amount<-function(S){\n",
    "  bracket_num<-get_bracket(S)\n",
    "  bracket<-df[bracket_num, ]\n",
    "  sales_amount<-S*quota\n",
    "  \n",
    "  if (bracket_num > 1) {\n",
    "    a <- df$payout_sum[bracket_num - 1]\n",
    "  } else {\n",
    "    a <- 0\n",
    "  }\n",
    "  \n",
    "  if (bracket_num > 1) {\n",
    "    remaining_quota <- sales_amount - df$amt_sum[bracket_num - 1]\n",
    "  } else {\n",
    "    remaining_quota <- sales_amount\n",
    "  }\n",
    " \n",
    "b <- remaining_quota * bracket$payout_pct\n",
    "\n",
    "commission<-a+b\n",
    "return(commission)\n",
    "}"
   ]
  },
  {
   "cell_type": "code",
   "execution_count": 28,
   "id": "ae85ca95-791b-4d49-b1f1-e72304dd0d12",
   "metadata": {
    "tags": []
   },
   "outputs": [
    {
     "name": "stdout",
     "output_type": "stream",
     "text": [
      "     S     C\n",
      "1  0.1  1575\n",
      "2  0.2  3150\n",
      "3  0.3  4725\n",
      "4  0.4  6300\n",
      "5  0.5  8550\n",
      "6  0.6 10800\n",
      "7  0.7 13050\n",
      "8  0.8 15975\n",
      "9  0.9 18900\n",
      "10 1.0 22500\n"
     ]
    }
   ],
   "source": [
    "##Task 5$$\n",
    "\n",
    "S_values<- seq(0.1, 1, by=0.1)\n",
    "commissions<- sapply(S_values, commission_amount)\n",
    "\n",
    "df2<- data.frame(\n",
    "  S= S_values, \n",
    "  C= commissions\n",
    ")\n",
    "\n",
    "print(df2)"
   ]
  }
 ],
 "metadata": {
  "kernelspec": {
   "display_name": "R Environment",
   "language": "R",
   "name": "r_env"
  },
  "language_info": {
   "codemirror_mode": "r",
   "file_extension": ".r",
   "mimetype": "text/x-r-source",
   "name": "R",
   "pygments_lexer": "r",
   "version": "4.3.1"
  }
 },
 "nbformat": 4,
 "nbformat_minor": 5
}
