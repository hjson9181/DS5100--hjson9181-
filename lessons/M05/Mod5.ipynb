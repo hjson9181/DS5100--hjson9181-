{
 "cells": [
  {
   "cell_type": "code",
   "execution_count": null,
   "id": "2b74a01b-3ab6-43af-85c2-d4ce1477d4cd",
   "metadata": {},
   "outputs": [],
   "source": [
    "Mod5"
   ]
  },
  {
   "cell_type": "code",
   "execution_count": 1,
   "id": "1430f279-e0ad-412f-8fdc-7c7beb5a5a49",
   "metadata": {
    "tags": []
   },
   "outputs": [],
   "source": [
    "#exercise5.1 \n",
    "\n",
    "import time\n"
   ]
  },
  {
   "cell_type": "code",
   "execution_count": null,
   "id": "c6b0021f-d6aa-4727-8c84-348cdda372c3",
   "metadata": {},
   "outputs": [],
   "source": [
    "t0=time.time()\n",
    "vals=[]\n",
    "for i in "
   ]
  },
  {
   "cell_type": "code",
   "execution_count": 3,
   "id": "1410744c-baeb-473a-8c58-18928a96d38f",
   "metadata": {
    "tags": []
   },
   "outputs": [
    {
     "ename": "SyntaxError",
     "evalue": "closing parenthesis ')' does not match opening parenthesis '[' (799284666.py, line 1)",
     "output_type": "error",
     "traceback": [
      "\u001b[0;36m  Cell \u001b[0;32mIn[3], line 1\u001b[0;36m\u001b[0m\n\u001b[0;31m    vals=[i*-1 if i%2==1 else i for i in rance (1,100001))]\u001b[0m\n\u001b[0m                                                         ^\u001b[0m\n\u001b[0;31mSyntaxError\u001b[0m\u001b[0;31m:\u001b[0m closing parenthesis ')' does not match opening parenthesis '['\n"
     ]
    }
   ],
   "source": [
    "vals=[i*-1 if i%2==1 else i for i in rance (1,100001))]\n",
    "print ('runtime:') "
   ]
  },
  {
   "cell_type": "code",
   "execution_count": 9,
   "id": "08b2b618-e110-4955-845e-a2e62f976022",
   "metadata": {
    "tags": []
   },
   "outputs": [],
   "source": [
    "import numpy as np"
   ]
  },
  {
   "cell_type": "code",
   "execution_count": 11,
   "id": "246ab6a6-dcdf-4bd8-8365-2618a5af4e38",
   "metadata": {
    "tags": []
   },
   "outputs": [],
   "source": [
    "randos = np.random.randint(1, 7,10) "
   ]
  },
  {
   "cell_type": "code",
   "execution_count": 12,
   "id": "eeb3455f-7741-486e-8d34-479918be3227",
   "metadata": {
    "tags": []
   },
   "outputs": [
    {
     "data": {
      "text/plain": [
       "array([4, 1, 3, 3, 3, 5, 2, 5, 5, 1])"
      ]
     },
     "execution_count": 12,
     "metadata": {},
     "output_type": "execute_result"
    }
   ],
   "source": [
    "randos"
   ]
  },
  {
   "cell_type": "code",
   "execution_count": 19,
   "id": "e3ab20ba-d57a-4d28-b406-7a095bce5764",
   "metadata": {
    "tags": []
   },
   "outputs": [],
   "source": [
    "ra1 = np.random.randint(10)"
   ]
  },
  {
   "cell_type": "code",
   "execution_count": 20,
   "id": "0271b2b5-c336-4218-95f3-75577db5a833",
   "metadata": {
    "tags": []
   },
   "outputs": [
    {
     "data": {
      "text/plain": [
       "int"
      ]
     },
     "execution_count": 20,
     "metadata": {},
     "output_type": "execute_result"
    }
   ],
   "source": [
    "type(ra1)"
   ]
  },
  {
   "cell_type": "code",
   "execution_count": 21,
   "id": "a4c91341-8ed2-4502-96c4-fb21005caf78",
   "metadata": {
    "tags": []
   },
   "outputs": [],
   "source": [
    "ra2=np.random.randint(1,21,5)"
   ]
  },
  {
   "cell_type": "code",
   "execution_count": 22,
   "id": "2566d025-239e-400a-81b7-96a8023d789f",
   "metadata": {
    "tags": []
   },
   "outputs": [
    {
     "data": {
      "text/plain": [
       "numpy.ndarray"
      ]
     },
     "execution_count": 22,
     "metadata": {},
     "output_type": "execute_result"
    }
   ],
   "source": [
    "type(ra2)"
   ]
  },
  {
   "cell_type": "code",
   "execution_count": 26,
   "id": "2c939eb3-6239-4233-9493-55cacde24837",
   "metadata": {
    "tags": []
   },
   "outputs": [
    {
     "ename": "ModuleNotFoundError",
     "evalue": "No module named 'matplotlib.pylot'",
     "output_type": "error",
     "traceback": [
      "\u001b[0;31m---------------------------------------------------------------------------\u001b[0m",
      "\u001b[0;31mModuleNotFoundError\u001b[0m                       Traceback (most recent call last)",
      "Cell \u001b[0;32mIn[26], line 3\u001b[0m\n\u001b[1;32m      1\u001b[0m \u001b[38;5;66;03m#exercise5.5\u001b[39;00m\n\u001b[0;32m----> 3\u001b[0m \u001b[38;5;28;01mfrom\u001b[39;00m \u001b[38;5;21;01mmatplotlib\u001b[39;00m\u001b[38;5;21;01m.\u001b[39;00m\u001b[38;5;21;01mpylot\u001b[39;00m \u001b[38;5;28;01mimport\u001b[39;00m hist\n",
      "\u001b[0;31mModuleNotFoundError\u001b[0m: No module named 'matplotlib.pylot'"
     ]
    }
   ],
   "source": [
    "#exercise5.5\n",
    "\n",
    "from matplotlib.pylot import hist"
   ]
  },
  {
   "cell_type": "code",
   "execution_count": 27,
   "id": "795a833d-e261-46d9-9b69-6e3593f597b5",
   "metadata": {
    "tags": []
   },
   "outputs": [],
   "source": [
    "#exercise5.6\n",
    "\n",
    "mat=np.random.randn(2,3)"
   ]
  },
  {
   "cell_type": "code",
   "execution_count": 28,
   "id": "8592bdbc-f838-4900-9462-968eceda90a5",
   "metadata": {
    "tags": []
   },
   "outputs": [
    {
     "data": {
      "text/plain": [
       "array([[-0.42739765, -0.97575084,  0.87679204],\n",
       "       [ 0.63482454,  0.23183734, -0.46236737]])"
      ]
     },
     "execution_count": 28,
     "metadata": {},
     "output_type": "execute_result"
    }
   ],
   "source": [
    "mat"
   ]
  },
  {
   "cell_type": "code",
   "execution_count": 29,
   "id": "b9fbdaa3-61d2-48ef-a42d-43e561f5c611",
   "metadata": {
    "tags": []
   },
   "outputs": [
    {
     "data": {
      "text/plain": [
       "array([[-0.85479531, -1.95150168,  1.75358408],\n",
       "       [ 1.26964908,  0.46367467, -0.92473474]])"
      ]
     },
     "execution_count": 29,
     "metadata": {},
     "output_type": "execute_result"
    }
   ],
   "source": [
    "#exercise5.7\n",
    "\n",
    "mat*2"
   ]
  },
  {
   "cell_type": "code",
   "execution_count": 31,
   "id": "b61ab91c-238b-4411-b2d9-1dff68407646",
   "metadata": {
    "tags": []
   },
   "outputs": [
    {
     "data": {
      "text/plain": [
       "array([[-0.85479531, -1.95150168,  1.75358408],\n",
       "       [ 1.26964908,  0.46367467, -0.92473474]])"
      ]
     },
     "execution_count": 31,
     "metadata": {},
     "output_type": "execute_result"
    }
   ],
   "source": [
    "#exercise5.8\n",
    "mat+mat"
   ]
  },
  {
   "cell_type": "code",
   "execution_count": 35,
   "id": "21a8d9fb-e30a-48d8-a20f-fe47a84fd502",
   "metadata": {
    "tags": []
   },
   "outputs": [
    {
     "data": {
      "text/plain": [
       "array([[-2.33974143, -1.0248518 ,  1.1405213 ],\n",
       "       [ 1.57523841,  4.31336908, -2.16278237]])"
      ]
     },
     "execution_count": 35,
     "metadata": {},
     "output_type": "execute_result"
    }
   ],
   "source": [
    "#exercise5.9 matrix of reciprocals\n",
    "1/mat"
   ]
  },
  {
   "cell_type": "code",
   "execution_count": 40,
   "id": "d9f03439-51a9-4640-87f0-b7c8cb0a94fc",
   "metadata": {
    "tags": []
   },
   "outputs": [
    {
     "data": {
      "text/plain": [
       "array([[0., 0., 0., 0.],\n",
       "       [0., 0., 0., 0.]])"
      ]
     },
     "execution_count": 40,
     "metadata": {},
     "output_type": "execute_result"
    }
   ],
   "source": [
    "#exercise5.10\n",
    "shape=(2,4)\n",
    "z1=np.zeros(shape)\n",
    "z1"
   ]
  },
  {
   "cell_type": "code",
   "execution_count": 41,
   "id": "9355032e-d1b9-49b3-a33b-b1195a7871f1",
   "metadata": {
    "tags": []
   },
   "outputs": [
    {
     "data": {
      "text/plain": [
       "array([[1., 1., 1., 1.],\n",
       "       [1., 1., 1., 1.]])"
      ]
     },
     "execution_count": 41,
     "metadata": {},
     "output_type": "execute_result"
    }
   ],
   "source": [
    "z2=np.ones(shape)\n",
    "z2"
   ]
  },
  {
   "cell_type": "code",
   "execution_count": 46,
   "id": "53195559-d59e-48ce-8607-7425e7fc2c20",
   "metadata": {
    "tags": []
   },
   "outputs": [
    {
     "data": {
      "text/plain": [
       "array([[1., 0., 0., 0.],\n",
       "       [0., 1., 0., 0.],\n",
       "       [0., 0., 1., 0.],\n",
       "       [0., 0., 0., 1.]])"
      ]
     },
     "execution_count": 46,
     "metadata": {},
     "output_type": "execute_result"
    }
   ],
   "source": [
    "#exercise5.11\n",
    "np.identity(4)"
   ]
  },
  {
   "cell_type": "code",
   "execution_count": 48,
   "id": "47ba428f-c8af-4f21-a8d8-472866bd49ed",
   "metadata": {
    "tags": []
   },
   "outputs": [],
   "source": [
    "#exercise5.12\n",
    "x1=np.random.rand(5)"
   ]
  },
  {
   "cell_type": "code",
   "execution_count": 49,
   "id": "1e29b3b8-2ac6-46f5-b8db-f06094238f46",
   "metadata": {
    "tags": []
   },
   "outputs": [
    {
     "data": {
      "text/plain": [
       "array([0.79177725, 0.57164412, 0.94209468, 0.83994206, 0.38806213])"
      ]
     },
     "execution_count": 49,
     "metadata": {},
     "output_type": "execute_result"
    }
   ],
   "source": [
    "x1"
   ]
  },
  {
   "cell_type": "code",
   "execution_count": 50,
   "id": "ac20e806-546e-4ea2-ab39-44896d99cd20",
   "metadata": {
    "tags": []
   },
   "outputs": [
    {
     "data": {
      "text/plain": [
       "array([0.57164412, 0.94209468, 0.83994206])"
      ]
     },
     "execution_count": 50,
     "metadata": {},
     "output_type": "execute_result"
    }
   ],
   "source": [
    "x1[1:4]"
   ]
  },
  {
   "cell_type": "code",
   "execution_count": 51,
   "id": "cdadd227-dd23-4378-b492-44614d90c500",
   "metadata": {
    "tags": []
   },
   "outputs": [
    {
     "data": {
      "text/plain": [
       "array([0.57164412, 0.94209468, 0.83994206])"
      ]
     },
     "execution_count": 51,
     "metadata": {},
     "output_type": "execute_result"
    }
   ],
   "source": [
    "x1[1:-1]"
   ]
  },
  {
   "cell_type": "code",
   "execution_count": 59,
   "id": "e533df41-98a2-444c-a62b-962596ef9a63",
   "metadata": {
    "tags": []
   },
   "outputs": [
    {
     "data": {
      "text/plain": [
       "array([0.79177725, 0.57164412, 0.94209468, 0.83994206, 0.38806213])"
      ]
     },
     "execution_count": 59,
     "metadata": {},
     "output_type": "execute_result"
    }
   ],
   "source": [
    "#exercise5.13\n",
    "x1[x1>0.15]"
   ]
  },
  {
   "cell_type": "code",
   "execution_count": 60,
   "id": "6c49c339-9c8f-47d3-ad6d-bc40c4a549d2",
   "metadata": {
    "tags": []
   },
   "outputs": [],
   "source": [
    "bool_idx=x1>.15"
   ]
  },
  {
   "cell_type": "code",
   "execution_count": 61,
   "id": "ea99b08f-47a0-4eb4-845b-c7015efac726",
   "metadata": {
    "tags": []
   },
   "outputs": [
    {
     "data": {
      "text/plain": [
       "array([ True,  True,  True,  True,  True])"
      ]
     },
     "execution_count": 61,
     "metadata": {},
     "output_type": "execute_result"
    }
   ],
   "source": [
    "bool_idx"
   ]
  },
  {
   "cell_type": "code",
   "execution_count": 64,
   "id": "25d8fdcd-2a33-4f1e-aa5d-fe15081e8d7e",
   "metadata": {
    "tags": []
   },
   "outputs": [],
   "source": [
    "#exercise5.14\n",
    "x4=np.random.rand(3,3)"
   ]
  },
  {
   "cell_type": "code",
   "execution_count": 65,
   "id": "4eac6c70-4817-415b-a8ee-d7b2e9cd2f40",
   "metadata": {
    "tags": []
   },
   "outputs": [
    {
     "data": {
      "text/plain": [
       "array([[0.67346722, 0.87337381, 0.18684846],\n",
       "       [0.11357579, 0.26671405, 0.37130589],\n",
       "       [0.44367894, 0.26996047, 0.88361538]])"
      ]
     },
     "execution_count": 65,
     "metadata": {},
     "output_type": "execute_result"
    }
   ],
   "source": [
    "x4"
   ]
  },
  {
   "cell_type": "code",
   "execution_count": 66,
   "id": "4b161d7d-c56c-46e3-a9cb-70fd18baa2ea",
   "metadata": {
    "tags": []
   },
   "outputs": [
    {
     "data": {
      "text/plain": [
       "array([[0.11357579, 0.26671405],\n",
       "       [0.44367894, 0.26996047]])"
      ]
     },
     "execution_count": 66,
     "metadata": {},
     "output_type": "execute_result"
    }
   ],
   "source": [
    "x4[1:, :-1]"
   ]
  },
  {
   "cell_type": "code",
   "execution_count": 67,
   "id": "e6113e83-5a09-4eef-a827-098124f119e5",
   "metadata": {
    "tags": []
   },
   "outputs": [
    {
     "data": {
      "text/plain": [
       "array([[0.11357579, 0.26671405],\n",
       "       [0.44367894, 0.26996047]])"
      ]
     },
     "execution_count": 67,
     "metadata": {},
     "output_type": "execute_result"
    }
   ],
   "source": [
    "x4[1:, :2]"
   ]
  }
 ],
 "metadata": {
  "kernelspec": {
   "display_name": "Python 3",
   "language": "python",
   "name": "python3"
  },
  "language_info": {
   "codemirror_mode": {
    "name": "ipython",
    "version": 3
   },
   "file_extension": ".py",
   "mimetype": "text/x-python",
   "name": "python",
   "nbconvert_exporter": "python",
   "pygments_lexer": "ipython3",
   "version": "3.11.4"
  }
 },
 "nbformat": 4,
 "nbformat_minor": 5
}
