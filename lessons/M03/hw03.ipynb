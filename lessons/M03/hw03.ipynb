{
 "cells": [
  {
   "cell_type": "markdown",
   "id": "256d22c8-225b-45f8-8f9c-e9d6f5fdffb5",
   "metadata": {},
   "source": [
    "M3 HW,\n",
    "Name: Haejin Son, \n",
    "Stduent ID: umw7eg,\n",
    "URL: https://github.com/hjson9181/DS5100--hjson9181-/blob/main/lessons/M03/hw03.ipynb"
   ]
  },
  {
   "cell_type": "code",
   "execution_count": 4,
   "id": "ba38ae6f-07df-47b6-b55e-21613803a057",
   "metadata": {
    "tags": []
   },
   "outputs": [
    {
     "name": "stdout",
     "output_type": "stream",
     "text": [
      "Wahoo\n",
      "wah!\n",
      "Wahoo\n",
      "Wahoo\n",
      "wah!\n",
      "Wahoo\n",
      "Wahoowah!\n",
      "Wahoo\n",
      "wah!\n",
      "Wahoo\n",
      "Wahoo\n",
      "wah!\n",
      "Wahoo\n",
      "Wahoowah!\n",
      "Wahoo\n",
      "wah!\n",
      "Wahoo\n",
      "Wahoo\n",
      "wah!\n",
      "Wahoo\n",
      "Wahoowah!\n",
      "Wahoo\n",
      "wah!\n",
      "Wahoo\n",
      "Wahoo\n",
      "wah!\n",
      "Wahoo\n",
      "Wahoowah!\n",
      "Wahoo\n",
      "wah!\n",
      "Wahoo\n",
      "Wahoo\n",
      "wah!\n",
      "Wahoo\n",
      "Wahoowah!\n",
      "Wahoo\n",
      "wah!\n",
      "Wahoo\n",
      "Wahoo\n",
      "wah!\n",
      "Wahoo\n",
      "Wahoowah!\n",
      "Wahoo\n",
      "wah!\n",
      "Wahoo\n",
      "Wahoo\n",
      "wah!\n",
      "Total Wahoo: 27\n",
      "Total Wah!: 14\n",
      "Total Wahoowah!: 6\n"
     ]
    }
   ],
   "source": [
    "wahoo_count = 0\n",
    "wah_count = 0\n",
    "wahoowah_count = 0\n",
    "\n",
    "for number in range(1, 101):\n",
    "    if number % 3 == 0 and number % 5 != 0:\n",
    "        print(\"Wahoo\")\n",
    "        wahoo_count+=1\n",
    "    elif number % 5 == 0 and number % 3 != 0:\n",
    "        print(\"wah!\")\n",
    "        wah_count+=1\n",
    "    elif number % 3 == 0 and number % 5 == 0:\n",
    "        print(\"Wahoowah!\")\n",
    "        wahoowah_count+=1\n",
    "        \n",
    "print(f\"Total Wahoo: {wahoo_count}\")\n",
    "print(f\"Total Wah!: {wah_count}\")\n",
    "print(f\"Total Wahoowah!: {wahoowah_count}\")\n",
    "        "
   ]
  },
  {
   "cell_type": "code",
   "execution_count": 3,
   "id": "d64981a0-3628-4e55-93bd-032f68432f8e",
   "metadata": {
    "tags": []
   },
   "outputs": [
    {
     "name": "stdout",
     "output_type": "stream",
     "text": [
      "Wahoowah!\n",
      "Wahoowah!\n",
      "Wahoowah!\n",
      "Wahoowah!\n",
      "Wahoowah!\n",
      "Wahoowah!\n",
      "Total Wahoowah!: 6\n"
     ]
    }
   ],
   "source": [
    "wahoowah_count = 0\n",
    "number = 1 \n",
    "\n",
    "while number <101:\n",
    "    if number % 3 == 0 and number % 5 == 0:\n",
    "        print(\"Wahoowah!\")\n",
    "        wahoowah_count+=1\n",
    "        \n",
    "    number+=1\n",
    "        \n",
    "print(f\"Total Wahoowah!: {wahoowah_count}\")"
   ]
  },
  {
   "cell_type": "code",
   "execution_count": 13,
   "id": "bcf6d5b3-22aa-4bec-9a7d-433b912f1e5b",
   "metadata": {
    "tags": []
   },
   "outputs": [
    {
     "name": "stdout",
     "output_type": "stream",
     "text": [
      "[0, 0, 1, 0, 1, 1, 0, 0, 1, 1, 0, 1, 0, 0, 1, 0, 0, 1, 0, 1, 1, 0, 0, 1, 1, 0, 1, 0, 0, 1, 0, 0, 1, 0, 1, 1, 0, 0, 1, 1, 0, 1, 0, 0, 1, 0, 0, 1, 0, 1, 1, 0, 0, 1, 1, 0, 1, 0, 0, 1, 0, 0, 1, 0, 1, 1, 0, 0, 1, 1, 0, 1, 0, 0, 1, 0, 0, 1, 0, 1, 1, 0, 0, 1, 1, 0, 1, 0, 0, 1, 0, 0, 1, 0, 1, 1, 0, 0, 1, 1]\n",
      "47\n"
     ]
    }
   ],
   "source": [
    "list_sum = [\n",
    "    (int(number % 3 == 0 and number % 5 != 0) + \n",
    "     int(number % 5 == 0 and number % 3 != 0) + \n",
    "     int(number % 3 == 0 and number % 5 == 0)) \n",
    "     for number in range(1, 101)\n",
    "]\n",
    "\n",
    "print(list_sum)\n",
    "\n",
    "print(sum(list_sum))"
   ]
  },
  {
   "cell_type": "code",
   "execution_count": null,
   "id": "41aa94b0-ec9f-4d01-9c50-94e972eadfba",
   "metadata": {},
   "outputs": [],
   "source": []
  }
 ],
 "metadata": {
  "kernelspec": {
   "display_name": "Python 3 (ipykernel)",
   "language": "python",
   "name": "python3"
  },
  "language_info": {
   "codemirror_mode": {
    "name": "ipython",
    "version": 3
   },
   "file_extension": ".py",
   "mimetype": "text/x-python",
   "name": "python",
   "nbconvert_exporter": "python",
   "pygments_lexer": "ipython3",
   "version": "3.11.4"
  }
 },
 "nbformat": 4,
 "nbformat_minor": 5
}
