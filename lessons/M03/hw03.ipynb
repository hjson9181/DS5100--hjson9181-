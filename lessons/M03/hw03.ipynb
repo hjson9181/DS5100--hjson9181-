{
 "cells": [
  {
   "cell_type": "markdown",
   "id": "256d22c8-225b-45f8-8f9c-e9d6f5fdffb5",
   "metadata": {},
   "source": [
    "M3 HW,\n",
    "Name: Haejin Son, \n",
    "Stduent ID: umw7eg,\n",
    "URL: https://github.com/hjson9181/DS5100--hjson9181-/blob/main/lessons/M03/hw03.ipynb"
   ]
  },
  {
   "cell_type": "code",
   "execution_count": 4,
   "id": "ba38ae6f-07df-47b6-b55e-21613803a057",
   "metadata": {
    "tags": []
   },
   "outputs": [
    {
     "name": "stdout",
     "output_type": "stream",
     "text": [
      "Wahoo\n",
      "wah!\n",
      "Wahoo\n",
      "Wahoo\n",
      "wah!\n",
      "Wahoo\n",
      "Wahoowah!\n",
      "Wahoo\n",
      "wah!\n",
      "Wahoo\n",
      "Wahoo\n",
      "wah!\n",
      "Wahoo\n",
      "Wahoowah!\n",
      "Wahoo\n",
      "wah!\n",
      "Wahoo\n",
      "Wahoo\n",
      "wah!\n",
      "Wahoo\n",
      "Wahoowah!\n",
      "Wahoo\n",
      "wah!\n",
      "Wahoo\n",
      "Wahoo\n",
      "wah!\n",
      "Wahoo\n",
      "Wahoowah!\n",
      "Wahoo\n",
      "wah!\n",
      "Wahoo\n",
      "Wahoo\n",
      "wah!\n",
      "Wahoo\n",
      "Wahoowah!\n",
      "Wahoo\n",
      "wah!\n",
      "Wahoo\n",
      "Wahoo\n",
      "wah!\n",
      "Wahoo\n",
      "Wahoowah!\n",
      "Wahoo\n",
      "wah!\n",
      "Wahoo\n",
      "Wahoo\n",
      "wah!\n",
      "Total Wahoo: 27\n",
      "Total Wah!: 14\n",
      "Total Wahoowah!: 6\n"
     ]
    }
   ],
   "source": [
    "wahoo_count = 0\n",
    "wah_count = 0\n",
    "wahoowah_count = 0\n",
    "\n",
    "for number in range(1, 101):\n",
    "    if number % 3 == 0 and number % 5 != 0:\n",
    "        print(\"Wahoo\")\n",
    "        wahoo_count+=1\n",
    "    elif number % 5 == 0 and number % 3 != 0:\n",
    "        print(\"wah!\")\n",
    "        wah_count+=1\n",
    "    elif number % 3 == 0 and number % 5 == 0:\n",
    "        print(\"Wahoowah!\")\n",
    "        wahoowah_count+=1\n",
    "        \n",
    "print(f\"Total Wahoo: {wahoo_count}\")\n",
    "print(f\"Total Wah!: {wah_count}\")\n",
    "print(f\"Total Wahoowah!: {wahoowah_count}\")\n",
    "        "
   ]
  },
  {
   "cell_type": "code",
   "execution_count": 3,
   "id": "d64981a0-3628-4e55-93bd-032f68432f8e",
   "metadata": {
    "tags": []
   },
   "outputs": [
    {
     "name": "stdout",
     "output_type": "stream",
     "text": [
      "Wahoowah!\n",
      "Wahoowah!\n",
      "Wahoowah!\n",
      "Wahoowah!\n",
      "Wahoowah!\n",
      "Wahoowah!\n",
      "Total Wahoowah!: 6\n"
     ]
    }
   ],
   "source": [
    "wahoowah_count = 0\n",
    "number = 1 \n",
    "\n",
    "while number <101:\n",
    "    if number % 3 == 0 and number % 5 == 0:\n",
    "        print(\"Wahoowah!\")\n",
    "        wahoowah_count+=1\n",
    "        \n",
    "    number+=1\n",
    "        \n",
    "print(f\"Total Wahoowah!: {wahoowah_count}\")"
   ]
  },
  {
   "cell_type": "code",
   "execution_count": 9,
   "id": "bcf6d5b3-22aa-4bec-9a7d-433b912f1e5b",
   "metadata": {
    "tags": []
   },
   "outputs": [
    {
     "name": "stdout",
     "output_type": "stream",
     "text": [
      "[0, 0, 1, 0, 1, 1, 0, 0, 1, 1, 0, 1, 0, 0, 1, 0, 0, 1, 0, 1, 1, 0, 0, 1, 1, 0, 1, 0, 0, 1, 0, 0, 1, 0, 1, 1, 0, 0, 1, 1, 0, 1, 0, 0, 1, 0, 0, 1, 0, 1, 1, 0, 0, 1, 1, 0, 1, 0, 0, 1, 0, 0, 1, 0, 1, 1, 0, 0, 1, 1, 0, 1, 0, 0, 1, 0, 0, 1, 0, 1, 1, 0, 0, 1, 1, 0, 1, 0, 0, 1, 0, 0, 1, 0, 1, 1, 0, 0, 1, 1]\n",
      "Sum: [47]\n"
     ]
    }
   ],
   "source": [
    "list = [(number % 3 == 0 and number % 5 != 0) + (number % 5 == 0 and number % 3 != 0) + (number % 3 == 0 and number % 5 == 0) \n",
    "     for number in range(1, 101)\n",
    "]\n",
    "\n",
    "total_sum = sum(list)\n",
    "print(list)\n",
    "print(f\"Sum: [{total_sum}]\")"
   ]
  },
  {
   "cell_type": "code",
   "execution_count": null,
   "id": "af70e10a-0639-4720-8b35-1b13251a4828",
   "metadata": {},
   "outputs": [],
   "source": []
  },
  {
   "cell_type": "code",
   "execution_count": null,
   "id": "9099f78b-4624-4110-b7be-8177c0f81fe9",
   "metadata": {},
   "outputs": [],
   "source": []
  },
  {
   "cell_type": "code",
   "execution_count": null,
   "id": "5b4d953e-e2ea-4383-8fd9-4f9f9d0aa142",
   "metadata": {},
   "outputs": [],
   "source": []
  },
  {
   "cell_type": "code",
   "execution_count": null,
   "id": "2b8c80c8-6d18-499b-ab31-10b0d4cef7f4",
   "metadata": {},
   "outputs": [],
   "source": []
  },
  {
   "cell_type": "code",
   "execution_count": null,
   "id": "c080201c-96fe-4990-9524-e19cbc53d7f8",
   "metadata": {},
   "outputs": [],
   "source": []
  },
  {
   "cell_type": "code",
   "execution_count": null,
   "id": "7381cbea-b164-4c20-aff8-042f20699d90",
   "metadata": {},
   "outputs": [],
   "source": []
  },
  {
   "cell_type": "code",
   "execution_count": null,
   "id": "63740f74-e3cd-4dc7-b24d-e9e3f2e673c8",
   "metadata": {},
   "outputs": [],
   "source": []
  },
  {
   "cell_type": "code",
   "execution_count": null,
   "id": "41aa94b0-ec9f-4d01-9c50-94e972eadfba",
   "metadata": {},
   "outputs": [],
   "source": []
  }
 ],
 "metadata": {
  "kernelspec": {
   "display_name": "Python 3 (ipykernel)",
   "language": "python",
   "name": "python3"
  },
  "language_info": {
   "codemirror_mode": {
    "name": "ipython",
    "version": 3
   },
   "file_extension": ".py",
   "mimetype": "text/x-python",
   "name": "python",
   "nbconvert_exporter": "python",
   "pygments_lexer": "ipython3",
   "version": "3.11.4"
  }
 },
 "nbformat": 4,
 "nbformat_minor": 5
}
