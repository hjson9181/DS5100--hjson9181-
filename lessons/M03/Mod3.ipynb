{
 "cells": [
  {
   "cell_type": "raw",
   "id": "62aaf9e9-7d04-4abb-887b-33130e5f461c",
   "metadata": {},
   "source": [
    "Exercise 3"
   ]
  },
  {
   "cell_type": "code",
   "execution_count": null,
   "id": "72a5294f-0104-401d-8eab-28899b66b6ab",
   "metadata": {},
   "outputs": [],
   "source": [
    "Exercise 3.1 nothing. use 'else' to fix. \n",
    "\n",
    "else: \n",
    "    print('bucket 4')"
   ]
  },
  {
   "cell_type": "code",
   "execution_count": 12,
   "id": "f3134ca5-e77a-4e97-8c3b-cffde0c07a63",
   "metadata": {
    "tags": []
   },
   "outputs": [
    {
     "name": "stdout",
     "output_type": "stream",
     "text": [
      "8\n",
      "max_val\n",
      "8\n",
      "8\n",
      "8\n"
     ]
    }
   ],
   "source": [
    "xx=[-2,8,0,5,6]\n",
    "max_val=max(xx)\n",
    "\n",
    "for x in xx:\n",
    "    if x < max_val:\n",
    "        print(max_val)\n",
    "    else:\n",
    "        print(\"max_val\")"
   ]
  },
  {
   "cell_type": "code",
   "execution_count": 5,
   "id": "0d0cee6c-905a-48ef-9142-077276584809",
   "metadata": {
    "tags": []
   },
   "outputs": [
    {
     "name": "stdout",
     "output_type": "stream",
     "text": [
      "0\n",
      "10\n",
      "20\n",
      "30\n",
      "40\n",
      "50\n",
      "60\n",
      "70\n",
      "80\n",
      "90\n"
     ]
    }
   ],
   "source": [
    "it=0\n",
    "max_iter=100\n",
    "while it<max_iter:\n",
    "    if (it==0) or (it%10==0):  \n",
    "        print(it)\n",
    "    it+=1    "
   ]
  },
  {
   "cell_type": "code",
   "execution_count": 8,
   "id": "f31313ff-3b18-4f37-864a-43bc12567b48",
   "metadata": {
    "tags": []
   },
   "outputs": [
    {
     "name": "stdout",
     "output_type": "stream",
     "text": [
      "data\n",
      "intro\n",
      "exit\n",
      "entry\n"
     ]
    }
   ],
   "source": [
    "nouns = ['DATA','INTRO','EXIT','ENTRY']\n",
    "\n",
    "for noun in nouns:\n",
    "    print(noun.lower())"
   ]
  },
  {
   "cell_type": "code",
   "execution_count": 10,
   "id": "2c8b8057-5073-4827-951d-f37f100147b4",
   "metadata": {
    "tags": []
   },
   "outputs": [
    {
     "name": "stdout",
     "output_type": "stream",
     "text": [
      "DATA\n",
      "INTRO\n",
      "EXIT\n",
      "ENTRY\n"
     ]
    }
   ],
   "source": [
    "mynouns=iter(nouns)\n",
    "print(next(mynouns))\n",
    "print(next(mynouns))\n",
    "print(next(mynouns))\n",
    "print(next(mynouns))"
   ]
  },
  {
   "cell_type": "code",
   "execution_count": 13,
   "id": "78f9f4a8-d49a-432f-98be-6bc1013bf14c",
   "metadata": {
    "tags": []
   },
   "outputs": [
    {
     "name": "stdout",
     "output_type": "stream",
     "text": [
      "DATA\n",
      "INTRO\n",
      "EXIT\n",
      "ENTRY\n"
     ]
    }
   ],
   "source": [
    "for noun in iter(nouns):\n",
    "    print(noun)"
   ]
  },
  {
   "cell_type": "code",
   "execution_count": 17,
   "id": "cd0f1997-4642-4471-a0dd-bb60d708dcdd",
   "metadata": {
    "tags": []
   },
   "outputs": [
    {
     "name": "stdout",
     "output_type": "stream",
     "text": [
      "fairfax 10201\n",
      "arlington 30541\n"
     ]
    }
   ],
   "source": [
    "city_zip = {'fairfax':10201,'arlington':30541}\n",
    "for city, zipcode in city_zip.items ():\n",
    "    print(city, zipcode)"
   ]
  },
  {
   "cell_type": "code",
   "execution_count": 19,
   "id": "04d5a953-2d18-4b2a-b99f-56bf9126a639",
   "metadata": {
    "tags": []
   },
   "outputs": [
    {
     "name": "stdout",
     "output_type": "stream",
     "text": [
      "fairfax 10201\n",
      "arlington 30541\n"
     ]
    }
   ],
   "source": [
    "for k, v in city_zip.items():\n",
    "    print(k, v)"
   ]
  },
  {
   "cell_type": "code",
   "execution_count": null,
   "id": "f2611d3c-dc57-41b4-a986-0f54875d84f3",
   "metadata": {},
   "outputs": [],
   "source": []
  }
 ],
 "metadata": {
  "kernelspec": {
   "display_name": "Python 3 (ipykernel)",
   "language": "python",
   "name": "python3"
  },
  "language_info": {
   "codemirror_mode": {
    "name": "ipython",
    "version": 3
   },
   "file_extension": ".py",
   "mimetype": "text/x-python",
   "name": "python",
   "nbconvert_exporter": "python",
   "pygments_lexer": "ipython3",
   "version": "3.11.4"
  }
 },
 "nbformat": 4,
 "nbformat_minor": 5
}
